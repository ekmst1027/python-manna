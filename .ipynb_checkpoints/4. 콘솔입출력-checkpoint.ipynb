{
 "cells": [
  {
   "cell_type": "code",
   "execution_count": 1,
   "metadata": {},
   "outputs": [
    {
     "name": "stdout",
     "output_type": "stream",
     "text": [
      "입력하세요.100\n",
      "결과: 100\n",
      "<class 'str'>\n"
     ]
    }
   ],
   "source": [
    "a = input(\"입력하세요.\")\n",
    "print(\"결과:\", a)\n",
    "# 입력값의 자료형은 스트링\n",
    "print(type(a))"
   ]
  },
  {
   "cell_type": "code",
   "execution_count": 3,
   "metadata": {},
   "outputs": [
    {
     "name": "stdout",
     "output_type": "stream",
     "text": [
      "단을 입력하세요 : 5\n",
      "<class 'str'>\n",
      "단을 입력하세요: 5\n",
      "<class 'int'>\n"
     ]
    }
   ],
   "source": [
    "dan = input(\"단을 입력하세요 : \")\n",
    "print(type(dan)) # 입력값은 스트링으로 저장됨\n",
    "# eval() 함수로 감싸면 숫자로 처리됨\n",
    "dan = eval(input(\"단을 입력하세요: \"))\n",
    "print(type(dan))"
   ]
  },
  {
   "cell_type": "code",
   "execution_count": 4,
   "metadata": {},
   "outputs": [
    {
     "name": "stdout",
     "output_type": "stream",
     "text": [
      "단을 입력하세요 : 5\n",
      "<class 'int'>\n"
     ]
    }
   ],
   "source": [
    "dan = input(\"단을 입력하세요 : \")\n",
    "d = int(dan)\n",
    "print(type(d))"
   ]
  },
  {
   "cell_type": "code",
   "execution_count": 8,
   "metadata": {},
   "outputs": [
    {
     "name": "stdout",
     "output_type": "stream",
     "text": [
      "단을 입력하세요 : 5\n",
      "<class 'str'>\n",
      "<class 'int'>\n",
      "5 x 1 = 5\n",
      "5 x 1 = 5\n",
      "5 x 2 = 55\n",
      "5 x 2 = 10\n",
      "5 x 3 = 555\n",
      "5 x 3 = 15\n",
      "5 x 4 = 5555\n",
      "5 x 4 = 20\n",
      "5 x 5 = 55555\n",
      "5 x 5 = 25\n",
      "5 x 6 = 555555\n",
      "5 x 6 = 30\n",
      "5 x 7 = 5555555\n",
      "5 x 7 = 35\n",
      "5 x 8 = 55555555\n",
      "5 x 8 = 40\n",
      "5 x 9 = 555555555\n",
      "5 x 9 = 45\n"
     ]
    }
   ],
   "source": [
    "dan = input(\"단을 입력하세요 : \")\n",
    "print(type(dan)) # 스트링\n",
    "d = int(dan) # int(스트링) => 스트링을 숫자로\n",
    "print(type(d))\n",
    "for i in range(1, 10):\n",
    "#     print(dan, \"x\", i, \"=\", dan*i)\n",
    "    print(dan, \"x\", i, \"=\", d*i)"
   ]
  },
  {
   "cell_type": "code",
   "execution_count": null,
   "metadata": {},
   "outputs": [],
   "source": []
  }
 ],
 "metadata": {
  "kernelspec": {
   "display_name": "Python 3",
   "language": "python",
   "name": "python3"
  },
  "language_info": {
   "codemirror_mode": {
    "name": "ipython",
    "version": 3
   },
   "file_extension": ".py",
   "mimetype": "text/x-python",
   "name": "python",
   "nbconvert_exporter": "python",
   "pygments_lexer": "ipython3",
   "version": "3.6.7"
  }
 },
 "nbformat": 4,
 "nbformat_minor": 2
}
