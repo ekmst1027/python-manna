{
 "cells": [
  {
   "cell_type": "code",
   "execution_count": 1,
   "metadata": {},
   "outputs": [
    {
     "name": "stdout",
     "output_type": "stream",
     "text": [
      "['A', '001-1001', '2341', '500000', '14-01-20']\n",
      "['A', '001-1001', '2341', '500000', '14-01-20']\n",
      "['A', '001-1001', '5467', '750000', '14-01-20']\n",
      "['A', '001-1001', '5467', '750000', '14-01-20']\n",
      "['B', '50-9501', '7009', '250000', '18-01-30']\n",
      "['B', '50-9501', '7009', '250000', '18-01-30']\n",
      "['B', '50-9505', '6650', '125000', '17-02-03']\n",
      "['B', '50-9505', '6650', '125000', '17-02-03']\n",
      "['C', '920-4803', '3321', '615000', '17-02-03']\n",
      "['C', '920-4804', '3321', '615000', '17-02-10']\n",
      "['C', '920-4805', '3321', '615000', '17-02-17']\n",
      "['C', '920-4806', '3321', '615000', '17-02-24']\n"
     ]
    }
   ],
   "source": [
    "# csv 파일을 읽어서 mysql 테이블에 insert\n",
    "# mysqlclient 패키지를 미리 설치해야 함\n",
    "# pip install mysqlclient\n",
    "\n",
    "# csv 파일 처리 관련 모듈\n",
    "import csv\n",
    "# MySQL 연동을 위한 모듈\n",
    "import MySQLdb\n",
    "from datetime import datetime, date\n",
    "\n",
    "# csv 파일의 경로\n",
    "input_file = './source/database/input.csv'\n",
    "\n",
    "# mysql server에 접속\n",
    "conn = MySQLdb.connect(host='localhost', port=3306, db='sample', user='root', passwd=pw)\n",
    "cursor = conn.cursor()\n",
    "\n",
    "# 레코드 삭제\n",
    "sql = \"delete from suppliers\"\n",
    "cursor.execute(sql)\n",
    "conn.commit()\n",
    "\n",
    "# csv 파일을 로딩(필드 구분자는 쉼표)\n",
    "file_reader = csv.reader(open(input_file, 'r'), delimiter=',')\n",
    "\n",
    "# 제목행을 읽음\n",
    "header = next(file_reader)\n",
    "for row in file_reader:\n",
    "    data = [] # 빈 리스트 (1개의 레코드를 저장하는 리스트)\n",
    "    for idx in range(len(header)):\n",
    "        # 0, 1, 2, 3 필드\n",
    "        if idx < 4: # 날짜 필드(인덱스 4번)가 아닌 경우\n",
    "            data.append(str(row[idx]).replace(',', '').strip())\n",
    "        else: # 날짜 필드인 경우\n",
    "            # strptime(문자열, 형식) : 문자열을 날짜로\n",
    "            a_date = datetime.date(datetime.strptime(str(row[idx]), '%Y-%m-%d'))\n",
    "            # %Y: 네자리 연도, %y : 2자리 연도\n",
    "            # 날짜.strftime(\"형식\") : 날짜를 스트링으로\n",
    "            a_date = a_date.strftime('%y-%m-%d')\n",
    "            data.append(a_date)\n",
    "    print(data)\n",
    "    cursor.execute('INSERT INTO suppliers VALUES (%s, %s, %s, %s, %s)', data)\n",
    "conn.commit()"
   ]
  },
  {
   "cell_type": "code",
   "execution_count": 2,
   "metadata": {},
   "outputs": [
    {
     "name": "stdout",
     "output_type": "stream",
     "text": [
      "['A', '001-1001', '2341', '500000.0', '2014-01-20']\n",
      "['A', '001-1001', '2341', '500000.0', '2014-01-20']\n",
      "['A', '001-1001', '5467', '750000.0', '2014-01-20']\n",
      "['A', '001-1001', '5467', '750000.0', '2014-01-20']\n",
      "['B', '50-9501', '7009', '250000.0', '2018-01-30']\n",
      "['B', '50-9501', '7009', '250000.0', '2018-01-30']\n",
      "['B', '50-9505', '6650', '125000.0', '2017-02-03']\n",
      "['B', '50-9505', '6650', '125000.0', '2017-02-03']\n",
      "['C', '920-4803', '3321', '615000.0', '2017-02-03']\n",
      "['C', '920-4804', '3321', '615000.0', '2017-02-10']\n",
      "['C', '920-4805', '3321', '615000.0', '2017-02-17']\n",
      "['C', '920-4806', '3321', '615000.0', '2017-02-24']\n"
     ]
    }
   ],
   "source": [
    "# sql 실행\n",
    "cursor.execute(\"select * from suppliers\")\n",
    "\n",
    "# 실행 결과를 2차원 튜플로 받아옴\n",
    "rows = cursor.fetchall()\n",
    "\n",
    "# print(rows)\n",
    "# 모든 행을 반복하면서 출력 처리\n",
    "for row in rows:\n",
    "    output = [] # 레코드 1개를 저장할 빈 리스트\n",
    "    for idx in range(len(row)):\n",
    "        output.append(str(row[idx]))\n",
    "    print(output)"
   ]
  },
  {
   "cell_type": "code",
   "execution_count": 3,
   "metadata": {},
   "outputs": [
    {
     "name": "stdout",
     "output_type": "stream",
     "text": [
      "저장되었습니다.\n"
     ]
    }
   ],
   "source": [
    "# 테이블 검색, 결과물을 csv 파일로 출력\n",
    "import csv\n",
    "import MySQLdb\n",
    "\n",
    "# MySQL의 실행결과를 저장할 csv 파일의 경로\n",
    "output_file = './source/database/mysql_output.csv'\n",
    "conn = MySQLdb.connect(host='localhost', port=3306, db='sample', user='root', passwd=pw)\n",
    "cursor = conn.cursor()\n",
    "\n",
    "# file writer 생성 및 제목행 출력\n",
    "filewriter = csv.writer(open(output_file, 'w', newline=''), delimiter = ',')\n",
    "\n",
    "header = ['Supplier Name', 'Invoice Number', 'Part Number', 'Cost', 'Purchase Date']\n",
    "filewriter.writerow(header)\n",
    "\n",
    "# sql 실행, 각각의 행을 파일에 출력\n",
    "cursor.execute('SELECT * FROM Suppliers WHERE Cost > 500000')\n",
    "rows = cursor.fetchall()\n",
    "for row in rows:\n",
    "    filewriter.writerow(row)\n",
    "    \n",
    "print(\"저장되었습니다.\")"
   ]
  }
 ],
 "metadata": {
  "kernelspec": {
   "display_name": "Python 3",
   "language": "python",
   "name": "python3"
  },
  "language_info": {
   "codemirror_mode": {
    "name": "ipython",
    "version": 3
   },
   "file_extension": ".py",
   "mimetype": "text/x-python",
   "name": "python",
   "nbconvert_exporter": "python",
   "pygments_lexer": "ipython3",
   "version": "3.7.1"
  }
 },
 "nbformat": 4,
 "nbformat_minor": 2
}
