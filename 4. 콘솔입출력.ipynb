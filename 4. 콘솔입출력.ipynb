{
 "cells": [
  {
   "cell_type": "code",
   "execution_count": 1,
   "metadata": {},
   "outputs": [
    {
     "name": "stdout",
     "output_type": "stream",
     "text": [
      "입력하세요.100\n",
      "결과: 100\n",
      "<class 'str'>\n"
     ]
    }
   ],
   "source": [
    "a = input(\"입력하세요.\")\n",
    "print(\"결과:\", a)\n",
    "# 입력값의 자료형은 스트링\n",
    "print(type(a))"
   ]
  },
  {
   "cell_type": "code",
   "execution_count": 3,
   "metadata": {},
   "outputs": [
    {
     "name": "stdout",
     "output_type": "stream",
     "text": [
      "단을 입력하세요 : 5\n",
      "<class 'str'>\n",
      "단을 입력하세요: 5\n",
      "<class 'int'>\n"
     ]
    }
   ],
   "source": [
    "dan = input(\"단을 입력하세요 : \")\n",
    "print(type(dan)) # 입력값은 스트링으로 저장됨\n",
    "# eval() 함수로 감싸면 숫자로 처리됨\n",
    "dan = eval(input(\"단을 입력하세요: \"))\n",
    "print(type(dan))"
   ]
  },
  {
   "cell_type": "code",
   "execution_count": 4,
   "metadata": {},
   "outputs": [
    {
     "name": "stdout",
     "output_type": "stream",
     "text": [
      "단을 입력하세요 : 5\n",
      "<class 'int'>\n"
     ]
    }
   ],
   "source": [
    "dan = input(\"단을 입력하세요 : \")\n",
    "d = int(dan)\n",
    "print(type(d))"
   ]
  },
  {
   "cell_type": "code",
   "execution_count": 9,
   "metadata": {},
   "outputs": [
    {
     "name": "stdout",
     "output_type": "stream",
     "text": [
      "단을 입력하세요 : 5\n",
      "<class 'str'>\n",
      "<class 'int'>\n",
      "5 x 1 = 5\n",
      "5 x 2 = 10\n",
      "5 x 3 = 15\n",
      "5 x 4 = 20\n",
      "5 x 5 = 25\n",
      "5 x 6 = 30\n",
      "5 x 7 = 35\n",
      "5 x 8 = 40\n",
      "5 x 9 = 45\n"
     ]
    }
   ],
   "source": [
    "dan = input(\"단을 입력하세요 : \")\n",
    "print(type(dan)) # 스트링\n",
    "d = int(dan) # int(스트링) => 스트링을 숫자로\n",
    "print(type(d))\n",
    "for i in range(1, 10):\n",
    "#     print(dan, \"x\", i, \"=\", dan*i)\n",
    "    print(dan, \"x\", i, \"=\", d*i)"
   ]
  },
  {
   "cell_type": "code",
   "execution_count": 11,
   "metadata": {},
   "outputs": [
    {
     "name": "stdout",
     "output_type": "stream",
     "text": [
      "goodmorning\n",
      "goodmorning\n",
      "goodmorning\n",
      "goodmorning\n",
      "good morning\n",
      "0\n",
      "1\n",
      "2\n",
      "3\n",
      "4\n",
      "5\n",
      "6\n",
      "7\n",
      "8\n",
      "9\n",
      "0 1 2 3 4 5 6 7 8 9 "
     ]
    }
   ],
   "source": [
    "# print() 함수\n",
    "# 문자열 연결\n",
    "# 따옴표로 감싼 문자열은 + 연산과 동일하다\n",
    "\n",
    "print(\"good\" \"morning\")  # 연산자가 없어도 문자열이 연결됨\n",
    "print(\"good\"+\"morning\")  # 문자열이 연결됨\n",
    "print('good' 'morning')\n",
    "print('good'+'morning')\n",
    "\n",
    "# 문자열 띄어쓰기는 콤마를 사용한다.\n",
    "print(\"good\", \"morning\")  # 공백이 추가됨\n",
    "\n",
    "# 10줄로 출력됨\n",
    "# range(10) : 0 ~ 9\n",
    "# range(1, 10) : 1 ~ 9\n",
    "for i in range(10):\n",
    "    print(i) # 개행문자가 포함됨\n",
    "    \n",
    "# 한 줄에 출력됨\n",
    "for i in range(10):\n",
    "    print(i, end=' ') # 개행문자가 대신 공백문자 사용"
   ]
  },
  {
   "cell_type": "code",
   "execution_count": 12,
   "metadata": {},
   "outputs": [
    {
     "name": "stdout",
     "output_type": "stream",
     "text": [
      "Hello, Kim.\n"
     ]
    }
   ],
   "source": [
    "# {} 위치에 Kim이 입력되어 출력됨\n",
    "print('Hello, {0}.'.format(\"Kim\"))"
   ]
  },
  {
   "cell_type": "code",
   "execution_count": 13,
   "metadata": {},
   "outputs": [
    {
     "name": "stdout",
     "output_type": "stream",
     "text": [
      "이름을 입력하세요 : Kim\n",
      "Hello, Kim.\n"
     ]
    }
   ],
   "source": [
    "name = input('이름을 입력하세요 : ')\n",
    "print(\"Hello, {0}.\".format(name))"
   ]
  },
  {
   "cell_type": "code",
   "execution_count": 14,
   "metadata": {},
   "outputs": [
    {
     "name": "stdout",
     "output_type": "stream",
     "text": [
      "이름을 입력하세요 : 김철수\n",
      "직업을 입력하세요 : 개발자\n",
      "김철수의 직업은 개발자이다.\n"
     ]
    }
   ],
   "source": [
    "name = input(\"이름을 입력하세요 : \")\n",
    "job = input(\"직업을 입력하세요 : \")\n",
    "print(\"{0}의 직업은 {1}이다.\".format(name, job))"
   ]
  },
  {
   "cell_type": "code",
   "execution_count": 15,
   "metadata": {},
   "outputs": [
    {
     "name": "stdout",
     "output_type": "stream",
     "text": [
      "이름을 입력하세요 : 김철수\n",
      "직업을 입력하세요 : 디자이너\n",
      "김철수의 직업은 디자이너이다.\n"
     ]
    }
   ],
   "source": [
    "name = input(\"이름을 입력하세요 : \")\n",
    "job = input(\"직업을 입력하세요 : \")\n",
    "# 출력 순서를 바꿀 수 있다.\n",
    "print(\"{1}의 직업은 {0}이다.\".format(job, name))"
   ]
  },
  {
   "cell_type": "code",
   "execution_count": 16,
   "metadata": {},
   "outputs": [
    {
     "name": "stdout",
     "output_type": "stream",
     "text": [
      "이름을 입력하세요 : 김철호\n",
      "직업을 입력하세요 : 변호사\n",
      "김철호의 직업은 변호사이다.\n"
     ]
    }
   ],
   "source": [
    "name = input(\"이름을 입력하세요 : \")\n",
    "job = input(\"직업을 입력하세요 : \")\n",
    "# 인덱스 대신 변수명을 쓸 수 있다.\n",
    "print(\"{n}의 직업은 {j}이다.\".format(j=job, n=name))"
   ]
  },
  {
   "cell_type": "code",
   "execution_count": 17,
   "metadata": {},
   "outputs": [
    {
     "name": "stdout",
     "output_type": "stream",
     "text": [
      "3.141592653589793\n",
      "원주율:3.141593\n",
      "원주율:3.14\n"
     ]
    }
   ],
   "source": [
    "import math\n",
    "print(math.pi)\n",
    "print('원주율:{0:f}'.format(math.pi))  # 소수 6째자리까지 출력\n",
    "# 소수 이하 2자리\n",
    "print('원주율:{0:.2f}'.format(math.pi)) # 소수 2째자리까지 출력"
   ]
  },
  {
   "cell_type": "code",
   "execution_count": 18,
   "metadata": {},
   "outputs": [
    {
     "name": "stdout",
     "output_type": "stream",
     "text": [
      "1,234,567,890\n",
      "98%\n",
      "98.15%\n"
     ]
    }
   ],
   "source": [
    "# 천단위 콤마\n",
    "num = 1234567890\n",
    "print('{0:,}'.format(num))\n",
    "# 백분율\n",
    "num = 0.9815\n",
    "print('{0:.0%}'.format(num))\n",
    "print('{0:.2%}'.format(num))"
   ]
  },
  {
   "cell_type": "code",
   "execution_count": null,
   "metadata": {},
   "outputs": [],
   "source": []
  },
  {
   "cell_type": "code",
   "execution_count": null,
   "metadata": {},
   "outputs": [],
   "source": []
  },
  {
   "cell_type": "code",
   "execution_count": null,
   "metadata": {},
   "outputs": [],
   "source": []
  },
  {
   "cell_type": "code",
   "execution_count": null,
   "metadata": {},
   "outputs": [],
   "source": []
  },
  {
   "cell_type": "code",
   "execution_count": null,
   "metadata": {},
   "outputs": [],
   "source": []
  },
  {
   "cell_type": "code",
   "execution_count": null,
   "metadata": {},
   "outputs": [],
   "source": []
  },
  {
   "cell_type": "code",
   "execution_count": null,
   "metadata": {},
   "outputs": [],
   "source": []
  },
  {
   "cell_type": "code",
   "execution_count": null,
   "metadata": {},
   "outputs": [],
   "source": []
  },
  {
   "cell_type": "code",
   "execution_count": null,
   "metadata": {},
   "outputs": [],
   "source": []
  },
  {
   "cell_type": "code",
   "execution_count": null,
   "metadata": {},
   "outputs": [],
   "source": []
  },
  {
   "cell_type": "code",
   "execution_count": null,
   "metadata": {},
   "outputs": [],
   "source": []
  }
 ],
 "metadata": {
  "kernelspec": {
   "display_name": "Python 3",
   "language": "python",
   "name": "python3"
  },
  "language_info": {
   "codemirror_mode": {
    "name": "ipython",
    "version": 3
   },
   "file_extension": ".py",
   "mimetype": "text/x-python",
   "name": "python",
   "nbconvert_exporter": "python",
   "pygments_lexer": "ipython3",
   "version": "3.6.7"
  }
 },
 "nbformat": 4,
 "nbformat_minor": 2
}
