{
 "cells": [
  {
   "cell_type": "markdown",
   "metadata": {},
   "source": [
    "# TensorFlow 기초\n",
    "\n",
    "## 텐서프롤의 특징\n",
    "- 기본적으로 텐서를 활용한 그래프 수치 연산을 하는 도구\n",
    "- 수학적인 의미에서의 그래프 : 노드와 엣지로 구성된 기하 모형\n",
    "- 노드(node) : 연산 및 데이터를 정의하는 것\n",
    "- 엣지(edge) : 노드들을 연결하는 것(데이터의 흐름)\n",
    "- 텐서(Tensor) : 다차원 데이터 배열\n",
    "- 텐서플로 - 텐서가 노드에서 연산되고 엣지를 통해 돌아다닌다\n",
    "\n",
    "## 텐서플로의 기본 문법\n",
    "- Session\n",
    "    - 그래프를 만드는 작업(실행하는 것은 아님)\n",
    "    - 그래프를 만든 이후 Session을 생성하여 실행시켜야 그래프의 시작점부터 모든 연산을 하게 되고 동작을 하게 됨\n",
    "    - Session을 실행시키면 엣지를 통해 데이터들이 출력됨\n",
    "    - 그래프를 만들고(모델링) Session을 만들어 실행시켜야 노드가 엣지를 타고 이동하면서 원하는 형태로 코드가 동작됨\n",
    "\n",
    "- Fetch : 코드에서 데이터값을 미리 정하는 것\n",
    "    - Feed : Placeholder 등을 통해 데이터값 없이 구조를 만들고 세션을 실행할 경우 feed_dict을 통해 데이터를 전달\n",
    "    - placeholder : 노드에 들어갈 데이터의 형식을 미리 정해 놓는 형태\n",
    "\n",
    "- 변수와 상수\n",
    "    - variable : 학습시키면서 최적화하는 변수의 용도로 사용됨(학습과정에서 지속적으로 바뀔 수 있는 중요한 값)\n",
    "    - constant : 상수\n",
    "    - 변수의 선언 : tf.Variable(초기값, 타입)\n",
    "    - 변수의 초기화 \n",
    "        - tf.global_variables_initializer()를 통해 초기화할 수 있음\n",
    "        - 변수는 반드시 초기화를 해야 함\n",
    "        - 초기화는 노드에 값을 입력한다는 의미\n",
    "    - placeholder\n",
    "        - 주로 입력 데이터를 활용하는 용도로 사용됨\n",
    "        - feed_dict을 통해 그래프에 데이터를 흐르게 하기 위한 용도\n",
    "        \n",
    "## 텐서플로의 주요 개념\n",
    "- 오퍼레이션(Operation)\n",
    "    - 그래프 상의 노드\n",
    "    - 하나 이상의 텐서를 받을 수 있음\n",
    "    - 계산을 수행하고 결과를 하나 이상의 텐서로 리턴\n",
    "    \n",
    "- 텐서(Tensor)\n",
    "    - 일종의 다차원 배열\n",
    "    - 내부적으로 모든 데이터는 텐서를 통해 표현됨\n",
    "    - 그래프 내의 오퍼레이션 간에는 텐서만이 전달됨\n",
    "    \n",
    "- 세션(Session)\n",
    "    - 그래프를 실행하기 위해서 필요한 객체\n",
    "    \n",
    "- 변수(Variables)\n",
    "    - 그래프의 실행시 파라미터를 저장하고 갱신하는데 사용됨\n",
    "    - 메모리 상에서 텐서를 저장하는 버퍼 역할"
   ]
  },
  {
   "cell_type": "code",
   "execution_count": 1,
   "metadata": {},
   "outputs": [
    {
     "name": "stdout",
     "output_type": "stream",
     "text": [
      "3.6.8 |Anaconda, Inc.| (default, Dec 29 2018, 19:04:46) \n",
      "[GCC 4.2.1 Compatible Clang 4.0.1 (tags/RELEASE_401/final)]\n",
      "1.13.1\n"
     ]
    }
   ],
   "source": [
    "import tensorflow as tf\n",
    "import sys\n",
    "print(sys.version) # python version\n",
    "print(tf.__version__) # tensorflow version"
   ]
  },
  {
   "cell_type": "code",
   "execution_count": 2,
   "metadata": {},
   "outputs": [
    {
     "name": "stdout",
     "output_type": "stream",
     "text": [
      "Tensor(\"Const:0\", shape=(), dtype=string)\n",
      "Tensor(\"add:0\", shape=(), dtype=int32)\n"
     ]
    }
   ],
   "source": [
    "# 상수 선언\n",
    "hello = tf.constant(\"Hello World\")\n",
    "# 이 순간에 출력되지 않음(텐서플로우 자료형 정보만 출력됨, 그래프 형태만 출력됨)\n",
    "# Session 객체를 만들고 run() method를 호출해야 처리됨\n",
    "# 모델 구성 단계와 실행 단계가 구분됨\n",
    "print(hello)\n",
    "a = tf.constant(10)\n",
    "b = tf.constant(32)\n",
    "# c = tf.add(a, b)\n",
    "c = a + b\n",
    "print(c)"
   ]
  },
  {
   "cell_type": "code",
   "execution_count": 3,
   "metadata": {},
   "outputs": [
    {
     "name": "stdout",
     "output_type": "stream",
     "text": [
      "b'Hello World'\n",
      "Hello World\n",
      "[10, 32, 42]\n"
     ]
    }
   ],
   "source": [
    "# 그래프를 실행할 세션을 생성\n",
    "sess = tf.Session()\n",
    "# 세션.run() : 텐서 그래프(변수, 수식)를 실행\n",
    "# 문자열은 unicode가 기본이기에 str() 함수로 encoding 처리를 해야\n",
    "# bytes type이 아닌 Unicode type으로 변환됨\n",
    "print(sess.run(hello))\n",
    "print(str(sess.run(hello), encoding = \"utf-8\"))\n",
    "print(sess.run([a, b, c]))\n",
    "# 세션 종료\n",
    "sess.close()"
   ]
  },
  {
   "cell_type": "code",
   "execution_count": 4,
   "metadata": {},
   "outputs": [
    {
     "name": "stdout",
     "output_type": "stream",
     "text": [
      "node3: Tensor(\"Add_1:0\", shape=(), dtype=float32)\n",
      "sess.run(node3): 7.0\n"
     ]
    }
   ],
   "source": [
    "node1 = tf.constant(3.0)\n",
    "node2 = tf.constant(4.0)\n",
    "node3 = tf.add(node1, node2)\n",
    "with tf.Session() as sess:\n",
    "    print(\"node3:\", node3)\n",
    "    print(\"sess.run(node3):\", sess.run(node3))"
   ]
  },
  {
   "cell_type": "code",
   "execution_count": 5,
   "metadata": {},
   "outputs": [
    {
     "name": "stdout",
     "output_type": "stream",
     "text": [
      "15.0\n",
      "0.0\n",
      "[12.]\n"
     ]
    }
   ],
   "source": [
    "# 플레이스홀더 : 그래프의 입력 변수\n",
    "input01 = tf.placeholder(tf.float32)\n",
    "input02 = tf.placeholder(tf.float32)\n",
    "output = tf.multiply(input01, input02)\n",
    "with tf.Session() as sess:\n",
    "    print(sess.run(output, feed_dict={input01:3.0, input02:5.0}))\n",
    "    print(sess.run(output, feed_dict={input01:0.0, input02:6.0}))\n",
    "    print(sess.run(output, feed_dict={input01:[2.0], input02:[6.0]}))\n",
    "\n",
    "# 같은 그래프 구조에 feed_dict = {} 구문을 활용하여 데이터를 입력\n",
    "# 데이터에 따른 다른 실행 결과를 확인할 수 있음"
   ]
  },
  {
   "cell_type": "code",
   "execution_count": 6,
   "metadata": {},
   "outputs": [
    {
     "name": "stdout",
     "output_type": "stream",
     "text": [
      "WARNING:tensorflow:From /Users/kyeongmin/anaconda3/envs/django/lib/python3.6/site-packages/tensorflow/python/framework/op_def_library.py:263: colocate_with (from tensorflow.python.framework.ops) is deprecated and will be removed in a future version.\n",
      "Instructions for updating:\n",
      "Colocations handled automatically by placer.\n",
      "[0.21000001 0.51000005 0.81000006 1.11      ] <class 'numpy.ndarray'>\n",
      "[0.21000001 0.51000005 0.81000006 1.11      ] <class 'numpy.ndarray'>\n"
     ]
    }
   ],
   "source": [
    "# 텐서플로의 변수 선언\n",
    "W = tf.Variable([.3], dtype=tf.float32)\n",
    "b = tf.Variable([-.3], dtype=tf.float32)\n",
    "x = tf.placeholder(tf.float32)\n",
    "linear_model = tf.multiply(W, tf.add(x,b))\n",
    "\n",
    "# 변수를 초기화\n",
    "init = tf.global_variables_initializer()\n",
    "\n",
    "# 세션 시작\n",
    "with tf.Session() as sess:\n",
    "    sess.run(init)\n",
    "    result = sess.run(linear_model, feed_dict = {x: [1, 2, 3, 4]})\n",
    "    \n",
    "print(result, type(result))\n",
    "\n",
    "# x의 값에 따라 linear_model 계산\n",
    "# 결과를 numpy.ndarray로 리턴\n",
    "x = tf.placeholder(tf.float32)\n",
    "linear_model = tf.multiply(W, tf.add(x,b))\n",
    "init = tf.global_variables_initializer()\n",
    "with tf.Session() as sess:\n",
    "    sess.run(init)\n",
    "    result = sess.run(linear_model, feed_dict={x: [1, 2, 3, 4]})\n",
    "    \n",
    "print(result, type(result))"
   ]
  },
  {
   "cell_type": "code",
   "execution_count": 7,
   "metadata": {},
   "outputs": [
    {
     "name": "stdout",
     "output_type": "stream",
     "text": [
      "Tensor(\"Placeholder_4:0\", shape=(?, 3), dtype=float32)\n",
      "[[1, 2, 3], [4, 5, 6]]\n",
      "[[-1.0942562  -0.16240121]\n",
      " [ 0.03291985 -0.99988663]\n",
      " [-0.09245674  1.6286752 ]]\n",
      "[[-1.6934958]\n",
      " [ 1.0859917]]\n",
      "[[-2.9992824  1.0303552]\n",
      " [-3.6811738  5.209005 ]]\n"
     ]
    }
   ],
   "source": [
    "# 플레이스홀더와 변수의 개념\n",
    "# tf.placeholder : 계산을 실행할 때 입력값을 받는 변수\n",
    "# None : 크기가 정해지지 않았음을 의미\n",
    "X = tf.placeholder(tf.float32, [None, 3])\n",
    "print(X)\n",
    "\n",
    "# X 플레이스홀더에 넣을 값\n",
    "# 두번째 차원의 요소의 갯수는 3개\n",
    "x_data = [[1, 2, 3], [4, 5, 6]]\n",
    "\n",
    "# tf.Variable() : 그래프를 계산하면서 최적화할 변수\n",
    "# tf.random_normal() : 각 변수들의 초기값을 정규분포 랜덤값으로 초기화\n",
    "W = tf.Variable(tf.random_normal([3, 2]))\n",
    "b = tf.Variable(tf.random_normal([2, 1]))\n",
    "\n",
    "# 입력값과 변수들을 계산할 수식 작성\n",
    "# tf.matmul 처럼 mat으로 시작하는 함수로 행렬 계산 수행\n",
    "# 행렬 곱셈\n",
    "expr = tf.matmul(X, W) + b\n",
    "sess = tf.Session()\n",
    "\n",
    "# 변수 초기화\n",
    "sess.run(tf.global_variables_initializer())\n",
    "\n",
    "print(x_data)\n",
    "print(sess.run(W))\n",
    "print(sess.run(b))\n",
    "\n",
    "# 수식에 값을 전달하는 방법\n",
    "# 세션.run(수식, feed_dict={변수: 값})\n",
    "print(sess.run(expr, feed_dict={X: x_data}))\n",
    "# 세션 종료\n",
    "sess.close()"
   ]
  },
  {
   "cell_type": "code",
   "execution_count": 8,
   "metadata": {},
   "outputs": [],
   "source": [
    "# 구구단 예제\n",
    "def gugu(dan):\n",
    "    # 플레이스홀더 선언(그래프에 입력할 변수)\n",
    "    left = tf.placeholder(tf.int32)\n",
    "    right = tf.placeholder(tf.int32)\n",
    "    \n",
    "    # 그래프의 수식\n",
    "    calc = tf.multiply(left, right)\n",
    "    \n",
    "    with tf.Session() as sess: # 세션이 생성됨\n",
    "        # 변수 초기화\n",
    "        sess.run(tf.global_variables_initializer())\n",
    "        \n",
    "        for i in range(1, 10):\n",
    "            # 세션.run(실행할함수, feed_dict={변수: 입력할값})\n",
    "            result = sess.run(calc, feed_dict={left: dan, right: i})\n",
    "            print(\"{0} X {1} = {2:2}\".format(dan, i, result))\n"
   ]
  },
  {
   "cell_type": "code",
   "execution_count": 9,
   "metadata": {},
   "outputs": [
    {
     "name": "stdout",
     "output_type": "stream",
     "text": [
      "7 X 1 =  7\n",
      "7 X 2 = 14\n",
      "7 X 3 = 21\n",
      "7 X 4 = 28\n",
      "7 X 5 = 35\n",
      "7 X 6 = 42\n",
      "7 X 7 = 49\n",
      "7 X 8 = 56\n",
      "7 X 9 = 63\n"
     ]
    }
   ],
   "source": [
    "gugu(7)"
   ]
  },
  {
   "cell_type": "code",
   "execution_count": 10,
   "metadata": {},
   "outputs": [],
   "source": [
    "from matplotlib import pyplot as plt\n",
    "from matplotlib import rc\n",
    "\n",
    "\n",
    "# 한글 처리를 위해 폰트 설정\n",
    "rc('font', family='AppleGothic')\n",
    "# 음수 부호가 깨지지 않도록 설정\n",
    "plt.rcParams['axes.unicode_minus'] = False"
   ]
  },
  {
   "cell_type": "code",
   "execution_count": 11,
   "metadata": {},
   "outputs": [],
   "source": [
    "# 파라미터 설정(실험을 통해 구해야 하는 값)\n",
    "learning_rate = 0.01 # 학습률\n",
    "epochs = 1000 # 학습횟수\n",
    "step_display = 50 # 진행 상태를 출력할 단계"
   ]
  },
  {
   "cell_type": "code",
   "execution_count": 12,
   "metadata": {},
   "outputs": [],
   "source": [
    "# 회귀분석 : 전기생산량과 소비량\n",
    "# 월별 전기생산금액(억원)\n",
    "x = [3.52, 2.58, 3.31, 4.07, 4.62, 3.98, 4.29, 4.83, 3.71, 4.61, 3.90, 3.20]\n",
    "# 월별 전기 사용량(백만kwh)\n",
    "y = [2.48, 2.27, 2.47, 2.77, 2.98, 3.05, 3.18, 3.46, 3.03, 3.25, 2.67, 2.53]"
   ]
  },
  {
   "cell_type": "code",
   "execution_count": 13,
   "metadata": {},
   "outputs": [],
   "source": [
    "# 가중치(weight)와 절편(bias)\n",
    "# tf.random_uniform([1] 변수의 형태, -1.0 최솟값, 1.0 최댓값) 무작위수\n",
    "# -1.0 ~ 1.0 사이의 값 생성\n",
    "# name: 값의 변화를 추적하거나 살펴보기 쉽게 하기 위해 이름을 붙임\n",
    "weight = tf.Variable(tf.random_uniform([1], -1.0, 1.0), name=\"weight\")\n",
    "bias = tf.Variable(tf.random_uniform([1], -1.0, 1.0), name=\"bias\")"
   ]
  },
  {
   "cell_type": "code",
   "execution_count": 14,
   "metadata": {},
   "outputs": [],
   "source": [
    "# placeholder : 학습용 데이터를 담는 그릇\n",
    "# 그래프에서 x(입력값)을 저장하는 저장소\n",
    "# placeholder(dtype, shape, name) : 자료형, 행렬의 차원, placeholder의 이름\n",
    "# 그래프를 구축할 때는 메모리에 저장하지 않고\n",
    "# 그래프를 실행할 때 피드하면서 메모리에 저장됨\n",
    "X = tf.placeholder(dtype=tf.float32, name=\"X\")\n",
    "Y = tf.placeholder(dtype=tf.float32, name=\"Y\")"
   ]
  },
  {
   "cell_type": "code",
   "execution_count": 15,
   "metadata": {},
   "outputs": [],
   "source": [
    "# X와 Y의 상관 관계를 분석하기 위한 가설 수식 작성\n",
    "# y = W * x + b\n",
    "# W와 X가 행렬이 아니므로 tf.matmul이 아니라 기본 곱셈 기호를 사용\n",
    "h0 = weight * X + bias"
   ]
  },
  {
   "cell_type": "code",
   "execution_count": 16,
   "metadata": {},
   "outputs": [
    {
     "name": "stdout",
     "output_type": "stream",
     "text": [
      "WARNING:tensorflow:From /Users/kyeongmin/anaconda3/envs/django/lib/python3.6/site-packages/tensorflow/python/ops/math_ops.py:3066: to_int32 (from tensorflow.python.ops.math_ops) is deprecated and will be removed in a future version.\n",
      "Instructions for updating:\n",
      "Use tf.cast instead.\n"
     ]
    }
   ],
   "source": [
    "y_pred = tf.add(tf.multiply(weight, X), bias)\n",
    "# 손실함수(비용함수) : 예측값과 실제값의 거리를 계산하는 함수\n",
    "cost = tf.reduce_mean(tf.square(y_pred - Y))\n",
    "# 비용을 최소화시킴\n",
    "# AdamOptimizer : 현존하는 알고리즘 중에서 가장 성능이 뛰어나다고 함\n",
    "optimizer = tf.train.AdamOptimizer(learning_rate).minimize(cost)"
   ]
  },
  {
   "cell_type": "code",
   "execution_count": 17,
   "metadata": {},
   "outputs": [],
   "source": [
    "# 변수 초기화\n",
    "init = tf.global_variables_initializer()\n",
    "# 세션 생성 및 시작\n",
    "sess = tf.Session()\n",
    "sess.run(init)"
   ]
  },
  {
   "cell_type": "code",
   "execution_count": 18,
   "metadata": {},
   "outputs": [
    {
     "name": "stdout",
     "output_type": "stream",
     "text": [
      "Epoch:50, cost:0.29032227396965027, weight:[0.5112012], bias:[0.36933303]\n",
      "Epoch:100, cost:0.030613908544182777, weight:[0.611903], bias:[0.47398162]\n",
      "Epoch:150, cost:0.03027772344648838, weight:[0.6074812], bias:[0.4756847]\n",
      "Epoch:200, cost:0.030145572498440742, weight:[0.60602784], bias:[0.4814592]\n",
      "Epoch:250, cost:0.029997846111655235, weight:[0.60437924], bias:[0.4879999]\n",
      "Epoch:300, cost:0.029837453737854958, weight:[0.60256255], bias:[0.49521273]\n",
      "Epoch:350, cost:0.029666811227798462, weight:[0.6005948], bias:[0.5030191]\n",
      "Epoch:400, cost:0.029488081112504005, weight:[0.5984937], bias:[0.5113553]\n",
      "Epoch:450, cost:0.029303064569830894, weight:[0.5962735], bias:[0.5201643]\n",
      "Epoch:500, cost:0.02911352552473545, weight:[0.5939471], bias:[0.5293941]\n",
      "Epoch:550, cost:0.02892097271978855, weight:[0.5915266], bias:[0.53899777]\n",
      "Epoch:600, cost:0.028726851567626, weight:[0.58902305], bias:[0.5489307]\n",
      "Epoch:650, cost:0.028532445430755615, weight:[0.58644724], bias:[0.5591504]\n",
      "Epoch:700, cost:0.028338953852653503, weight:[0.5838092], bias:[0.56961703]\n",
      "Epoch:750, cost:0.028147459030151367, weight:[0.58111864], bias:[0.5802919]\n",
      "Epoch:800, cost:0.027958953753113747, weight:[0.578385], bias:[0.5911381]\n",
      "Epoch:850, cost:0.02777431346476078, weight:[0.575617], bias:[0.6021203]\n",
      "Epoch:900, cost:0.027594318613409996, weight:[0.5728235], bias:[0.61320364]\n",
      "Epoch:950, cost:0.02741965465247631, weight:[0.57001287], bias:[0.6243547]\n",
      "Epoch:1000, cost:0.02725091576576233, weight:[0.5671932], bias:[0.6355416]\n"
     ]
    }
   ],
   "source": [
    "# optimizer와 cost를 그래프에서 계산\n",
    "# 계산을 위해 필요한 값은 feed_dict을 통해 전달함\n",
    "# placeholder인 x, y에 데이터를 계속 넣어줄 자료를 작성해줍니다.\n",
    "# cost 계산 : 정해진 데이터셋에서 한 샘플씩 불러와서 cost를 계산.\n",
    "# optimizer 계산 : cost로 부터 error를 계산 후,\n",
    "# 모델에 대한 편미분을 자동으로 계산해주는 과정을 이용하여 모델 W, b를 수정\n",
    "for epoch in range(epochs):\n",
    "    _, cost_val = sess.run([optimizer, cost], feed_dict={X: x, Y: y})\n",
    "    if(epoch+1) % step_display == 0:\n",
    "        print(\"Epoch:{0}, cost:{1}, weight:{2}, bias:{3}\".format(\\\n",
    "epoch+1, cost_val, sess.run(weight), sess.run(bias)))"
   ]
  },
  {
   "cell_type": "code",
   "execution_count": 19,
   "metadata": {},
   "outputs": [
    {
     "name": "stdout",
     "output_type": "stream",
     "text": [
      "최종 cost: 0.027250916\n",
      "정확도: 99.97274908423424\n",
      "최종 가중치 [0.5671932]\n",
      "최종 절편: [0.6355416]\n"
     ]
    }
   ],
   "source": [
    "training_cost = sess.run(cost, feed_dict={X:x, Y:y})\n",
    "print(\"최종 cost:\", cost_val)\n",
    "print(\"정확도:\", 100-cost_val)\n",
    "print(\"최종 가중치\", sess.run(weight))\n",
    "print(\"최종 절편:\", sess.run(bias))"
   ]
  },
  {
   "cell_type": "code",
   "execution_count": 20,
   "metadata": {},
   "outputs": [
    {
     "name": "stdout",
     "output_type": "stream",
     "text": [
      "X: 5, Y: [3.4715078]\n",
      "X: 2.5, Y: [2.0535247]\n"
     ]
    }
   ],
   "source": [
    "# 최적화가 완료된 모델에 테스트 값을 넣고 결과가 잘 나오는지 확인\n",
    "print(\"X: 5, Y:\", sess.run(h0, feed_dict={X: 5}))\n",
    "print(\"X: 2.5, Y:\", sess.run(h0, feed_dict={X: 2.5}))"
   ]
  },
  {
   "cell_type": "code",
   "execution_count": 21,
   "metadata": {},
   "outputs": [
    {
     "data": {
      "image/png": "[encoded data removed]",
      "text/plain": [
       "<Figure size 432x288 with 1 Axes>"
      ]
     },
     "metadata": {
      "needs_background": "light"
     },
     "output_type": "display_data"
    }
   ],
   "source": [
    "plt.plot(x, y, 'ro') # red, o\n",
    "plt.plot(x, sess.run(weight) * x + sess.run(bias))\n",
    "plt.xlabel(\"전기생산량\")\n",
    "plt.ylabel(\"전기사용량\")\n",
    "plt.show()"
   ]
  },
  {
   "cell_type": "code",
   "execution_count": 22,
   "metadata": {},
   "outputs": [],
   "source": [
    "# 세션 종료\n",
    "sess.close()"
   ]
  },
  {
   "cell_type": "code",
   "execution_count": 23,
   "metadata": {},
   "outputs": [
    {
     "name": "stdout",
     "output_type": "stream",
     "text": [
      "WARNING:tensorflow:From <ipython-input-23-8882cb8e6223>:5: read_data_sets (from tensorflow.contrib.learn.python.learn.datasets.mnist) is deprecated and will be removed in a future version.\n",
      "Instructions for updating:\n",
      "Please use alternatives such as official/mnist/dataset.py from tensorflow/models.\n",
      "WARNING:tensorflow:From /Users/kyeongmin/anaconda3/envs/django/lib/python3.6/site-packages/tensorflow/contrib/learn/python/learn/datasets/mnist.py:260: maybe_download (from tensorflow.contrib.learn.python.learn.datasets.base) is deprecated and will be removed in a future version.\n",
      "Instructions for updating:\n",
      "Please write your own downloading logic.\n",
      "WARNING:tensorflow:From /Users/kyeongmin/anaconda3/envs/django/lib/python3.6/site-packages/tensorflow/contrib/learn/python/learn/datasets/mnist.py:262: extract_images (from tensorflow.contrib.learn.python.learn.datasets.mnist) is deprecated and will be removed in a future version.\n",
      "Instructions for updating:\n",
      "Please use tf.data to implement this functionality.\n",
      "Extracting ./data/mnist/train-images-idx3-ubyte.gz\n",
      "WARNING:tensorflow:From /Users/kyeongmin/anaconda3/envs/django/lib/python3.6/site-packages/tensorflow/contrib/learn/python/learn/datasets/mnist.py:267: extract_labels (from tensorflow.contrib.learn.python.learn.datasets.mnist) is deprecated and will be removed in a future version.\n",
      "Instructions for updating:\n",
      "Please use tf.data to implement this functionality.\n",
      "Extracting ./data/mnist/train-labels-idx1-ubyte.gz\n",
      "WARNING:tensorflow:From /Users/kyeongmin/anaconda3/envs/django/lib/python3.6/site-packages/tensorflow/contrib/learn/python/learn/datasets/mnist.py:110: dense_to_one_hot (from tensorflow.contrib.learn.python.learn.datasets.mnist) is deprecated and will be removed in a future version.\n",
      "Instructions for updating:\n",
      "Please use tf.one_hot on tensors.\n",
      "Extracting ./data/mnist/t10k-images-idx3-ubyte.gz\n",
      "Extracting ./data/mnist/t10k-labels-idx1-ubyte.gz\n",
      "WARNING:tensorflow:From /Users/kyeongmin/anaconda3/envs/django/lib/python3.6/site-packages/tensorflow/contrib/learn/python/learn/datasets/mnist.py:290: DataSet.__init__ (from tensorflow.contrib.learn.python.learn.datasets.mnist) is deprecated and will be removed in a future version.\n",
      "Instructions for updating:\n",
      "Please use alternatives such as official/mnist/dataset.py from tensorflow/models.\n",
      "0.9159\n"
     ]
    }
   ],
   "source": [
    "# MNIST 데이터\n",
    "from tensorflow.examples.tutorials.mnist import input_data\n",
    "\n",
    "# 데이터 다운로드에 많은 시간이 소요됨\n",
    "mnist = input_data.read_data_sets(\"./data/mnist/\", one_hot=True)\n",
    "\n",
    "# 변수 설정\n",
    "x = tf.placeholder(tf.float32, [None, 784])\n",
    "\n",
    "# [이미지픽셀, 10차원]\n",
    "W = tf.Variable(tf.zeros([784, 10]))\n",
    "b = tf.Variable(tf.zeros([10]))\n",
    "y = tf.nn.softmax(tf.matmul(x, W) + b)\n",
    "\n",
    "# cross-entropy 모델 설정(손실을 최소화시키는 함수)\n",
    "y_ = tf.placeholder(tf.float32, [None, 10])\n",
    "cross_entropy = tf.reduce_mean(\n",
    "-tf.reduce_sum(y_ * tf.log(y), reduction_indices=[1]))\n",
    "\n",
    "# 학습비율을 0.5로 설정\n",
    "train_step = tf.train.GradientDescentOptimizer(0.5).minimize(\\\n",
    "cross_entropy)\n",
    "\n",
    "# 경사하강법으로 모델 학습\n",
    "# 텐서플로우가 각각의 변수를 비용을 줄이는 방향으로 조금씩 이동시키는 방법\n",
    "init = tf.global_variables_initializer()\n",
    "sess = tf.Session()\n",
    "sess.run(init)\n",
    "\n",
    "# 1000번의 학습 실시\n",
    "for i in range(1000):\n",
    "    # 무작위로 100개씩 추출하여 학습\n",
    "    batch_xs, batch_ys = mnist.train.next_batch(100)\n",
    "    sess.run(train_step, feed_dict={x: batch_xs, y_: batch_ys})\n",
    "    \n",
    "# 모델의 정확도\n",
    "# argmax(y,1) 가장 증거값이 큰 라벨\n",
    "# argmax(y_, 1) 가장 증거값이 큰 실제 라벨\n",
    "correct_prediction = tf.equal(tf.argmax(y, 1), tf.argmax(y_, 1))\n",
    "\n",
    "# boolean 리스트를 float로 변환한 후 평균값 계산\n",
    "accuracy = tf.reduce_mean(tf.cast(correct_prediction, tf.float32))\n",
    "print(sess.run(accuracy, feed_dict={x: mnist.test.images,\n",
    "                                   y_: mnist.test.labels}))"
   ]
  },
  {
   "cell_type": "code",
   "execution_count": 24,
   "metadata": {},
   "outputs": [
    {
     "name": "stdout",
     "output_type": "stream",
     "text": [
      "Extracting ./data/mnist/train-images-idx3-ubyte.gz\n",
      "Extracting ./data/mnist/train-labels-idx1-ubyte.gz\n",
      "Extracting ./data/mnist/t10k-images-idx3-ubyte.gz\n",
      "Extracting ./data/mnist/t10k-labels-idx1-ubyte.gz\n"
     ]
    }
   ],
   "source": [
    "import numpy as np\n",
    "\n",
    "# MNIST data 로딩\n",
    "mnist = input_data.read_data_sets(\"./data/mnist/\", one_hot=False)"
   ]
  },
  {
   "cell_type": "code",
   "execution_count": 25,
   "metadata": {},
   "outputs": [],
   "source": [
    "# 파라미터\n",
    "learning_rate = 0.1\n",
    "num_steps = 1000\n",
    "batch_size = 128\n",
    "display_step = 100\n",
    "\n",
    "# 인공신경망의 파라미터\n",
    "n_hidden_1 = 256 # 첫번째 은닉층의 뉴런 갯수\n",
    "n_hidden_2 = 256 # 두번째 은닉층의 뉴런 갯수\n",
    "num_input = 784 # MNIST data input(img shape: 28*28)\n",
    "num_classes = 10 # MNIST total classes (0-9 digits)"
   ]
  },
  {
   "cell_type": "code",
   "execution_count": 26,
   "metadata": {},
   "outputs": [],
   "source": [
    "# 데이터 학습을 위한 입력 함수\n",
    "input_fn = tf.estimator.inputs.numpy_input_fn(\n",
    "x={'images': mnist.train.images}, y=mnist.train.labels,\n",
    "batch_size=batch_size, num_epochs=None, shuffle=True)"
   ]
  },
  {
   "cell_type": "code",
   "execution_count": 27,
   "metadata": {},
   "outputs": [],
   "source": [
    "# 인공신경망 설정 함수\n",
    "def neural_net(x_dict):\n",
    "    # TF Estimator input is a dict, in case of multiple inputs\n",
    "    x = x_dict['images']\n",
    "    # 첫번째 은닉층 정의(256개의 뉴련)\n",
    "    layer_1 = tf.layers.dense(x, n_hidden_1)\n",
    "    # 두번째 은닉층 정의(256개의 뉴런)\n",
    "    layer_2 = tf.layers.dense(layer_1, n_hidden_2)\n",
    "    # 출력층 정의\n",
    "    out_layer = tf.layers.dense(layer_2, num_classes)\n",
    "    return out_layer"
   ]
  },
  {
   "cell_type": "code",
   "execution_count": 28,
   "metadata": {},
   "outputs": [],
   "source": [
    "def model_fn(features, labels, mode):\n",
    "    # 인공신경망 생성\n",
    "    logits = neural_net(features)\n",
    "    \n",
    "    # 예측\n",
    "    pred_classes = tf.argmax(logits, axis=1)\n",
    "    pred_probas = tf.nn.softmax(logits)\n",
    "    \n",
    "    # 예측 모드일 경우 리턴\n",
    "    if mode == tf.estimator.ModeKeys.PREDICT:\n",
    "        return tf.estimator.EstimatorSpec(mode,\n",
    "                                         predictions = pred_classes)\n",
    "    \n",
    "    # 손실함수(비용함수) 정의\n",
    "    loss_op = tf.reduce_mean(\n",
    "        tf.nn.sparse_softmax_cross_entropy_with_logits(\n",
    "        logits = logits, labels = tf.cast(labels, dtype=tf.int32)))\n",
    "    optimizer = tf.train.GradientDescentOptimizer(\n",
    "        learning_rate = learning_rate)\n",
    "    train_op = optimizer.minimize(loss_op,\n",
    "                                 global_step = tf.train.get_global_step())\n",
    "    \n",
    "    # 모델의 정확도 평가\n",
    "    acc_op = tf.metrics.accuracy(labels = labels,\n",
    "                                predictions = pred_classes)\n",
    "    \n",
    "    estim_specs = tf.estimator.EstimatorSpec(\n",
    "    mode = mode,\n",
    "    predictions = pred_classes,\n",
    "    loss = loss_op,\n",
    "    train_op = train_op,\n",
    "    eval_metric_ops = {'accuracy': acc_op})\n",
    "    return estim_specs"
   ]
  },
  {
   "cell_type": "code",
   "execution_count": 29,
   "metadata": {},
   "outputs": [
    {
     "name": "stdout",
     "output_type": "stream",
     "text": [
      "INFO:tensorflow:Using default config.\n",
      "WARNING:tensorflow:Using temporary folder as model directory: /var/folders/t2/gx8cvy6d2qsd2kjx3gxj__q80000gn/T/tmpjmvnyi4q\n",
      "INFO:tensorflow:Using config: {'_model_dir': '/var/folders/t2/gx8cvy6d2qsd2kjx3gxj__q80000gn/T/tmpjmvnyi4q', '_tf_random_seed': None, '_save_summary_steps': 100, '_save_checkpoints_steps': None, '_save_checkpoints_secs': 600, '_session_config': allow_soft_placement: true\n",
      "graph_options {\n",
      "  rewrite_options {\n",
      "    meta_optimizer_iterations: ONE\n",
      "  }\n",
      "}\n",
      ", '_keep_checkpoint_max': 5, '_keep_checkpoint_every_n_hours': 10000, '_log_step_count_steps': 100, '_train_distribute': None, '_device_fn': None, '_protocol': None, '_eval_distribute': None, '_experimental_distribute': None, '_service': None, '_cluster_spec': <tensorflow.python.training.server_lib.ClusterSpec object at 0x12fcd1668>, '_task_type': 'worker', '_task_id': 0, '_global_id_in_cluster': 0, '_master': '', '_evaluation_master': '', '_is_chief': True, '_num_ps_replicas': 0, '_num_worker_replicas': 1}\n"
     ]
    }
   ],
   "source": [
    "# Estimator : 모델을 설정하고 모델의 그래프를 그린 다음\n",
    "# 모델에 대한 loss 함수를 정의하고\n",
    "# Optimizer를 정의하여 loss 값의 최솟값을 찾는다.\n",
    "# 그리고 prediction 값을 계산\n",
    "# Estimator 생성\n",
    "model = tf.estimator.Estimator(model_fn)"
   ]
  },
  {
   "cell_type": "code",
   "execution_count": 30,
   "metadata": {},
   "outputs": [
    {
     "name": "stdout",
     "output_type": "stream",
     "text": [
      "WARNING:tensorflow:From /Users/kyeongmin/anaconda3/envs/django/lib/python3.6/site-packages/tensorflow_estimator/python/estimator/inputs/queues/feeding_queue_runner.py:62: QueueRunner.__init__ (from tensorflow.python.training.queue_runner_impl) is deprecated and will be removed in a future version.\n",
      "Instructions for updating:\n",
      "To construct input pipelines, use the `tf.data` module.\n",
      "WARNING:tensorflow:From /Users/kyeongmin/anaconda3/envs/django/lib/python3.6/site-packages/tensorflow_estimator/python/estimator/inputs/queues/feeding_functions.py:500: add_queue_runner (from tensorflow.python.training.queue_runner_impl) is deprecated and will be removed in a future version.\n",
      "Instructions for updating:\n",
      "To construct input pipelines, use the `tf.data` module.\n",
      "INFO:tensorflow:Calling model_fn.\n",
      "WARNING:tensorflow:From <ipython-input-27-9e06530f894c>:6: dense (from tensorflow.python.layers.core) is deprecated and will be removed in a future version.\n",
      "Instructions for updating:\n",
      "Use keras.layers.dense instead.\n",
      "WARNING:tensorflow:From /Users/kyeongmin/anaconda3/envs/django/lib/python3.6/site-packages/tensorflow/python/ops/metrics_impl.py:455: to_float (from tensorflow.python.ops.math_ops) is deprecated and will be removed in a future version.\n",
      "Instructions for updating:\n",
      "Use tf.cast instead.\n",
      "INFO:tensorflow:Done calling model_fn.\n",
      "INFO:tensorflow:Create CheckpointSaverHook.\n",
      "INFO:tensorflow:Graph was finalized.\n",
      "INFO:tensorflow:Running local_init_op.\n",
      "INFO:tensorflow:Done running local_init_op.\n",
      "WARNING:tensorflow:From /Users/kyeongmin/anaconda3/envs/django/lib/python3.6/site-packages/tensorflow/python/training/monitored_session.py:809: start_queue_runners (from tensorflow.python.training.queue_runner_impl) is deprecated and will be removed in a future version.\n",
      "Instructions for updating:\n",
      "To construct input pipelines, use the `tf.data` module.\n",
      "INFO:tensorflow:Saving checkpoints for 0 into /var/folders/t2/gx8cvy6d2qsd2kjx3gxj__q80000gn/T/tmpjmvnyi4q/model.ckpt.\n",
      "INFO:tensorflow:loss = 2.4736204, step = 1\n",
      "INFO:tensorflow:global_step/sec: 178.777\n",
      "INFO:tensorflow:loss = 0.4635496, step = 101 (0.564 sec)\n",
      "INFO:tensorflow:global_step/sec: 189.936\n",
      "INFO:tensorflow:loss = 0.3062323, step = 201 (0.523 sec)\n",
      "INFO:tensorflow:global_step/sec: 176.178\n",
      "INFO:tensorflow:loss = 0.5230859, step = 301 (0.567 sec)\n",
      "INFO:tensorflow:global_step/sec: 150.935\n",
      "INFO:tensorflow:loss = 0.23966207, step = 401 (0.663 sec)\n",
      "INFO:tensorflow:global_step/sec: 187.069\n",
      "INFO:tensorflow:loss = 0.2819234, step = 501 (0.534 sec)\n",
      "INFO:tensorflow:global_step/sec: 167.421\n",
      "INFO:tensorflow:loss = 0.45163342, step = 601 (0.597 sec)\n",
      "INFO:tensorflow:global_step/sec: 187.377\n",
      "INFO:tensorflow:loss = 0.5197212, step = 701 (0.534 sec)\n",
      "INFO:tensorflow:global_step/sec: 183.767\n",
      "INFO:tensorflow:loss = 0.22585407, step = 801 (0.544 sec)\n",
      "INFO:tensorflow:global_step/sec: 195.083\n",
      "INFO:tensorflow:loss = 0.38061166, step = 901 (0.512 sec)\n",
      "INFO:tensorflow:Saving checkpoints for 1000 into /var/folders/t2/gx8cvy6d2qsd2kjx3gxj__q80000gn/T/tmpjmvnyi4q/model.ckpt.\n",
      "INFO:tensorflow:Loss for final step: 0.16540684.\n"
     ]
    },
    {
     "data": {
      "text/plain": [
       "<tensorflow_estimator.python.estimator.estimator.Estimator at 0x12f25e6d8>"
      ]
     },
     "execution_count": 30,
     "metadata": {},
     "output_type": "execute_result"
    }
   ],
   "source": [
    "# 모델 학습\n",
    "model.train(input_fn, steps=num_steps)"
   ]
  },
  {
   "cell_type": "code",
   "execution_count": 31,
   "metadata": {},
   "outputs": [
    {
     "name": "stdout",
     "output_type": "stream",
     "text": [
      "INFO:tensorflow:Calling model_fn.\n",
      "INFO:tensorflow:Done calling model_fn.\n",
      "INFO:tensorflow:Starting evaluation at 2019-05-01T14:24:27Z\n",
      "INFO:tensorflow:Graph was finalized.\n",
      "WARNING:tensorflow:From /Users/kyeongmin/anaconda3/envs/django/lib/python3.6/site-packages/tensorflow/python/training/saver.py:1266: checkpoint_exists (from tensorflow.python.training.checkpoint_management) is deprecated and will be removed in a future version.\n",
      "Instructions for updating:\n",
      "Use standard file APIs to check for files with this prefix.\n",
      "INFO:tensorflow:Restoring parameters from /var/folders/t2/gx8cvy6d2qsd2kjx3gxj__q80000gn/T/tmpjmvnyi4q/model.ckpt-1000\n",
      "INFO:tensorflow:Running local_init_op.\n",
      "INFO:tensorflow:Done running local_init_op.\n",
      "INFO:tensorflow:Finished evaluation at 2019-05-01-14:24:27\n",
      "INFO:tensorflow:Saving dict for global step 1000: accuracy = 0.9153, global_step = 1000, loss = 0.29185286\n",
      "INFO:tensorflow:Saving 'checkpoint_path' summary for global step 1000: /var/folders/t2/gx8cvy6d2qsd2kjx3gxj__q80000gn/T/tmpjmvnyi4q/model.ckpt-1000\n"
     ]
    },
    {
     "data": {
      "text/plain": [
       "{'accuracy': 0.9153, 'loss': 0.29185286, 'global_step': 1000}"
      ]
     },
     "execution_count": 31,
     "metadata": {},
     "output_type": "execute_result"
    }
   ],
   "source": [
    "# 모델 평가를 위한 입력함수 정의\n",
    "input_fn = tf.estimator.inputs.numpy_input_fn(\n",
    "x={'images': mnist.test.images}, y=mnist.test.labels,\n",
    "batch_size = batch_size, shuffle=False)\n",
    "# 평가 함수 호출\n",
    "model.evaluate(input_fn)"
   ]
  },
  {
   "cell_type": "code",
   "execution_count": 32,
   "metadata": {},
   "outputs": [
    {
     "name": "stdout",
     "output_type": "stream",
     "text": [
      "INFO:tensorflow:Calling model_fn.\n",
      "INFO:tensorflow:Done calling model_fn.\n",
      "INFO:tensorflow:Graph was finalized.\n",
      "INFO:tensorflow:Restoring parameters from /var/folders/t2/gx8cvy6d2qsd2kjx3gxj__q80000gn/T/tmpjmvnyi4q/model.ckpt-1000\n",
      "INFO:tensorflow:Running local_init_op.\n",
      "INFO:tensorflow:Done running local_init_op.\n"
     ]
    },
    {
     "data": {
      "image/png": "[encoded data removed]",
      "text/plain": [
       "<Figure size 432x288 with 1 Axes>"
      ]
     },
     "metadata": {
      "needs_background": "light"
     },
     "output_type": "display_data"
    },
    {
     "name": "stdout",
     "output_type": "stream",
     "text": [
      "Model prediction: 7\n"
     ]
    },
    {
     "data": {
      "image/png": "[encoded data removed]",
      "text/plain": [
       "<Figure size 432x288 with 1 Axes>"
      ]
     },
     "metadata": {
      "needs_background": "light"
     },
     "output_type": "display_data"
    },
    {
     "name": "stdout",
     "output_type": "stream",
     "text": [
      "Model prediction: 2\n"
     ]
    },
    {
     "data": {
      "image/png": "[encoded data removed]",
      "text/plain": [
       "<Figure size 432x288 with 1 Axes>"
      ]
     },
     "metadata": {
      "needs_background": "light"
     },
     "output_type": "display_data"
    },
    {
     "name": "stdout",
     "output_type": "stream",
     "text": [
      "Model prediction: 1\n"
     ]
    },
    {
     "data": {
      "image/png": "[encoded data removed]",
      "text/plain": [
       "<Figure size 432x288 with 1 Axes>"
      ]
     },
     "metadata": {
      "needs_background": "light"
     },
     "output_type": "display_data"
    },
    {
     "name": "stdout",
     "output_type": "stream",
     "text": [
      "Model prediction: 0\n"
     ]
    }
   ],
   "source": [
    "# 이미지 예측\n",
    "n_images = 4\n",
    "# 검증용 데이터셋에서 이미지 선택\n",
    "test_images = mnist.test.images[:n_images]\n",
    "# 입력 데이터 준비\n",
    "input_fn = tf.estimator.inputs.numpy_input_fn(\n",
    "x={'images': test_images}, shuffle=False)\n",
    "preds = list(model.predict(input_fn))\n",
    "\n",
    "# 출력\n",
    "for i in range(n_images):\n",
    "    plt.imshow(np.reshape(test_images[i], [28, 28]), cmap='gray')\n",
    "    plt.show()\n",
    "    print(\"Model prediction:\", preds[i])"
   ]
  },
  {
   "cell_type": "code",
   "execution_count": null,
   "metadata": {},
   "outputs": [],
   "source": []
  }
 ],
 "metadata": {
  "kernelspec": {
   "display_name": "Python 3",
   "language": "python",
   "name": "python3"
  },
  "language_info": {
   "codemirror_mode": {
    "name": "ipython",
    "version": 3
   },
   "file_extension": ".py",
   "mimetype": "text/x-python",
   "name": "python",
   "nbconvert_exporter": "python",
   "pygments_lexer": "ipython3",
   "version": "3.6.8"
  }
 },
 "nbformat": 4,
 "nbformat_minor": 2
}
