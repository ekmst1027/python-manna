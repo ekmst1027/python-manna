{
 "cells": [
  {
   "cell_type": "markdown",
   "metadata": {},
   "source": [
    "# 정규표현식\n",
    "<br/>\n",
    "## 1) 확장문자\n",
    "    - s : 공백 문자(스페이스, 탭, 폼 피드, 라인 피드)\n",
    "    - d : 숫자\n",
    "    - D : 숫자가 아닌 문자 [^0-9]와 동일\n",
    "    - w : 알파벳, 숫자, 밑줄 기호(_) [A-Za-z0-9]\n",
    "    - W : w의 반대 문자[^A-Za-z0-9]\n",
    "    - 특수문자 : 특수문자 자체를 의미\n",
    "\n",
    "## 2) 특수문자\n",
    "    - * : 0회 이상 반복\n",
    "    - + : 1회 이상 반복\n",
    "    - ? : 0 또는 1개의 문자 매칭\n",
    "    - . : 정확히 1개 문자 매칭\n",
    "    \n",
    "## 3) 플래그\n",
    "    - g : 전역매칭(매칭되는 모든 값을 찾음)\n",
    "    - i : 대소문자 무시\n",
    "    - m : 여러 줄 매칭\n",
    "\n",
    "## 4) 기타\n",
    "    - () : 괄호로 묶인 패턴은 매칭된 다음, 그 부분을 기억한다.\n",
    "    - | : ~ 또는 ~\n",
    "    - {} : 반복 횟수"
   ]
  },
  {
   "cell_type": "code",
   "execution_count": 6,
   "metadata": {},
   "outputs": [
    {
     "name": "stdout",
     "output_type": "stream",
     "text": [
      "[]\n",
      "['lgm']\n",
      "['m', 'm']\n",
      "['M']\n"
     ]
    }
   ],
   "source": [
    "# re 모듈 - Regular Expression을 지원하는 모듈\n",
    "import re\n",
    "str = 'My id number is lgm0920'\n",
    "\n",
    "# findall('검색어', 문자열) - 문자열에서 검색어와 일치하는 내용들을 모두 찾음\n",
    "a = re.findall('a', str)\n",
    "print(a)\n",
    "\n",
    "b = re.findall('lgm', str)\n",
    "print(b)\n",
    "\n",
    "c = re.findall('m', str)\n",
    "print(c)\n",
    "\n",
    "d = re.findall('M', str)\n",
    "print(d)"
   ]
  },
  {
   "cell_type": "code",
   "execution_count": 10,
   "metadata": {},
   "outputs": [
    {
     "name": "stdout",
     "output_type": "stream",
     "text": [
      "['y', 'i', 'd', 'n', 'u', 'm', 'b', 'e', 'r', 'i', 's', 'l', 'g', 'm']\n",
      "['y', 'id', 'number', 'is', 'lgm']\n",
      "['0', '9', '2', '0']\n",
      "['0920']\n",
      "['M', 'y', 'i', 'd', 'n', 'u', 'm', 'b', 'e', 'r', 'i', 's', 'l', 'g', 'm']\n"
     ]
    }
   ],
   "source": [
    "str = 'My id number is lgm0920'\n",
    "\n",
    "# 소문자를 모두 찾아서 리스트로 반환\n",
    "a = re.findall('[a-z]', str)\n",
    "print(a)\n",
    "\n",
    "# + 반복 옵션, 소문자를 하나씩 끊어서 찾지 않고 연속해서 찾음(단어 단위)\n",
    "b = re.findall('[a-z]+', str)\n",
    "print(b)\n",
    "\n",
    "# 대문자를 모두 찾아서 리스트로 반환\n",
    "c = re.findall('[A-Z]', str)\n",
    "\n",
    "# 숫자를 모두 찾아서 리스트로 반환\n",
    "d = re.findall('[0-9]', str)\n",
    "print(d)\n",
    "\n",
    "# + 반복 옵션, 숫자를 하나씩 끊어서 찾지 않고 연속해서 찾음(단어 단위)\n",
    "e = re.findall('[0-9]+', str)\n",
    "print(e)\n",
    "\n",
    "# 소문자 대문자 모두 찾아서 리스트로 반환\n",
    "f = re.findall('[A-Za-z]', str)\n",
    "print(f)"
   ]
  },
  {
   "cell_type": "code",
   "execution_count": 12,
   "metadata": {},
   "outputs": [
    {
     "name": "stdout",
     "output_type": "stream",
     "text": [
      "['M', 'y', 'i', 'd', 'n', 'u', 'm', 'b', 'e', 'r', 'i', 's', 'l', 'g', 'm', '0', '9', '2', '0']\n",
      "['My', 'id', 'number', 'is', 'lgm', '0920']\n",
      "[' ', ' ', ' ', ' ', '_', '$', '%']\n",
      "['M', 'y', 'i', 'd', 'n', 'u', 'm', 'b', 'e', 'r', 'i', 's', 'l', 'g', 'm', '_', '0', '9', '2', '0']\n",
      "['My', 'id', 'number', 'is', 'lgm_0920']\n",
      "[' ', ' ', ' ', ' ', '$%']\n"
     ]
    }
   ],
   "source": [
    "str = 'My id number is lgm_0920$%'\n",
    "\n",
    "# 소문자, 대문자, 숫자(문자 단위)\n",
    "a = re.findall('[a-zA-Z0-9]', str)\n",
    "print(a)\n",
    "\n",
    "# 소문자, 대문자, 숫자(단어 단위)\n",
    "b = re.findall('[a-zA-Z0-9]+', str)\n",
    "print(b)\n",
    "\n",
    "# ^ not, 소문자, 대문자, 숫자가 아닌 문자들(공백문자, 특수문자)\n",
    "c = re.findall('[^a-zA-Z0-9]', str)\n",
    "print(c)\n",
    "\n",
    "# 영문자, 숫자, _\n",
    "d = re.findall('[\\w]', str)\n",
    "print(d)\n",
    "\n",
    "# 영문자, 숫자, _ (단어 단위)\n",
    "e = re.findall('[\\w]+', str)\n",
    "print(e)\n",
    "\n",
    "# 영문자, 숫자, _가 아닌 경우\n",
    "f = re.findall('[\\W]+', str)\n",
    "print(f)"
   ]
  },
  {
   "cell_type": "code",
   "execution_count": 17,
   "metadata": {},
   "outputs": [
    {
     "name": "stdout",
     "output_type": "stream",
     "text": [
      "12abc 의 길이가 적당하지 않습니다.\n",
      "123abc ==> 대문자와 소문자가 모두 필요합니다.\n",
      "123abc% ==> 숫자와 영문자로만 구성되어야 합니다.\n",
      "123Abc ==> 올바른 비밀 번호입니다.\n"
     ]
    },
    {
     "data": {
      "text/plain": [
       "True"
      ]
     },
     "execution_count": 17,
     "metadata": {},
     "output_type": "execute_result"
    }
   ],
   "source": [
    "import re\n",
    "\n",
    "# 비밀번호 정합성 체크를 위한 함수\n",
    "def pwd_check(pwd):\n",
    "    # 비밀번호 길이 확인 (6~12)\n",
    "    if len(pwd) < 6 or len(pwd) > 12:\n",
    "        print(pwd, \"의 길이가 적당하지 않습니다.\")\n",
    "        return False\n",
    "    \n",
    "    # 숫자 혹은 알파벳 유무 확인\n",
    "    # 소문자, 대문자, 숫자만 선택, 특수문자는 걸러지게 됨\n",
    "    # findall() 리스트로 리턴, [0] 첫번째 요소\n",
    "    if re.findall('[a-zA-Z0-9]+', pwd)[0] != pwd:\n",
    "        print(pwd, '==> 숫자와 영문자로만 구성되어야 합니다.')\n",
    "        return False\n",
    "    \n",
    "    # 알파벳 대소문자 확인\n",
    "    # 소문자의 길이가 0이거나 대문자의 길이가 0이면\n",
    "    if len(re.findall('[a-z]', pwd)) == 0 or len(re.findall('[A-Z]', pwd)) == 0:\n",
    "        print(pwd, \"==> 대문자와 소문자가 모두 필요합니다.\")\n",
    "        return False\n",
    "    \n",
    "    print(pwd, \"==> 올바른 비밀 번호입니다.\")\n",
    "    return True\n",
    "\n",
    "pwd_check('12abc')\n",
    "pwd_check('123abc')\n",
    "pwd_check('123abc%')\n",
    "pwd_check('123Abc')"
   ]
  },
  {
   "cell_type": "code",
   "execution_count": 19,
   "metadata": {},
   "outputs": [
    {
     "name": "stdout",
     "output_type": "stream",
     "text": [
      "lee@gmail ===> 잘못된 이메일 형식입니다.\n",
      "lee_gmail.com ===> 잘못된 이메일 형식입니다.\n",
      "lee ===> 잘못된 이메일 형식입니다.\n",
      "lee@gmail.com ===> 올바른 이메일 주소입니다!\n"
     ]
    }
   ],
   "source": [
    "import re\n",
    "\n",
    "# 이메일 주소 정합성 체크를 위한 함수\n",
    "# ^[] 시작, [^] not, $ 끝, \\. 마침표\n",
    "def email_check(email):\n",
    "    exp = re.findall('^[a-z0-9]{2,}@[a-z0-9]{2,}\\.[a-z{2,}$]', email)\n",
    "    if len(exp) == 0:\n",
    "        print(email, \"===> 잘못된 이메일 형식입니다.\")\n",
    "        return\n",
    "    \n",
    "    print(email, \"===> 올바른 이메일 주소입니다!\")\n",
    "    return\n",
    "\n",
    "email_check(\"lee@gmail\")\n",
    "email_check(\"lee_gmail.com\")\n",
    "email_check(\"lee\")\n",
    "email_check(\"lee@gmail.com\")"
   ]
  },
  {
   "cell_type": "code",
   "execution_count": null,
   "metadata": {},
   "outputs": [],
   "source": []
  },
  {
   "cell_type": "code",
   "execution_count": null,
   "metadata": {},
   "outputs": [],
   "source": []
  },
  {
   "cell_type": "code",
   "execution_count": 3,
   "metadata": {},
   "outputs": [
    {
     "name": "stdout",
     "output_type": "stream",
     "text": [
      "[]\n"
     ]
    }
   ],
   "source": []
  },
  {
   "cell_type": "code",
   "execution_count": null,
   "metadata": {},
   "outputs": [],
   "source": []
  }
 ],
 "metadata": {
  "kernelspec": {
   "display_name": "Python 3",
   "language": "python",
   "name": "python3"
  },
  "language_info": {
   "codemirror_mode": {
    "name": "ipython",
    "version": 3
   },
   "file_extension": ".py",
   "mimetype": "text/x-python",
   "name": "python",
   "nbconvert_exporter": "python",
   "pygments_lexer": "ipython3",
   "version": "3.7.1"
  }
 },
 "nbformat": 4,
 "nbformat_minor": 2
}
