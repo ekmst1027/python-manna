{
 "cells": [
  {
   "cell_type": "markdown",
   "metadata": {},
   "source": [
    "# 모듈(Module)\n",
    "<br/>\n",
    "\n",
    "## 가. 모듈의 정의\n",
    "1) 함수 \n",
    "    - 파일 내에서 일정한 작업을 수행하는 코드 블록\n",
    "2) 모듈\n",
    "    - 함수나 변수 또는 클래스들을 모아 놓은 파일\n",
    "    - 비슷하거나 관련된 일을 하는 함수나 상수값들을 모아서 하나의 파일에 저장하고 추후에 재사용하기 위해 사용\n",
    "    - 모듈 이름은 py 확장자를 제외한 파일이름\n",
    "3) 패키지\n",
    "    - 여러 모듈들을 모아놓은 디렉토리\n",
    "    - 모듈 = 파일\n",
    "    - 패키지 = 디렉토리\n",
    "    \n",
    "## 나. 모듈을 사용하는 목적\n",
    "1) 코드의 재사용\n",
    "    - 모듈이 없다면 자주 사용되는 함수를 매번 작성해야 하므로 개발 및 유지보수가 어렵게 됨\n",
    "2) 프로그램 개발시에 전체 코드들을 여러 모듈 단위로 분리하여 설계함으로써 작업의 효율을 높일 수 있음 <br/>\n",
    "3) 별도의 이름 공간(스코프)를 제공함으로써 동일한 이름의 여러 함수나 변수들이 각 모듈마다 독립적으로 정의될 수 있음\n",
    "\n",
    "## 다. 모듈의 종류\n",
    "1) 표준 모듈\n",
    "    - 파이썬 언어 패키지 안에 기본적으로 포함된 모듈\n",
    "    - 대표적인 표준 모듈 예 : math, string\n",
    "2) 사용자 정의 모듈\n",
    "    - 개발자가 직접 정의한 모듈\n",
    "3) 써드 파티 모듈\n",
    "    - 다른 업체나 개인이 만들어서 제공하는 모듈\n",
    "\n",
    "## 라. 모듈의 선언\n",
    "1) 모듈 전체를 참조\n",
    "    - import 모듈\n",
    "    - import 모듈명 as 모듈별칭\n",
    "        - 해당 모듈을 짧은 이름으로 사용하고자 할 때 사용\n",
    "        - 기존 모듈 이름이 너무 길거나 현재 사용 중인 다름 이름들과 충돌이 일어날 때 유용\n",
    "2) 모듈 내에서 필요한 부분만 참조\n",
    "    - from 모듈 import 변수 or 함수\n",
    "        - 모듈 이름을 붙이지 않고 바로 해당 모듈의 함수를 쓸 수 있다.\n",
    "    - from 모듈명 import *\n",
    "        - 해당 모듈에 존재하는 '__'(언더바 2개)로 시작되는 이름들을 제외한 모든 이름들을 현재 이름 공간으로 불러들인다.\n",
    "    - from 모듈명 import 이름 as 별칭\n",
    "        - 해당 모듈 내에 정의된 이름을 짧은 이름으로 사용하고자 할 때 사용\n",
    "3) 모듈 내부의 함수 호출 방법\n",
    "    - 모듈명.함수(인자)\n",
    "4) 모듈을 참조할 수 있는 디렉토리 확인\n",
    "    - 기본적으로 현재 디렉토리에 있는 파일이나 파이썬 라이브러리가 저장된 디렉토리에 있는 모듈만 불러올 수 있다.\n",
    "    - sys 모듈 임포트 후 sys.path로 확인 가능\n",
    "    - sys.path.append(), sys.path.remomve()로 추가, 삭제 가능"
   ]
  },
  {
   "cell_type": "code",
   "execution_count": null,
   "metadata": {},
   "outputs": [],
   "source": []
  },
  {
   "cell_type": "code",
   "execution_count": null,
   "metadata": {},
   "outputs": [],
   "source": []
  }
 ],
 "metadata": {
  "kernelspec": {
   "display_name": "Python 3",
   "language": "python",
   "name": "python3"
  },
  "language_info": {
   "codemirror_mode": {
    "name": "ipython",
    "version": 3
   },
   "file_extension": ".py",
   "mimetype": "text/x-python",
   "name": "python",
   "nbconvert_exporter": "python",
   "pygments_lexer": "ipython3",
   "version": "3.7.1"
  }
 },
 "nbformat": 4,
 "nbformat_minor": 2
}
