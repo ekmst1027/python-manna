{
 "cells": [
  {
   "cell_type": "markdown",
   "metadata": {},
   "source": [
    "# 10. 파일입출력\n",
    "<br/>\n",
    "\n",
    "## 가.  파일 오픈\n",
    "    - open(filename, mode)\n",
    "    - r : 읽기 전용\n",
    "    - w : 쓰기 전용\n",
    "    - a : 파일 끝에 추가\n",
    "    - rb : 이진 파일 읽기 전용\n",
    "    - wb : 이진 파일 쓰기 전용\n",
    "    - ab : 이진 파일 끝에 추가\n",
    "    \n",
    "## 나. 파일 닫기\n",
    "1) 모든 작업이 끝나면 close()를 호출하여 작업 프로세스의 자원 점유 해제\n",
    "2) close()을 마지막에 호출하지 않으면 해당 file 객체가 다른 값으로 치환되거나 프로그램이 종료될 때 자동으로 close()가 호출됨\n",
    "3) 하지만 명시적으로 close()를 호출하는 것을 권장함\n",
    "\n",
    "## 다. 파일 접근 방법\n",
    "1) 순차 접근(기본 방식)\n",
    "    - 파일을 앞에서부터 순차적으로 읽고 쓰는 방식\n",
    "2) 임의 접근 \n",
    "    - 파일 내 임의 위치에서 읽고 쓰는 방식\n",
    "    - 임의 접근을 위한 file 객체 포인터(pointer) 관련 메소드\n",
    "    - seek(n): 파일의 가장 첫번째 위치에서 n번째 바이트로 포인터 이동\n",
    "    - tell(): 파일 내 현재 포인터 위치를 반환"
   ]
  },
  {
   "cell_type": "code",
   "execution_count": 1,
   "metadata": {},
   "outputs": [],
   "source": [
    "# 현재 실행중인 디렉토리에 파일이 만들어짐\n",
    "f = open(\"file1.txt\", \"w\")\n",
    "# 파일 닫기\n",
    "f.close()"
   ]
  },
  {
   "cell_type": "code",
   "execution_count": 2,
   "metadata": {},
   "outputs": [],
   "source": [
    "# 지정된 디렉토리에 파일 생성\n",
    "f = open(\"/Users/kyeongmin/Documents/python_basic/mannaedu/source/file2.txt\", \"w\")\n",
    "f.close()"
   ]
  },
  {
   "cell_type": "code",
   "execution_count": 3,
   "metadata": {},
   "outputs": [],
   "source": [
    "# 쓰기 전용 파일 오픈(없으면 만들고 있으면 불러옴)\n",
    "f = open(\"/Users/kyeongmin/Documents/python_basic/mannaedu/source/file3.txt\", \"w\")\n",
    "# 1~10까지\n",
    "for i in range(1, 11):\n",
    "    data = \"%d번째 줄입니다.\\n\" % i\n",
    "    f.write(data) # 파일에 문자열이 기록됨\n",
    "f.close()"
   ]
  },
  {
   "cell_type": "code",
   "execution_count": 4,
   "metadata": {},
   "outputs": [
    {
     "name": "stdout",
     "output_type": "stream",
     "text": [
      "1번째 줄입니다.\n",
      "2번째 줄입니다.\n",
      "3번째 줄입니다.\n",
      "4번째 줄입니다.\n",
      "5번째 줄입니다.\n",
      "6번째 줄입니다.\n",
      "7번째 줄입니다.\n",
      "8번째 줄입니다.\n",
      "9번째 줄입니다.\n",
      "10번째 줄입니다.\n"
     ]
    }
   ],
   "source": [
    "# 파일 내용 읽기\n",
    "# \"r\" 읽기전용\n",
    "f = open(\"/Users/kyeongmin/Documents/python_basic/mannaedu/source/file3.txt\", \"r\")\n",
    "# 무한반복\n",
    "while True:\n",
    "    # 한 줄을 읽음\n",
    "    line = f.readline()\n",
    "    # 더이상 내용이 없으면 반복문 종료\n",
    "    if not line: break\n",
    "    print(line, end='')\n",
    "    \n",
    "# 파일 닫기\n",
    "f.close()"
   ]
  },
  {
   "cell_type": "code",
   "execution_count": 5,
   "metadata": {},
   "outputs": [
    {
     "name": "stdout",
     "output_type": "stream",
     "text": [
      "추가되었습니다.\n"
     ]
    }
   ],
   "source": [
    "# csv 형식으로 저장하는 방법\n",
    "# 실행할 때마다 텍스트 파일에 내용이 추가된다.\n",
    "nums = [0, 1, 2, 3, 4, 5 ,6, 7, 8, 9]\n",
    "# 리스트 요소 갯수\n",
    "count = len(nums)\n",
    "output_file = \"/Users/kyeongmin/Documents/python_basic/mannaedu/source/result.csv\"\n",
    "# \"a\" append 기존 파일의 끝에 내용을 덧붙임\n",
    "f = open(output_file, 'a')\n",
    "# range(10) => 0~9\n",
    "for idx in range(count):\n",
    "    if idx < (count - 1):\n",
    "        f.write(str(nums[idx]) + ',')\n",
    "    else:\n",
    "        f.write(str(nums[idx]) + '\\n')\n",
    "f.close()\n",
    "\n",
    "print(\"추가되었습니다.\")"
   ]
  },
  {
   "cell_type": "code",
   "execution_count": 6,
   "metadata": {},
   "outputs": [
    {
     "name": "stdout",
     "output_type": "stream",
     "text": [
      "['1번째 줄입니다.\\n', '2번째 줄입니다.\\n', '3번째 줄입니다.\\n', '4번째 줄입니다.\\n', '5번째 줄입니다.\\n', '6번째 줄입니다.\\n', '7번째 줄입니다.\\n', '8번째 줄입니다.\\n', '9번째 줄입니다.\\n', '10번째 줄입니다.\\n']\n"
     ]
    }
   ],
   "source": [
    "# 파일을 읽기전용으로 오픈\n",
    "f = open(\"/Users/kyeongmin/Documents/python_basic/mannaedu/source/file3.txt\", \"r\")\n",
    "# 라인별로 저장된 리스트가 리턴됨\n",
    "lines = f.readlines()\n",
    "print(lines)"
   ]
  },
  {
   "cell_type": "code",
   "execution_count": 7,
   "metadata": {},
   "outputs": [
    {
     "name": "stdout",
     "output_type": "stream",
     "text": [
      "1번째 줄입니다.\n",
      "2번째 줄입니다.\n",
      "3번째 줄입니다.\n",
      "4번째 줄입니다.\n",
      "5번째 줄입니다.\n",
      "6번째 줄입니다.\n",
      "7번째 줄입니다.\n",
      "8번째 줄입니다.\n",
      "9번째 줄입니다.\n",
      "10번째 줄입니다.\n"
     ]
    }
   ],
   "source": [
    "for line in lines:\n",
    "    print(line, end='')\n",
    "# 파일 닫기\n",
    "f.close()"
   ]
  },
  {
   "cell_type": "code",
   "execution_count": 8,
   "metadata": {},
   "outputs": [
    {
     "name": "stdout",
     "output_type": "stream",
     "text": [
      "<class 'str'>\n",
      "1번째 줄입니다.\n",
      "2번째 줄입니다.\n",
      "3번째 줄입니다.\n",
      "4번째 줄입니다.\n",
      "5번째 줄입니다.\n",
      "6번째 줄입니다.\n",
      "7번째 줄입니다.\n",
      "8번째 줄입니다.\n",
      "9번째 줄입니다.\n",
      "10번째 줄입니다.\n",
      "\n"
     ]
    }
   ],
   "source": [
    "f = open(\"/Users/kyeongmin/Documents/python_basic/mannaedu/source/file3.txt\", \"r\")\n",
    "data = f.read()\n",
    "print(type(data))\n",
    "print(data)\n",
    "f.close()"
   ]
  },
  {
   "cell_type": "code",
   "execution_count": 9,
   "metadata": {},
   "outputs": [
    {
     "name": "stdout",
     "output_type": "stream",
     "text": [
      "1번째 줄입니다.\n",
      "2번째 줄입니다.\n",
      "3번째 줄입니다.\n",
      "4번째 줄입니다.\n",
      "5번째 줄입니다.\n",
      "6번째 줄입니다.\n",
      "7번째 줄입니다.\n",
      "8번째 줄입니다.\n",
      "9번째 줄입니다.\n",
      "10번째 줄입니다.\n"
     ]
    }
   ],
   "source": [
    "# 파일 내용 읽기(간단한 방법)\n",
    "f = open(\"/Users/kyeongmin/Documents/python_basic/mannaedu/source/file3.txt\", \"r\")\n",
    "# 파일변수 f가 가리키는 위치에서 한 라인씩 읽어 들임\n",
    "for line in f:\n",
    "    print(line, end='')\n",
    "f.close()"
   ]
  },
  {
   "cell_type": "code",
   "execution_count": 10,
   "metadata": {},
   "outputs": [],
   "source": [
    "# with 블록을 벗어나는 순간 파일이 자동으로 닫힌다.\n",
    "with open(\"/Users/kyeongmin/Documents/python_basic/mannaedu/source/file4.txt\", \"w\") as f:\n",
    "    f.write(\"hello python\")"
   ]
  },
  {
   "cell_type": "code",
   "execution_count": 11,
   "metadata": {},
   "outputs": [
    {
     "name": "stdout",
     "output_type": "stream",
     "text": [
      "1번째 줄입니다.\n",
      "2번째 줄입니다.\n",
      "3번째 줄입니다.\n",
      "4번째 줄입니다.\n",
      "5번째 줄입니다.\n",
      "6번째 줄입니다.\n",
      "7번째 줄입니다.\n",
      "8번째 줄입니다.\n",
      "9번째 줄입니다.\n",
      "10번째 줄입니다.\n",
      "1번째 줄입니다.\n",
      "\n",
      "22\n"
     ]
    }
   ],
   "source": [
    "f = open(\"/Users/kyeongmin/Documents/python_basic/mannaedu/source/file3.txt\", \"r\")\n",
    "# readline() 코드 생략\n",
    "for line in f:\n",
    "    print(line, end='')\n",
    "# 다시 첫번째 라인으로 이동\n",
    "# f.seek(offset, from_what)\n",
    "# from_what : 0 파일의 시작 위치(기본값), 1 현재 위치, 2 파일의 끝 위치\n",
    "f.seek(0,0)\n",
    "# f.seek(22,0)\n",
    "line = f.readline()\n",
    "print(line)\n",
    "# 파일 포인터의 위치 확인\n",
    "print(f.tell())\n",
    "f.close()"
   ]
  },
  {
   "cell_type": "code",
   "execution_count": 12,
   "metadata": {},
   "outputs": [
    {
     "name": "stdout",
     "output_type": "stream",
     "text": [
      "['1번째 줄입니다.\\n', '2번째 줄입니다.\\n', '3번째 줄입니다.\\n', '4번째 줄입니다.\\n', '5번째 줄입니다.\\n', '6번째 줄입니다.\\n', '7번째 줄입니다.\\n', '8번째 줄입니다.\\n', '9번째 줄입니다.\\n', '10번째 줄입니다.\\n']\n"
     ]
    }
   ],
   "source": [
    "# 파일의 내용을 리스트로 저장\n",
    "f = open(\"/Users/kyeongmin/Documents/python_basic/mannaedu/source/file3.txt\", \"r\")\n",
    "f_list = list(f)\n",
    "print(f_list)\n",
    "f.close()"
   ]
  },
  {
   "cell_type": "code",
   "execution_count": 13,
   "metadata": {},
   "outputs": [
    {
     "name": "stdout",
     "output_type": "stream",
     "text": [
      "['1번째 줄입니다.\\n', '2번째 줄입니다.\\n', '3번째 줄입니다.\\n', '4번째 줄입니다.\\n', '5번째 줄입니다.\\n', '6번째 줄입니다.\\n', '7번째 줄입니다.\\n', '8번째 줄입니다.\\n', '9번째 줄입니다.\\n', '10번째 줄입니다.\\n']\n",
      "1번째 줄입니다.\n",
      "2번째 줄입니다.\n",
      "3번째 줄입니다.\n",
      "4번째 줄입니다.\n",
      "5번째 줄입니다.\n",
      "6번째 줄입니다.\n",
      "7번째 줄입니다.\n",
      "8번째 줄입니다.\n",
      "9번째 줄입니다.\n",
      "10번째 줄입니다.\n"
     ]
    }
   ],
   "source": [
    "# 파일을 읽기전용으로 불러옴\n",
    "f = open(\"/Users/kyeongmin/Documents/python_basic/mannaedu/source/file3.txt\", \"r\")\n",
    "# 파일 내용을 읽어서 리스트로 리턴\n",
    "f_list = list(f)\n",
    "print(f_list)\n",
    "# 파일의 각 라인 출력\n",
    "for line in f_list:\n",
    "    print(line, end='')\n",
    "# 파일 닫기\n",
    "f.close()"
   ]
  },
  {
   "cell_type": "code",
   "execution_count": 14,
   "metadata": {},
   "outputs": [
    {
     "name": "stdout",
     "output_type": "stream",
     "text": [
      "10000\n",
      "3.1415926535897932384626433832795028841971693993751058209749445923078164062862089986280348253421170679\n",
      "\n",
      "숫자를 입력하세요:14213\n",
      "14213숫자를 pie 문자열에서 찾았습니다.\n",
      "찾은 횟수: 7\n"
     ]
    }
   ],
   "source": [
    "# pi를 소수점 아래 백만자리까지 저장한 텍스트 파일을 로딩\n",
    "filename = \"/Users/kyeongmin/Documents/python_basic/mannaedu/source/pi_million_digits.txt\"\n",
    "with open(filename) as f:\n",
    "    lines = f.readlines()\n",
    "    \n",
    "print(len(lines))   # 리스트의 요소 개수\n",
    "print(lines[0]) # 리스트의 첫본째 요소 출력\n",
    "pi_string = ''\n",
    "for line in lines:\n",
    "    pi_string += line.rstrip()\n",
    "num = input('숫자를 입력하세요:')\n",
    "if num in pi_string:\n",
    "    print(num + \"숫자를 pie 문자열에서 찾았습니다.\")\n",
    "    # 몇번 찾았는지 출력\n",
    "    total=pi_string.count(num)\n",
    "    print(\"찾은 횟수:\", total)\n",
    "else:\n",
    "    print(num + \"숫자를 찾지 못했습니다.\")"
   ]
  },
  {
   "cell_type": "code",
   "execution_count": 15,
   "metadata": {},
   "outputs": [
    {
     "name": "stdout",
     "output_type": "stream",
     "text": [
      "2\n"
     ]
    }
   ],
   "source": [
    "str = \"i love you, you love me\"\n",
    "print(str.count(\"you\"))"
   ]
  },
  {
   "cell_type": "code",
   "execution_count": null,
   "metadata": {},
   "outputs": [],
   "source": []
  }
 ],
 "metadata": {
  "kernelspec": {
   "display_name": "Python 3",
   "language": "python",
   "name": "python3"
  },
  "language_info": {
   "codemirror_mode": {
    "name": "ipython",
    "version": 3
   },
   "file_extension": ".py",
   "mimetype": "text/x-python",
   "name": "python",
   "nbconvert_exporter": "python",
   "pygments_lexer": "ipython3",
   "version": "3.7.1"
  }
 },
 "nbformat": 4,
 "nbformat_minor": 2
}
