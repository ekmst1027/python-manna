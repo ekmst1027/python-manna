{
 "cells": [
  {
   "cell_type": "markdown",
   "metadata": {},
   "source": [
    "# 웹 스크레이핑\n",
    "\n",
    "## 가. 웹 스크래핑의 개념\n",
    "\n",
    "1) 웹 스크레이핑(web scraping)\n",
    "    - 웹 사이트 상에서 원하는 부분에 위치한 정보를 컴퓨터로 하여금 자동으로 추출하여 수집하도록 하는 기술\n",
    "    \n",
    "2) 웹 크롤링(web crawling)\n",
    "    - 자동화 봇(bot)인 웹 크롤러(web crawler)가 정해진 규칙에 따라 복수 개의 웹 페이지를 브라우징하는 작업\n",
    "    \n",
    "## 나. 웹 스크래핑을 위한 라이브러리\n",
    "1) BeautifulSoup <br>\n",
    "2) scrapy"
   ]
  },
  {
   "cell_type": "code",
   "execution_count": 1,
   "metadata": {},
   "outputs": [
    {
     "name": "stdout",
     "output_type": "stream",
     "text": [
      "b'<!doctype html><html itemscope=\"\" itemtype=\"http://schema.org/WebPage\" lang=\"ko\"><head><meta content=\"text/html; charset=UTF-8\" http-equiv=\"Content-Type\"><meta content=\"/logos/doodles/2019/labour-day-2019-5473379443277824.5-l.png\" itemprop=\"image\"><meta content=\"2019 &#44540;&#47196;&#51088;&#51032;&#45216;\" property=\"twitter:title\"><meta content=\"2019 &#44540;&#47196;&#51088;&#51032;&#45216; &#44592;&#45392; #Google&#44592;&#45392;&#51068;&#47196;&#44256;\" property=\"twitter:description\"><meta content=\"2019 &#44540;&#47196;&#51088;&#51032;&#45216; &#44592;&#45392; #Google&#44592;&#45392;&#51068;&#47196;&#44256;\" property=\"og:description\"><meta content=\"summary_large_image\" property=\"twitter:card\"><meta content=\"@GoogleDoodles\" property=\"twitter:site\"><meta content=\"https://www.google.com/logos/doodles/2019/labour-day-2019-5473379443277824-2x.png\" property=\"twitter:image\"><meta content=\"https://www.google.com/logos/doodles/2019/labour-day-2019-5473379443277824-2x.png\" property=\"og:image\"><meta content=\"1158\" property=\"og:image:width\"><meta content=\"319\" property=\"og:image:height\"><title>Google</title><script nonce=\"xRTKLMLqrVe94tppzksRfQ==\">(function(){window.google={kEI:\\'JxjJXIPcGoeEr7wP4ZO7sAU\\',kEXPI:\\'0,1353746,58,1958,2422,697,528,730,224,1575,1257,824,1070,407,178,350,667,225,413,2332941,329545,1294,12383,4855,32692,15247,867,12163,5281,1954,7094,2192,369,3314,5505,2442,260,1027,2715,461,904,575,835,284,2,1306,2431,1362,4323,4967,774,2250,4744,1151,2,1965,2595,3601,669,1050,1808,1397,81,7,491,620,29,1395,978,6769,1162,1288,2,3107,900,796,101,1119,38,920,746,7,120,1217,1211,153,99,247,1,1264,2736,3061,2,631,732,1830,2,4,2,671,43,370,3374,404,510,125,2607,633,1138,1089,656,20,90,227,235,1358,389,1389,404,373,1,3,366,1016,301,607,97,756,98,392,30,399,992,1098,19,168,8,109,187,831,235,78,365,367,450,174,218,346,166,241,44,553,11,14,10,573,356,733,836,76,898,9,25,177,37,92,39,155,5,55,1107,90,66,90,127,258,155,144,324,7,58,106,22,241,28,262,278,89,2,171,68,1,36,24,61,99,58,9,57,38,327,276,698,427,100,84,145,187,90,52,70,13,12,112,526,321,165,562,351,445,9,863,617,149,269,16,32,219,81,513,41,367,1017,725,328,9,48,376,146,117,72,225,304,5938787,2920,5997516,40,2799864,4,1572,549,333,444,1,2,80,1,900,583,9,304,1,8,1,2,2132,1,1,1,1,1,414,1,748,141,59,726,3,7,563,1,1735,1,112,5,2,61,2,2,11,43,1,13,16\\',authuser:0,kscs:\\'c9c918f0_JxjJXIPcGoeEr7wP4ZO7sAU\\',kGL:\\'KR\\'};google.sn=\\'webhp\\';google.kHL=\\'ko\\';})();(function(){google.lc=[];google.li=0;google.getEI=function(a){for(var b;a&&(!a.getAttribute||!(b=a.getAttribute(\"eid\")));)a=a.parentNode;return b||google.kEI};google.getLEI=function(a){for(var b=null;a&&(!a.getAttribute||!(b=a.getAttribute(\"leid\")));)a=a.parentNode;return b};google.https=function(){return\"https:\"==window.location.protocol};google.ml=function(){return null};google.time=function(){return(new Date).getTime()};google.log=function(a,b,e,c,g){if(a=google.logUrl(a,b,e,c,g)){b=new Image;var d=google.lc,f=google.li;d[f]=b;b.onerror=b.onload=b.onabort=function(){delete d[f]};google.vel&&google.vel.lu&&google.vel.lu(a);b.src=a;google.li=f+1}};google.logUrl=function(a,b,e,c,g){var d=\"\",f=google.ls||\"\";e||-1!=b.search(\"&ei=\")||(d=\"&ei=\"+google.getEI(c),-1==b.search(\"&lei=\")&&(c=google.getLEI(c))&&(d+=\"&lei=\"+c));c=\"\";!e&&google.cshid&&-1==b.search(\"&cshid=\")&&\"slh\"!=a&&(c=\"&cshid=\"+google.cshid);a=e||\"/\"+(g||\"gen_204\")+\"?atyp=i&ct=\"+a+\"&cad=\"+b+d+f+\"&zx=\"+google.time()+c;/^http:/i.test(a)&&google.https()&&(google.ml(Error(\"a\"),!1,{src:a,glmm:1}),a=\"\");return a};}).call(this);(function(){google.y={};google.x=function(a,b){if(a)var c=a.id;else{do c=Math.random();while(google.y[c])}google.y[c]=[a,b];return!1};google.lm=[];google.plm=function(a){google.lm.push.apply(google.lm,a)};google.lq=[];google.load=function(a,b,c){google.lq.push([[a],b,c])};google.loadAll=function(a,b){google.lq.push([a,b])};}).call(this);google.f={};var a=window.location,b=a.href.indexOf(\"#\");if(0<=b){var c=a.href.substring(b+1);/(^|&)q=/.test(c)&&-1==c.indexOf(\"#\")&&a.replace(\"/search?\"+c.replace(/(^|&)fp=[^&]*/g,\"\")+\"&cad=h\")};</script><style>#gbar,#guser{font-size:13px;padding-top:1px !important;}#gbar{height:22px}#guser{padding-bottom:7px !important;text-align:right}.gbh,.gbd{border-top:1px solid #c9d7f1;font-size:1px}.gbh{height:0;position:absolute;top:24px;width:100%}@media all{.gb1{height:22px;margin-right:.5em;vertical-align:top}#gbar{float:left}}a.gb1,a.gb4{text-decoration:underline !important}a.gb1,a.gb4{color:#00c !important}.gbi .gb4{color:#dd8e27 !important}.gbf .gb4{color:#900 !important}\\n</style><style>body,td,a,p,.h{font-family:&#44404;&#47548;,&#46027;&#50880;,arial,sans-serif}.ko{font-size:9pt}body{margin:0;overflow-y:scroll}#gog{padding:3px 8px 0}td{line-height:.8em}.gac_m td{line-height:17px}form{margin-bottom:20px}.h{color:#36c}.q{color:#00c}.ts td{padding:0}.ts{border-collapse:collapse}em{font-weight:bold;font-style:normal}.lst{height:25px;width:496px}.gsfi,.lst{font:18px arial,sans-serif}.gsfs{font:17px arial,sans-serif}.ds{display:inline-box;display:inline-block;margin:3px 0 4px;margin-left:4px}input{font-family:inherit}a.gb1,a.gb2,a.gb3,a.gb4{color:#11c !important}body{background:#fff;color:black}a{color:#11c;text-decoration:none}a:hover,a:active{text-decoration:underline}.fl a{color:#36c}a:visited{color:#551a8b}a.gb1,a.gb4{text-decoration:underline}a.gb3:hover{text-decoration:none}#ghead a.gb2:hover{color:#fff !important}.sblc{padding-top:5px}.sblc a{display:block;margin:2px 0;margin-left:13px;font-size:11px}.lsbb{background:#eee;border:solid 1px;border-color:#ccc #999 #999 #ccc;height:30px}.lsbb{display:block}.ftl,#fll a{display:inline-block;margin:0 12px}.lsb{background:url(/images/nav_logo229.png) 0 -261px repeat-x;border:none;color:#000;cursor:pointer;height:30px;margin:0;outline:0;font:15px arial,sans-serif;vertical-align:top}.lsb:active{background:#ccc}.lst:focus{outline:none}.tiah{width:458px}</style><script nonce=\"xRTKLMLqrVe94tppzksRfQ==\"></script></head><body bgcolor=\"#fff\"><script nonce=\"xRTKLMLqrVe94tppzksRfQ==\">(function(){var src=\\'/images/nav_logo229.png\\';var iesg=false;document.body.onload = function(){window.n && window.n();if (document.images){new Image().src=src;}\\nif (!iesg){document.f&&document.f.q.focus();document.gbqf&&document.gbqf.q.focus();}\\n}\\n})();</script><div id=\"mngb\"> <div id=gbar><nobr><b class=gb1>&#44160;&#49353;</b> <a class=gb1 href=\"https://www.google.co.kr/imghp?hl=ko&tab=wi\">&#51060;&#48120;&#51648;</a> <a class=gb1 href=\"https://maps.google.co.kr/maps?hl=ko&tab=wl\">&#51648;&#46020;</a> <a class=gb1 href=\"https://play.google.com/?hl=ko&tab=w8\">Play</a> <a class=gb1 href=\"https://www.youtube.com/?gl=KR&tab=w1\">YouTube</a> <a class=gb1 href=\"https://news.google.co.kr/nwshp?hl=ko&tab=wn\">&#45684;&#49828;</a> <a class=gb1 href=\"https://mail.google.com/mail/?tab=wm\">Gmail</a> <a class=gb1 href=\"https://drive.google.com/?tab=wo\">&#46300;&#46972;&#51060;&#48652;</a> <a class=gb1 style=\"text-decoration:none\" href=\"https://www.google.co.kr/intl/ko/about/products?tab=wh\"><u>&#45908;&#48372;&#44592;</u> &raquo;</a></nobr></div><div id=guser width=100%><nobr><span id=gbn class=gbi></span><span id=gbf class=gbf></span><span id=gbe></span><a href=\"http://www.google.co.kr/history/optout?hl=ko\" class=gb4>&#50937; &#44592;&#47197;</a> | <a  href=\"/preferences?hl=ko\" class=gb4>&#49444;&#51221;</a> | <a target=_top id=gb_70 href=\"https://accounts.google.com/ServiceLogin?hl=ko&passive=true&continue=https://www.google.com/\" class=gb4>&#47196;&#44536;&#51064;</a></nobr></div><div class=gbh style=left:0></div><div class=gbh style=right:0></div> </div><center><br clear=\"all\" id=\"lgpd\"><div id=\"lga\"><a href=\"/search?ie=UTF-8&amp;q=%EA%B7%BC%EB%A1%9C%EC%9E%90%EC%9D%98%EB%82%A0&amp;oi=ddle&amp;ct=labour-day-2019-5473379443277824&amp;hl=ko&amp;kgmid=/m/04_9g&amp;sa=X&amp;ved=0ahUKEwjDi7-mt_nhAhUHwosBHeHJDlYQPQgD\"><img alt=\"2019 &#44540;&#47196;&#51088;&#51032;&#45216;\" border=\"0\" height=\"200\" src=\"/logos/doodles/2019/labour-day-2019-5473379443277824.5-l.png\" title=\"2019 &#44540;&#47196;&#51088;&#51032;&#45216;\" width=\"500\" id=\"hplogo\" onload=\"window.lol&&lol()\"><br></a><br></div><form action=\"/search\" name=\"f\"><table cellpadding=\"0\" cellspacing=\"0\"><tr valign=\"top\"><td width=\"25%\">&nbsp;</td><td align=\"center\" nowrap=\"\"><input name=\"ie\" value=\"ISO-8859-1\" type=\"hidden\"><input value=\"ko\" name=\"hl\" type=\"hidden\"><input name=\"source\" type=\"hidden\" value=\"hp\"><input name=\"biw\" type=\"hidden\"><input name=\"bih\" type=\"hidden\"><div class=\"ds\" style=\"height:32px;margin:4px 0\"><div style=\"position:relative;zoom:1\"><input style=\"color:#000;margin:0;padding:5px 8px 0 6px;vertical-align:top;padding-right:38px\" autocomplete=\"off\" class=\"lst tiah\" value=\"\" title=\"Google &#44160;&#49353;\" maxlength=\"2048\" name=\"q\" size=\"57\"><img src=\"/textinputassistant/tia.png\" style=\"position:absolute;cursor:pointer;right:5px;top:4px;z-index:300\" data-script-url=\"/textinputassistant/11/ko_tia.js\" alt=\"\" height=\"23\" onclick=\"var s=document.createElement(\\'script\\');s.src=this.getAttribute(\\'data-script-url\\');(document.getElementById(\\'xjsc\\')||document.body).appendChild(s);\" width=\"27\"></div></div><br style=\"line-height:0\"><span class=\"ds\"><span class=\"lsbb\"><input class=\"lsb\" value=\"Google &#44160;&#49353;\" name=\"btnG\" type=\"submit\"></span></span><span class=\"ds\"><span class=\"lsbb\"><input class=\"lsb\" value=\"I&#8217;m Feeling Lucky\" name=\"btnI\" onclick=\"if(this.form.q.value)this.checked=1; else top.location=\\'/doodles/\\'\" type=\"submit\"></span></span></td><td class=\"fl sblc\" align=\"left\" nowrap=\"\" width=\"25%\"><a href=\"/advanced_search?hl=ko&amp;authuser=0\">&#44256;&#44553;&#44160;&#49353;</a><a href=\"/language_tools?hl=ko&amp;authuser=0\">&#50616;&#50612;&#46020;&#44396;</a></td></tr></table><input id=\"gbv\" name=\"gbv\" type=\"hidden\" value=\"1\"><script nonce=\"xRTKLMLqrVe94tppzksRfQ==\">(function(){var a,b=\"1\";if(document&&document.getElementById)if(\"undefined\"!=typeof XMLHttpRequest)b=\"2\";else if(\"undefined\"!=typeof ActiveXObject){var c,d,e=[\"MSXML2.XMLHTTP.6.0\",\"MSXML2.XMLHTTP.3.0\",\"MSXML2.XMLHTTP\",\"Microsoft.XMLHTTP\"];for(c=0;d=e[c++];)try{new ActiveXObject(d),b=\"2\"}catch(h){}}a=b;if(\"2\"==a&&-1==location.search.indexOf(\"&gbv=2\")){var f=google.gbvu,g=document.getElementById(\"gbv\");g&&(g.value=a);f&&window.setTimeout(function(){location.href=f},0)};}).call(this);</script></form><div id=\"gac_scont\"></div><div style=\"font-size:83%;min-height:3.5em\"><br></div><span id=\"footer\"><div style=\"font-size:10pt\"><div style=\"margin:19px auto;text-align:center\" id=\"fll\"><a href=\"/intl/ko/ads/\">&#44305;&#44256; &#54532;&#47196;&#44536;&#47016;</a><a href=\"http://www.google.co.kr/intl/ko/services/\">&#48708;&#51592;&#45768;&#49828; &#49556;&#47336;&#49496;</a><a href=\"/intl/ko/about.html\">Google &#51221;&#48372;</a><a href=\"https://www.google.com/setprefdomain?prefdom=KR&amp;prev=https://www.google.co.kr/&amp;sig=K_UM2q4qyaYwxZNwmuml5iiQU3ckE%3D\">Google.co.kr</a></div></div><p style=\"color:#767676;font-size:8pt\">&copy; 2019 - <a href=\"/intl/ko/policies/privacy/\">&#44060;&#51064;&#51221;&#48372;&#52376;&#47532;&#48169;&#52840;</a> - <a href=\"/intl/ko/policies/terms/\">&#50557;&#44288;</a></p></span></center><script nonce=\"xRTKLMLqrVe94tppzksRfQ==\">(function(){window.google.cdo={height:0,width:0};(function(){var a=window.innerWidth,b=window.innerHeight;if(!a||!b){var c=window.document,d=\"CSS1Compat\"==c.compatMode?c.documentElement:c.body;a=d.clientWidth;b=d.clientHeight}a&&b&&(a!=google.cdo.width||b!=google.cdo.height)&&google.log(\"\",\"\",\"/client_204?&atyp=i&biw=\"+a+\"&bih=\"+b+\"&ei=\"+google.kEI);}).call(this);})();(function(){var u=\\'/xjs/_/js/k\\\\x3dxjs.hp.en.YAUTxk1hcZs.O/m\\\\x3dsb_he,d/am\\\\x3dBAxqAQ/rt\\\\x3dj/d\\\\x3d1/rs\\\\x3dACT90oG-5GoEgujHJJ8s16jBoAuiA6P0CA\\';setTimeout(function(){var a=document.createElement(\"script\");a.src=u;google.timers&&google.timers.load&&google.tick&&google.tick(\"load\",\"xjsls\");document.body.appendChild(a)},0);})();(function(){window.google.xjsu=\\'/xjs/_/js/k\\\\x3dxjs.hp.en.YAUTxk1hcZs.O/m\\\\x3dsb_he,d/am\\\\x3dBAxqAQ/rt\\\\x3dj/d\\\\x3d1/rs\\\\x3dACT90oG-5GoEgujHJJ8s16jBoAuiA6P0CA\\';})();function _DumpException(e){throw e;}\\nfunction _F_installCss(c){}\\n(function(){google.spjs=false;})();google.sm=1;(function(){var pmc=\\'{\\\\x22Qnk92g\\\\x22:{},\\\\x22RWGcrA\\\\x22:{},\\\\x22U5B21g\\\\x22:{},\\\\x22YFCs/g\\\\x22:{},\\\\x22ZI/YVQ\\\\x22:{},\\\\x22d\\\\x22:{},\\\\x22sb_he\\\\x22:{\\\\x22agen\\\\x22:true,\\\\x22cgen\\\\x22:true,\\\\x22client\\\\x22:\\\\x22heirloom-hp\\\\x22,\\\\x22dh\\\\x22:true,\\\\x22dhqt\\\\x22:true,\\\\x22ds\\\\x22:\\\\x22\\\\x22,\\\\x22ffql\\\\x22:\\\\x22ko\\\\x22,\\\\x22fl\\\\x22:true,\\\\x22host\\\\x22:\\\\x22google.com\\\\x22,\\\\x22isbh\\\\x22:28,\\\\x22jsonp\\\\x22:true,\\\\x22msgs\\\\x22:{\\\\x22cibl\\\\x22:\\\\x22&#44160;&#49353;&#50612; &#51648;&#50864;&#44592;\\\\x22,\\\\x22dym\\\\x22:\\\\x22&#51060;&#44163;&#51012; &#52286;&#51004;&#49512;&#45208;&#50836;?\\\\x22,\\\\x22lcky\\\\x22:\\\\x22I&#8217;m Feeling Lucky\\\\x22,\\\\x22lml\\\\x22:\\\\x22&#51088;&#49464;&#55176; &#50508;&#50500;&#48372;&#44592;\\\\x22,\\\\x22oskt\\\\x22:\\\\x22&#51077;&#47141; &#46020;&#44396;\\\\x22,\\\\x22psrc\\\\x22:\\\\x22&#44160;&#49353;&#50612;&#44032; \\\\\\\\u003Ca href\\\\x3d\\\\\\\\\\\\x22/history\\\\\\\\\\\\x22\\\\\\\\u003E&#50937; &#44592;&#47197;\\\\\\\\u003C/a\\\\\\\\u003E&#50640;&#49436; &#49325;&#51228;&#46104;&#50632;&#49845;&#45768;&#45796;.\\\\x22,\\\\x22psrl\\\\x22:\\\\x22&#49325;&#51228;\\\\x22,\\\\x22sbit\\\\x22:\\\\x22&#51060;&#48120;&#51648;&#47196; &#44160;&#49353;\\\\x22,\\\\x22srch\\\\x22:\\\\x22Google &#44160;&#49353;\\\\x22},\\\\x22ovr\\\\x22:{},\\\\x22pq\\\\x22:\\\\x22\\\\x22,\\\\x22refpd\\\\x22:true,\\\\x22refspre\\\\x22:true,\\\\x22rfs\\\\x22:[],\\\\x22sbpl\\\\x22:24,\\\\x22sbpr\\\\x22:24,\\\\x22scd\\\\x22:10,\\\\x22sce\\\\x22:5,\\\\x22stok\\\\x22:\\\\x22WM5o-OTZWm7e_2NklSX4V-VFIok\\\\x22,\\\\x22uhde\\\\x22:false}}\\';google.pmc=JSON.parse(pmc);})();</script>        </body></html>'\n"
     ]
    }
   ],
   "source": [
    "from urllib.request import urlopen\n",
    "# url에 접속\n",
    "html = urlopen(\"https://google.com\")\n",
    "# url의 웹페이지(html)를 읽어옴\n",
    "print(html.read())"
   ]
  },
  {
   "cell_type": "code",
   "execution_count": 2,
   "metadata": {},
   "outputs": [
    {
     "name": "stdout",
     "output_type": "stream",
     "text": [
      "b'\\r\\n\\r\\n\\t\\r\\n\\r\\n\\r\\n\\t\\r\\n\\r\\n\\r\\n\\r\\n\\r\\n\\r\\n\\t\\r\\n<!DOCTYPE HTML PUBLIC \"-//W3C//DTD HTML 4.01 Transitional//EN\" \"http://www.w3.org/TR/html4/loose.dtd\">\\r\\n<html lang=\"en-US\" xml:lang=\"en-US\">\\r\\n<head>\\r\\n<meta http-equiv=\"content-type\" content=\"text/html; charset=UTF-8\"/>\\r\\n<meta name=\"Language\" content=\"en-US\"/>\\r\\n<meta name=\"ROBOTS\" content=\"INDEX,FOLLOW\"/>\\r\\n\\r\\n<title>java.com: Java + You</title>\\r\\n\\r\\n\\t<meta name=\"description\" content=\"\"/>\\r\\n\\t<meta name=\"keywords\" content=\"java, downloads, software\"/>\\r\\n<meta name=\"date\" content=\"2019-04-14\"/>\\n \\r\\n\\r\\n\\r\\n<link rel=\"stylesheet\" href=\"/ga/css/screen.css\" type=\"text/css\" media=\"screen\" charset=\"utf-8\"/>\\r\\n<link rel=\"stylesheet\" href=\"/ga/css/print.css\" type=\"text/css\" media=\"print\" charset=\"utf-8\"/><meta name=\"verify-v1\" content=\"3MS6DrzS1vPAj6FPVD41s0687Kbf9IhJBaj4aQpzIu0=\" />\\r\\n<meta http-equiv=\"X-UA-Compatible\" content=\"IE=7\" />\\r\\n\\t<script async=\"async\" type=\"text/javascript\" src=\\'//consent.trustarc.com/notice?domain=oracle.com&c=teconsent&js=bb&noticeType=bb&text=true&gtm=1&language=en\\' crossorigin=\"\"></script>\\r\\n\\t\\r\\n\\t<style type=\"text/css\">\\r\\n  \\t\\t#teconsent a {\\r\\n  \\t\\t\\ttext-decoration: underline;\\r\\n  \\t\\t}\\r\\n  \\r\\n  \\t\\t#teconsent a:hover {\\r\\n  \\t\\t\\ttext-decoration: none;\\r\\n  \\t\\t}\\r\\n\\t</style>\\r\\n\\t\\r\\n\\t<script async src=\"https://dyn-beacon.akamaized.net/js/dyn.beacon.v4.js\" id=\"beaconcfg\" data-id=\\'0138\\'></script>\\r\\n\\t\\r\\n\\n<script>!function(){function o(n,i){if(n&&i)for(var r in i)i.hasOwnProperty(r)&&(void 0===n[r]?n[r]=i[r]:n[r].constructor===Object&&i[r].constructor===Object?o(n[r],i[r]):n[r]=i[r])}try{var n=decodeURIComponent(\"\");if(n.length>0&&window.JSON&&\"function\"==typeof window.JSON.parse){var i=JSON.parse(n);void 0!==window.BOOMR_config?o(window.BOOMR_config,i):window.BOOMR_config=i}}catch(r){window.console&&\"function\"==typeof window.console.error&&console.error(\"mPulse: Could not parse configuration\",r)}}();</script>\\n<script>!function(a){var e=\"https://s.go-mpulse.net/boomerang/\",t=\"addEventListener\";if(\"False\"==\"True\")a.BOOMR_config=a.BOOMR_config||{},a.BOOMR_config.PageParams=a.BOOMR_config.PageParams||{},a.BOOMR_config.PageParams.pci=!0,e=\"https://s2.go-mpulse.net/boomerang/\";if(function(){function n(e){a.BOOMR_onload=e&&e.timeStamp||(new Date).getTime()}if(!a.BOOMR||!a.BOOMR.version&&!a.BOOMR.snippetExecuted){a.BOOMR=a.BOOMR||{},a.BOOMR.snippetExecuted=!0;var i,o,r,O=document.createElement(\"iframe\");if(a[t])a[t](\"load\",n,!1);else if(a.attachEvent)a.attachEvent(\"onload\",n);O.src=\"javascript:void(0)\",O.title=\"\",O.role=\"presentation\",(O.frameElement||O).style.cssText=\"width:0;height:0;border:0;display:none;\",r=document.getElementsByTagName(\"script\")[0],r.parentNode.insertBefore(O,r);try{o=O.contentWindow.document}catch(_){i=document.domain,O.src=\"javascript:var d=document.open();d.domain=\\'\"+i+\"\\';void(0);\",o=O.contentWindow.document}o.open()._l=function(){var a=this.createElement(\"script\");if(i)this.domain=i;a.id=\"boomr-if-as\",a.src=e+\"T79A9-GDDN2-93ZD5-M6HUR-X83QX\",BOOMR_lstart=(new Date).getTime(),this.body.appendChild(a)},o.write(\"<bo\"+\\'dy onload=\"document._l();\">\\'),o.close()}}(),\"\".length>0)if(a&&\"performance\"in a&&a.performance&&\"function\"==typeof a.performance.setResourceTimingBufferSize)a.performance.setResourceTimingBufferSize();!function(){if(BOOMR=a.BOOMR||{},BOOMR.plugins=BOOMR.plugins||{},!BOOMR.plugins.AK){var e=\"\"==\"true\"?1:0,t=\"\",n=\"2jz3niqxggjzcxgjdatq-f-1851519ca-clientnsv4-s.akamaihd.net\",i={\"ak.v\":20,\"ak.cp\":\"131324\",\"ak.ai\":parseInt(\"160235\",10),\"ak.ol\":\"0\",\"ak.cr\":42,\"ak.ipv\":4,\"ak.proto\":\"\",\"ak.rid\":\"2862da47\",\"ak.r\":30430,\"ak.a2\":e,\"ak.m\":\"dscx\",\"ak.n\":\"essl\",\"ak.bpcip\":\"210.115.182.0\",\"ak.cport\":58990,\"ak.gh\":\"72.246.103.88\",\"ak.quicv\":\"\",\"ak.tlsv\":\"tls1.2\",\"ak.0rtt\":\"\",\"ak.csrc\":\"-\",\"ak.acc\":\"reno\",\"ak.t\":\"1556682791\"};if(\"\"!==t)i[\"ak.ruds\"]=t;var o={i:!1,av:function(e){var t=\"http.initiator\";if(e&&(!e[t]||\"spa_hard\"===e[t]))i[\"ak.feo\"]=void 0!==a.aFeoApplied?1:0,BOOMR.addVar(i)},rv:function(){var a=[\"ak.bpcip\",\"ak.cport\",\"ak.cr\",\"ak.csrc\",\"ak.gh\",\"ak.ipv\",\"ak.m\",\"ak.n\",\"ak.ol\",\"ak.proto\",\"ak.quicv\",\"ak.tlsv\",\"ak.0rtt\",\"ak.r\",\"ak.acc\",\"ak.t\"];BOOMR.removeVar(a)}};BOOMR.plugins.AK={akVars:i,akDNSPreFetchDomain:n,init:function(){if(!o.i){var a=BOOMR.subscribe;a(\"before_beacon\",o.av,null,null),a(\"onbeacon\",o.rv,null,null),o.i=!0}return this},is_complete:function(){return!0}}}}()}(window);</script></head>\\r\\n\\r\\n\\r\\n<body>\\r\\n\\r\\n\\r\\n\\t \\r\\n\\t \\r\\n\\r\\n\\r\\n\\r\\n\\r\\n\\r\\n\\r\\n\\r\\n\\r\\n\\r\\n\\r\\n\\r\\n\\r\\n\\r\\n\\t\\r\\n\\t\\r\\n\\t \\r\\n\\r\\n\\r\\n\\r\\n\\r\\n\\r\\n\\r\\n\\r\\n\\r\\n\\r\\n\\t\\r\\n\\t\\t\\r\\n\\t\\t\\t\\r\\n\\t\\t\\t\\t\\r\\n\\t\\t\\t  \\t\\r\\n\\t\\t\\t\\t\\r\\n\\t\\t\\t\\t\\t\\r\\n\\t\\t\\t\\t\\r\\n\\t\\t\\t\\r\\n\\t\\t\\r\\n\\t\\t\\r\\n\\t\\t\\r\\n\\t\\t\\t\\r\\n\\t\\t\\t\\r\\n\\t\\t\\t\\r\\n\\t<!-- BEGIN: jWidget_C/Header/Display -->\\r\\n\\t\\r\\n\\t\\r\\n\\t\\r\\n\\t\\r\\n\\t\\t \\r\\n\\t\\t \\r\\n\\t\\r\\n\\t\\r\\n\\t\\t\\r\\n\\t\\r\\n\\t<div class=\"jvh0\">\\r\\n\\t\\t<a class=\"jvl0\" href=\"/en/\" title=\"java.com\">Java.com</a>\\n<p>\\n<a href=\"/inc/BrowserRedirect1.jsp?locale=en\">Download</a>\\n<a href=\"/en/download/help/\">Help</a>\\n</p>\\n\\n<form name=\"searchForm\" method=\"get\" action=\"https://www.oracle.com/search/results\" accept-charset=\"utf-8\" class=\"jvs0 jv0sv0\" onsubmit=\"if((document.searchForm.Ntt.value == document.searchForm.Ntt.defaultValue) || (document.searchForm.Ntt.value == \\'\\')){return false;}\">\\n<input type=\"hidden\" name=\"cat\" value=\"javacom\">\\n<input type=\"hidden\" name=\"Ntk\" value=\"SI-ALL5\">\\n<input type=\"hidden\" name=\"lang\" value=\"en\">\\n<input class=\"bodytext\" maxlength=\"55\" name=\"Ntt\" onfocus=\"if( this.value==this.defaultValue ) this.value=\\'\\';\" onblur=\"if( this.value==\\'\\' ) this.value=this.defaultValue;\" size=\"20\" title=\"Search\" type=\"text\" value=\"Search\" />\\n<input alt=\"Search\" id=\"searchbtn\" name=\"submit\" src=\"/ga/images/jv0_search_btn.gif\" type=\"image\" />\\n</form>\\r\\n\\t</div>\\r\\n\\t<!-- END: jWidget_C/Header/Display -->\\r\\n\\r\\n\\t\\t\\t\\t\\r\\n\\t\\r\\n\\t\\r\\n\\r\\n\\r\\n\\r\\n\\r\\n\\r\\n\\r\\n\\r\\n\\r\\n<!--  CONTENT -->\\r\\n\\r\\n<!--  jvc0 -->\\r\\n<div class=\"jvc0 jvc0v2 clearfix\" id=\"jvc0v2\">\\r\\n\\t<!--  jvc0w1 -->\\r\\n\\t<div class=\"jvc0w1 clearfix bg1\">\\r\\n\\t\\t<div class=\"jvc0w2\">\\r\\n\\t\\t\\t\\r\\n\\t\\t\\t<h1>Java<em>+</em>You, Download Today!</h1>\\r\\n\\t\\t\\t\\r\\n\\t\\t\\t<div class=\"jvdl0 jvdl0v0\">\\r\\n\\t\\t\\t\\t<a href=\"/inc/BrowserRedirect1.jsp?locale=en\" title=\"Free Java Download\" class=\"jvdla0\">\\r\\n\\t\\t\\t\\t\\t<div class=\"jvdl0x1\"></div>\\r\\n\\t\\t\\t\\t\\t<span>Java Download</span>\\r\\n\\t\\t\\t\\t</a>\\r\\n\\t\\t\\t\\t<p>\\r\\n\\t\\t\\t\\t<span class=\"rightarrowred\">&raquo;</span> <a href=\"https://go.java/index.html?intcmp=gojava-banner-java-com\">What is Java?</a>\\r\\n\\t\\t\\t\\t<span class=\"rightarrowred\">&raquo;</span>\\t <a href=\"/en/download/installed8.jsp\">Do I have Java?</a>\\r\\n\\t\\t\\t\\t<span class=\"rightarrowred\">&raquo;</span> <a href=\"/en/download/help/\">Need Help?</a>\\r\\n                                <span class=\"rightarrowred\">&raquo;</span> <a href=\"/en/uninstall/\">Uninstall</a> \\r\\n\\t\\t\\t\\t</p>\\r\\n\\t\\t\\t</div>\\r\\n\\t\\t\\t\\r\\n\\t\\t</div>\\r\\n\\t</div>\\r\\n\\t<!-- /jvc0w1 -->\\r\\n\\r\\n<div id=\"jvhx0\" class=\"jvhx0v0\">\\r\\n\\t<h2>About Java</h2>\\r\\n\\r\\n<!-- BEGIN: jWidget_C/Raw-HTML/Display -->\\r\\n \\r\\n\\r\\n\\r\\n\\r\\n\\t \\r\\n\\t \\r\\n\\r\\n<div class=\"jvhx0w1\">\\r\\n<!-- 01 -->\\r\\n<a href=\"https://go.java/index.html?intcmp=gojava-banner-java-com\" title=\"go.java\"><img src=\"/ga/images/jv0h_gojava.jpg\" alt=\"Go Java\"></a>\\r\\n<!-- 02 -->\\r\\n<a href=\"/en/java_in_action/alice.jsp\" title=\"Java + Alice\">\\r\\n\\t\\r\\n\\t\\r\\n\\t\\r\\n\\t\\t\\r\\n\\t\\t\\r\\n\\t\\r\\n\\t\\r\\n\\t\\r\\n\\t\\r\\n\\t\\r\\n\\t\\r\\n\\t\\r\\n\\t\\r\\n\\r\\n\\t \\r\\n\\r\\n\\t\\r\\n\\r\\n\\r\\n\\t<img src=\"/ga/images/jv0h_alice.jpg\" alt=\"Java + Alice\"  width=\"125\"  height=\"132\" />\\r\\n\\t\\r\\n</a>\\r\\n<!-- 03 -->\\r\\n<a href=\"/en/java_in_action/greenfoot.jsp\" title=\"Java + Greenfoot\">\\r\\n\\t\\r\\n\\t\\r\\n\\t\\r\\n\\t\\t\\r\\n\\t\\t\\r\\n\\t\\r\\n\\t\\r\\n\\t\\r\\n\\t\\r\\n\\t\\r\\n\\t\\r\\n\\t\\r\\n\\t\\r\\n\\r\\n\\t \\r\\n\\r\\n\\t\\r\\n\\r\\n\\r\\n\\t<img src=\"/ga/images/jv0h_greenfoot.jpg\" alt=\"Java + Greenfoot\"  width=\"125\"  height=\"132\" />\\r\\n\\t\\r\\n</a>\\r\\n<!-- 04 -->\\r\\n<a href=\"https://www.oracle.com/javaone/index.html?src=OW-J1-CE-JCOM-07292014-WWMK11054264MPP001C079\" title=\"Java Developer Conferences\" class=\"first\">\\r\\n\\t\\r\\n\\t\\r\\n\\t\\r\\n\\t\\t\\r\\n\\t\\t\\r\\n\\t\\r\\n\\t\\r\\n\\t\\r\\n\\t\\r\\n\\t\\r\\n\\t\\r\\n\\t\\r\\n\\t\\r\\n\\r\\n\\t \\r\\n\\r\\n\\t\\r\\n\\r\\n\\r\\n\\t<img src=\"/ga/images/jv0h_java.jpg\"/>\\r\\n\\t\\r\\n</a>\\r\\n<!-- 05 -->\\r\\n<a href=\"/en/about/oracleacademy.jsp\" title=\"Oracle Academy for Educators\"><img src=\"/ga/images/jv0h_academy.jpg\" width=\"125\" height=\"132\" alt=\"Oracle Academy for Educators\" /></a>\\r\\n<!-- 06 -->\\r\\n<a href=\"/en/about/javamagazine.jsp\" title=\"Java Magazine\" class=\"last\">\\r\\n\\t\\r\\n\\t\\r\\n\\t\\r\\n\\t\\t\\r\\n\\t\\t\\r\\n\\t\\r\\n\\t\\r\\n\\t\\r\\n\\t\\r\\n\\t\\r\\n\\t\\r\\n\\t\\r\\n\\t\\r\\n\\r\\n\\t \\r\\n\\r\\n\\t\\r\\n\\r\\n\\r\\n\\t<img src=\"/ga/images/jv0h_javamag.jpg\" alt=\"Get Java Magazine for Free\"  width=\"125\"  height=\"132\" />\\r\\n\\t\\r\\n</a>\\r\\n</div>\\r\\n\\r\\n<!-- END: jWidget_C/Raw-HTML/Display -->\\r\\n\\r\\n\\r\\n</div>\\r\\n\\r\\n</div>\\r\\n<!-- /jvc0 -->\\r\\n\\r\\n<a href=\"/en/download/index.jsp\"></a>\\r\\n\\r\\n\\t\\r\\n\\r\\n\\t\\r\\n\\t \\r\\n\\r\\n\\r\\n\\r\\n\\r\\n\\r\\n\\r\\n\\r\\n\\r\\n\\r\\n\\t\\r\\n\\t\\t\\r\\n\\t\\t\\t\\r\\n\\t\\t\\t\\t\\r\\n\\t\\t\\t  \\t\\r\\n\\t\\t\\t\\t\\r\\n\\t\\t\\t\\t\\t\\r\\n\\t\\t\\t\\t\\r\\n\\t\\t\\t\\r\\n\\t\\t\\r\\n\\t\\t\\r\\n\\t\\t\\r\\n\\t\\t\\t\\r\\n\\t\\t\\t\\r\\n\\t\\t\\t\\r\\n\\t<!-- BEGIN: jWidget_C/Footer/Display -->\\r\\n\\t\\r\\n\\t\\r\\n\\t\\r\\n\\t\\r\\n\\t\\t \\r\\n\\t\\t \\r\\n\\t\\r\\n\\t<div class=\"jvf0\">\\r\\n\\t\\t\\r\\n<p>\\r\\n<a href=\"/en/selectlanguage.jsp\" title=\"Select Language\">Select Language</a>\\r\\n| <a href=\"/en/about/\" title=\"About Java\">About Java</a>\\r\\n| <a href=\"/en/download/support.jsp\" title=\"Support\">Support</a>\\r\\n| <a href=\"/en/download/faq/develop.xml\" title=\"Developers\">Developers</a>\\r\\n| <a href=\"https://ora-java.custhelp.com/ci/documents/detail/5/2142/12/dc6484bd4764542e486ad251ccb32be5f2e9be23\" onclick=\"return popFeedback(\\'https://ora-java.custhelp.com/ci/documents/detail/5/2142/12/dc6484bd4764542e486ad251ccb32be5f2e9be23\\');\" id=\"feedback-link\" title=\"Feedback\">Feedback</a>\\r\\n<br />\\r\\n  <a href=\"https://www.oracle.com/html/privacy.html\" title=\"Privacy\">Privacy</a> \\r\\n|&nbsp;<a><span id=\\'teconsent\\'></span></a>&nbsp;\\r\\n| <a href=\"https://www.oracle.com/html/terms.html\" title=\"Terms of Use\">Terms of Use</a>\\r\\n| <a href=\"https://www.oracle.com/html/3party.html\" title=\"Trademarks\">Trademarks</a>\\r\\n| <a href=\"/en/about/disclaimer.jsp\" title=\"Disclaimer\">Disclaimer</a>\\r\\n</p>\\r\\n<a href=\"https://www.oracle.com/\" class=\"jvsun0\">Oracle</a>\\r\\n\\r\\n\\t</div>\\r\\n\\t<!-- END: jWidget_C/Footer/Display -->\\r\\n\\r\\n\\t\\t\\t\\t\\r\\n\\t\\r\\n\\t\\r\\n\\r\\n\\r\\n\\r\\n\\r\\n\\r\\n\\r\\n\\r\\n\\r\\n\\r\\n\\t\\r\\n\\t\\r\\n\\t\\t\\r\\n\\t\\t\\t<!--[if gte IE 5.5000]><!--><script src=\"/ga/js/subtlePager.js\" type=\"text/javascript\" charset=\"utf-8\"></script><!-- <![endif]-->\\r\\n\\t\\t\\t<!--[if gte IE 6]><!--><script src=\"/ga/js/global.js\" type=\"text/javascript\" charset=\"utf-8\"></script><!-- <![endif]-->\\r\\n\\t\\t\\t\\r\\n\\t\\t\\t\\r\\n\\t\\t\\r\\n\\t\\t\\r\\n\\t\\r\\n\\t\\r\\n\\r\\n\\t\\r\\n\\t\\r\\n\\t\\t\\r\\n\\t\\t\\t<!--Begin SiteCatalyst code version: G.5. -->\\r\\n<script language=\"JavaScript\" type=\"text/javascript\">\\r\\n<!--\\r\\nvar s_channel = \"javac:Home\";\\t\\r\\nvar s_pageName = \"javac:Homepage\";\\r\\nvar s_prop19 = \"en_javac:Homepage\";\\r\\nvar s_prop20 = \"Home_Pages\";\\r\\n// var s_prop21 = \"180X150-728X90\";\\r\\nvar s_prop21 = \"180X150-728X90\";\\r\\n//--></script>\\r\\n<script language=\"JavaScript\" src=\"/ga/js/s_code_remote.js\"></script>\\r\\n<!-- End SiteCatalyst code version: G.5. -->\\r\\n\\t\\t\\r\\n\\t\\r\\n\\r\\n</body>\\r\\n</html>\\r\\n\\r\\n\\r\\n'\n"
     ]
    }
   ],
   "source": [
    "# 예외처리 방법\n",
    "from urllib.request import urlopen\n",
    "from urllib.error import HTTPError\n",
    "from urllib.error import URLError\n",
    "\n",
    "try:\n",
    "    # html = urlopen(\"http://jaba.com\")\n",
    "    html = urlopen(\"https://java.com\")\n",
    "except HTTPError as e:\n",
    "    print(\"HTTP 에러입니다.\")\n",
    "except URLError as e:\n",
    "    print(\"존재하지 않는 사이트입니다.\")\n",
    "else:\n",
    "    print(html.read())"
   ]
  },
  {
   "cell_type": "code",
   "execution_count": 3,
   "metadata": {},
   "outputs": [
    {
     "name": "stdout",
     "output_type": "stream",
     "text": [
      "저장되었습니다...!\n"
     ]
    }
   ],
   "source": [
    "# 이미지 다운로드 방법1\n",
    "import urllib.request\n",
    "\n",
    "# daum 사이트의 로고에서 마우스 우클릭 - 이미지 주소 복사\n",
    "url = \"https://t1.daumcdn.net/daumtop_chanel/op/20170315064553027.png\"\n",
    "savename = \"./data/images/test.jpg\"\n",
    "# url이 가리키는 주소에 접근해서 해당 자원을 로컬 컴퓨터에 저장하는 코드\n",
    "urllib.request.urlretrieve(url, savename)\n",
    "print(\"저장되었습니다...!\")\n",
    "# 지정된 디렉토리에 다운로드 됨"
   ]
  },
  {
   "cell_type": "code",
   "execution_count": 4,
   "metadata": {},
   "outputs": [
    {
     "name": "stdout",
     "output_type": "stream",
     "text": [
      "저장되었습니다...!\n"
     ]
    }
   ],
   "source": [
    "# 이미지 다운로드 방법2\n",
    "import urllib.request\n",
    "\n",
    "url = \"https://www.google.com/logos/doodles/2019/labour-day-2019-5473379443277824.5-l.png\"\n",
    "savename = \"./data/images/test2.png\"\n",
    "# 다운로드\n",
    "# 다운로드받은 이미지 파일을 메모리에 저장\n",
    "image = urllib.request.urlopen(url).read()\n",
    "# 파일로 저장\n",
    "# wb : Write Binary\n",
    "with open(savename, mode=\"wb\") as f:\n",
    "    # 메모리의 이미지를 파일로 저장\n",
    "    f.write(image)\n",
    "    print(\"저장되었습니다...!\")"
   ]
  },
  {
   "cell_type": "code",
   "execution_count": 5,
   "metadata": {},
   "outputs": [
    {
     "name": "stdout",
     "output_type": "stream",
     "text": [
      "url = http://www.kma.go.kr/weather/forecast/mid-term-rss3.jsp?stnId=108\n",
      "다운로드 실패...\n"
     ]
    }
   ],
   "source": [
    "# 매개변수를 추가하여 인터넷 리소스를 요청하는 방법\n",
    "import urllib.request\n",
    "import urllib.parse\n",
    "\n",
    "API = \"http://www.kma.go.kr/weather/forecast/mid-term-rss3.jsp\"\n",
    "# url에 특수문자, 한글이 포함된 경우 URL 인코딩이 필요함\n",
    "# 지역번호 : 전국 108, 서울/경기 109, 강원 105, 충북 131, 충남 133,\n",
    "#        전북 146, 전남 156, 경북 143, 경남 159, 제주 184\n",
    "values = {'stnId': '108'} # 전국옵션\n",
    "# values = {'stnId': '108'} # 서울/경기\n",
    "params = urllib.parse.urlencode(values)\n",
    "# 요청 전용 URL 생성\n",
    "url = API + \"?\" + params\n",
    "print(\"url =\", url)\n",
    "# 다운로드\n",
    "try:\n",
    "    data = urllib.request.urlopen(url).read()\n",
    "except:\n",
    "    print(\"다운로드 실패...\")\n",
    "else:\n",
    "    text = data.decode(\"utf-8\")\n",
    "    print(text)"
   ]
  },
  {
   "cell_type": "code",
   "execution_count": 6,
   "metadata": {},
   "outputs": [
    {
     "name": "stdout",
     "output_type": "stream",
     "text": [
      "<title>Stack Overflow - Where Developers Learn, Share, &amp; Build Careers</title>\n",
      "Stack Overflow - Where Developers Learn, Share, & Build Careers\n",
      "<h1 class=\"grid--cell fl1 fs-headline1\">\r\n",
      "                    Top Questions\r\n",
      "            </h1>\n",
      "Stack Overflow - Where Developers Learn, Share, & Build Careers\n"
     ]
    }
   ],
   "source": [
    "from urllib.request import urlopen\n",
    "from bs4 import BeautifulSoup\n",
    "# 데이터를 수집할 url에 접속\n",
    "html = urlopen(\"https://stackoverflow.com\")\n",
    "# 웹스크레이핑 라이브러리인 BeautifulSoup 객체 생성\n",
    "# parser는 html과 xml parser가 있음\n",
    "bs = BeautifulSoup(html.read(), \"html.parser\")\n",
    "print(bs.title)\n",
    "print(bs.title.text)\n",
    "print(bs.h1)\n",
    "print(bs.title.text)"
   ]
  },
  {
   "cell_type": "code",
   "execution_count": 7,
   "metadata": {},
   "outputs": [
    {
     "name": "stdout",
     "output_type": "stream",
     "text": [
      "h1 =  <h1>Hello Python</h1>\n",
      "h1 =  Hello Python\n",
      "h1 =  Hello Python\n",
      "p =  <p>웹 페이지 분석</p>\n",
      "p =  웹 페이지 분석\n",
      "p =  <p>웹 스크래핑</p>\n",
      "p =  웹 스크래핑\n"
     ]
    }
   ],
   "source": [
    "# 라이브러리 로딩\n",
    "from bs4 import BeautifulSoup\n",
    "\n",
    "# 분석하고 싶은 HTML\n",
    "html = \"\"\"\n",
    "<html><body>\n",
    "    <h1>Hello Python</h1>\n",
    "    <p>웹 페이지 분석</p>\n",
    "    <p>웹 스크래핑</p>\n",
    "</body></html>\n",
    "\"\"\"\n",
    "\n",
    "# HTML 분석, html.parser 분석기 사용\n",
    "# html.parser : 기본 파서\n",
    "# lxml 등의 외부 파서를 사용할 수 있음.\n",
    "soup = BeautifulSoup(html, 'html.parser')\n",
    "# 원하는 부분 추출하기\n",
    "h1 = soup.html.body.h1\n",
    "p1 = soup.html.body.p\n",
    "# sibling 형제 노드(같은 레빌의 노드)\n",
    "# previous_sibling - 같은 레벨의 이전 요소\n",
    "# next_sibling - 같은 레벨의 다음 요소\n",
    "# 첫번째 p 태그의 </p> 뒤의 공백문자, 그 뒤의 <p> 태그 내용이 선택됨\n",
    "p2 = p1.next_sibling.next_sibling\n",
    "# 요소의 글자 출력하기\n",
    "print(\"h1 = \", h1) # 태그 자체\n",
    "print(\"h1 = \", h1.string) # 태그의 내부 텍스트\n",
    "print(\"h1 = \", h1.text) # 위 코드와 같음\n",
    "print(\"p = \", p1)\n",
    "print(\"p = \", p1.string)\n",
    "print(\"p = \", p2)\n",
    "print(\"p = \", p2.string)"
   ]
  },
  {
   "cell_type": "code",
   "execution_count": 8,
   "metadata": {},
   "outputs": [
    {
     "name": "stdout",
     "output_type": "stream",
     "text": [
      "#title =  <h1 id=\"title\">Hello Python</h1>\n",
      "#title =  Hello Python\n",
      "#body =  웹 페이지 분석\n",
      "#span =  데이터 수집1\n"
     ]
    }
   ],
   "source": [
    "# 라이브러리 로딩\n",
    "from bs4 import BeautifulSoup\n",
    "\n",
    "# 분석하고 싶은 HTML\n",
    "html = \"\"\"\n",
    "<html><body>\n",
    "    <h1 id='title'>Hello Python</h1>\n",
    "    <p id='body'>웹 페이지 분석</p>\n",
    "    <p>웹 스크래핑</p>\n",
    "    <span>데이터 수집1</span>\n",
    "    <span>데이터 수집2</span>\n",
    "</body></html>\n",
    "\"\"\"\n",
    "\n",
    "# HTML 분석, html.parser 분석기 사용\n",
    "soup = BeautifulSoup(html, 'html.parser')\n",
    "# find() 함수로 원하는 부분 추출\n",
    "title = soup.find(id=\"title\")\n",
    "body = soup.find(id=\"body\")\n",
    "span = soup.find(\"span\") # 1개만 찾음 vs find_all()\n",
    "\n",
    "print(\"#title = \", title)\n",
    "print(\"#title = \", title.string)\n",
    "print(\"#body = \", body.string)\n",
    "print(\"#span = \", span.string)"
   ]
  },
  {
   "cell_type": "code",
   "execution_count": 9,
   "metadata": {},
   "outputs": [
    {
     "name": "stdout",
     "output_type": "stream",
     "text": [
      "<class 'bs4.element.ResultSet'>\n",
      "[<a href=\"http://naver.com\">naver</a>, <a href=\"http://daum.net\">daum</a>, <a href=\"http://nate.com\">nate</a>, <a href=\"http://google.com\">google</a>, <a href=\"http://yahoo.com\">yahoo</a>]\n",
      "naver : http://naver.com\n",
      "daum : http://daum.net\n",
      "nate : http://nate.com\n",
      "google : http://google.com\n",
      "yahoo : http://yahoo.com\n"
     ]
    }
   ],
   "source": [
    "# 라이브러리 로딩\n",
    "from bs4 import BeautifulSoup\n",
    "\n",
    "# 분석하고 싶은 HTML\n",
    "html = \"\"\"\n",
    "<html><body>\n",
    "    <li><a href=\"http://naver.com\">naver</a></li>\n",
    "    <li><a href=\"http://daum.net\">daum</a></li>\n",
    "    <li><a href=\"http://nate.com\">nate</a></li>\n",
    "    <li><a href=\"http://google.com\">google</a></li>\n",
    "    <li><a href=\"http://yahoo.com\">yahoo</a></li>\n",
    "</body></html>\n",
    "\"\"\"\n",
    "\n",
    "# HTML 분석, html.parser 분석기 사용\n",
    "soup = BeautifulSoup(html, 'html.parser')\n",
    "# find_all() 메서드로 a 태그를 모두 추출\n",
    "links = soup.find_all(\"a\")\n",
    "print(type(links))\n",
    "print(links)\n",
    "\n",
    "# 링크 목록 출력\n",
    "for a in links:\n",
    "    # a 태그의 속성 중에서 href인 값\n",
    "    href = a.attrs['href']\n",
    "    # 하이퍼링크 태그 내부의 텍스트\n",
    "    text = a.string\n",
    "    print(text, \":\", href)"
   ]
  },
  {
   "cell_type": "code",
   "execution_count": 10,
   "metadata": {},
   "outputs": [
    {
     "name": "stdout",
     "output_type": "stream",
     "text": [
      "접속 시간이 오래걸림\n"
     ]
    }
   ],
   "source": [
    "try:\n",
    "    # 데이터를 수집할 url에 접속\n",
    "    html = urlopen(\"http://www.auction.co.kr/\")\n",
    "except TimeoutError:\n",
    "    print(\"접속 시간이 오래걸림\")\n",
    "else:\n",
    "    # 웹스크레이핑 라이브러리인 BeautifulSoup 객체 생성\n",
    "    # HTML 분석\n",
    "    soup = BeautifulSoup(html.read(), 'html.parser')\n",
    "    # find_all() 함수로 a 태그를 모두 추출\n",
    "    links = soup.find_all(\"a\")\n",
    "    # 링크 목록 출력\n",
    "    for a in links:\n",
    "        try:\n",
    "            # a 태그의 속성 중에서 href인 값\n",
    "            href = a.attrs['href']\n",
    "            # 하이퍼링크 태그 내부의 텍스트\n",
    "            text = a.string\n",
    "            print(text, \":\", href)\n",
    "        except:\n",
    "            pass"
   ]
  },
  {
   "cell_type": "code",
   "execution_count": 11,
   "metadata": {},
   "outputs": [
    {
     "name": "stdout",
     "output_type": "stream",
     "text": [
      "h1 =  도서 목록\n",
      "li = 자바 프로그래밍 입문\n",
      "li = HTML5\n",
      "li = Python\n"
     ]
    }
   ],
   "source": [
    "# 분석 대상 HTML\n",
    "html = \"\"\"\n",
    "<html><body>\n",
    "<h1>테스트</h1>\n",
    "<div>div1</div>\n",
    "<div>div2</div>\n",
    "<div id=\"main\">\n",
    "    <h1>도서 목록</h1>\n",
    "    <ul class=\"items\">\n",
    "        <li>자바 프로그래밍 입문</li>\n",
    "        <li>HTML5</li>\n",
    "        <li>Python</li>\n",
    "    </ul>\n",
    "</div>\n",
    "</body></html>\n",
    "\"\"\"\n",
    "\n",
    "# HTML 분석\n",
    "soup = BeautifulSoup(html, 'html.parser')\n",
    "# 필요한 부분을 CSS로 추출\n",
    "# 타이틀 부분 추출\n",
    "# id가 main인 div 태그의 자손 태그 h1 선택\n",
    "h1 = soup.select_one(\"div#main > h1\").string\n",
    "print(\"h1 = \", h1)\n",
    "# 목록 추출\n",
    "# id가 main인 div 태그 => class가 items인 ul 태그 => li 태그들을 선택\n",
    "li_list = soup.select(\"div#main > ul.items > li\")\n",
    "# 반복 처리\n",
    "for li in li_list:\n",
    "    print(\"li =\", li.string)"
   ]
  },
  {
   "cell_type": "code",
   "execution_count": 12,
   "metadata": {},
   "outputs": [
    {
     "name": "stdout",
     "output_type": "stream",
     "text": [
      "usd/krw =  1,167.00\n"
     ]
    }
   ],
   "source": [
    "# 네이버 금융에서 환율 정보 가져오기\n",
    "from bs4 import BeautifulSoup\n",
    "import urllib.request as req\n",
    "# HTML 가져오기\n",
    "try:\n",
    "    url = \"https://finance.naver.com/marketindex/\"\n",
    "    res = req.urlopen(url)\n",
    "except TimeoutError:\n",
    "    print(\"타임아웃 에러...\")\n",
    "else:    \n",
    "    # HTML 분석하기\n",
    "    soup = BeautifulSoup(res, \"html.parser\")\n",
    "    # 원하는 데이터 추출\n",
    "    price = soup.select_one(\"div.head_info > span.value\").string\n",
    "    print(\"usd/krw = \", price)"
   ]
  },
  {
   "cell_type": "code",
   "execution_count": 13,
   "metadata": {},
   "outputs": [
    {
     "name": "stdout",
     "output_type": "stream",
     "text": [
      "연결이 안됨...\n"
     ]
    }
   ],
   "source": [
    "from urllib.request import urlopen\n",
    "\n",
    "try:\n",
    "    html = urlopen(\"http://www.pythonscraping.com/pages/warandpeace.html\")\n",
    "except:\n",
    "    print(\"연결이 안됨...\")\n",
    "else:\n",
    "    bs = BeautifulSoup(html, \"html.parser\")\n",
    "    # span 태그 중에서 class가 green인 태그들\n",
    "    nameList = bs.findAll('span', {'class': 'green'})\n",
    "    for name in nameList:\n",
    "        print(name.get_text()) # 태그를 제외한 내용만 출력\n",
    "        \n",
    "    # 웹페이지의 모든 h 태그 수집\n",
    "    print(\"h 태그 수집\")\n",
    "    titles = bs.find_all(['h1', 'h2', 'h3', 'h4', 'h5', 'h6'])\n",
    "    print([title for title in titles])\n",
    "    \n",
    "    # span 태그 중에서 class가 green, red인 태그\n",
    "    print(\"class가 green, red 태그만 고름\")\n",
    "    allText = bs.find_all('span', {'class':{'green', 'red'}})\n",
    "    print([text.string for text in allText])\n",
    "    \n",
    "    # 단어 갯수 카운트\n",
    "    nameList = bs.find_all(text='the prince')\n",
    "    print(len(nameList))\n",
    "    print(nameList)"
   ]
  },
  {
   "cell_type": "code",
   "execution_count": 14,
   "metadata": {},
   "outputs": [
    {
     "name": "stdout",
     "output_type": "stream",
     "text": [
      "[{'fruit': 'apple'}, {'fruit': 'banana'}, {'fruit': 'pear'}]\n",
      "{'fruit': 'banana'}\n",
      "1\n",
      "pear\n"
     ]
    }
   ],
   "source": [
    "# json 탐색\n",
    "import json\n",
    "# {\"key\" : value} [] 배열\n",
    "\n",
    "str = \\\n",
    "'{\"amount\": [{\"num\": 0}, {\"num\": 1}, {\"num\": 2}], \\\n",
    "\"fruits\": [{\"fruit\": \"apple\"}, {\"fruit\": \"banana\"}, {\"fruit\": \"pear\"}]}'\n",
    "\n",
    "obj = json.loads(str)\n",
    "\n",
    "# 변수명이 fruits인 요소들\n",
    "print(obj.get(\"fruits\"))\n",
    "# 변수명이 fruits인 요소들 중에서 두번째 요소\n",
    "print(obj.get(\"fruits\")[1])\n",
    "# 변수명이 amount인 요소들 중에서 두번째 요소의 변수명이 num인 값\n",
    "print(obj.get(\"amount\")[1].get(\"num\"))\n",
    "# 변수명이 fruits인 요소들 중에서 세번재 요소의 변수명이 fruit인 값\n",
    "print(obj.get(\"fruits\")[2].get(\"fruit\"))"
   ]
  },
  {
   "cell_type": "code",
   "execution_count": 15,
   "metadata": {},
   "outputs": [
    {
     "name": "stdout",
     "output_type": "stream",
     "text": [
      "에러 발생...\n"
     ]
    }
   ],
   "source": [
    "# pdf 문서 읽기\n",
    "# pip install pdfminer3k 설치\n",
    "from pdfminer.pdfinterp import PDFResourceManager, process_pdf\n",
    "from pdfminer.converter import TextConverter\n",
    "from pdfminer.layout import LAParams\n",
    "from io import StringIO\n",
    "from io import open\n",
    "from urllib.request import urlopen\n",
    "\n",
    "def readPDF(pdfFile):\n",
    "    # pdf 리소스 관리자\n",
    "    rsrcmgr = PDFResourceManager()\n",
    "    # pdf 내부의 텍스트 입출력을 위한 객체\n",
    "    retstr = StringIO()\n",
    "    # 파라미터 객체\n",
    "    laparams = LAParams()\n",
    "    # pdf 내용을 텍스트로 변환하기 위한 객체\n",
    "    device = TextConverter(rsrcmgr, retstr, laparams=laparms)\n",
    "    # pdf 내용을 텍스트로 변환하는 작업\n",
    "    process_pdf(rsrcmgr, device, pdfFile)\n",
    "    device.close()\n",
    "    # 리턴된 스트링\n",
    "    content = retstr.getvalue()\n",
    "    retstr.close()\n",
    "    return content\n",
    "\n",
    "try:\n",
    "    pdfFile = urlopen(\\\n",
    "    \"http://pythonscraping.com/pages/warandpeace/chapter1.pdf\")\n",
    "except:\n",
    "    print(\"에러 발생...\")\n",
    "else:    \n",
    "    outputString = readPDF(pdfFile)\n",
    "    print(outputString)\n",
    "    pdfFile.close()\n",
    "    with open(\"./data/pdf/result.txt\", \"w\") as f:\n",
    "        f.write(outputString)\n",
    "        print(\"저장되었습니다.\")"
   ]
  },
  {
   "cell_type": "code",
   "execution_count": 16,
   "metadata": {},
   "outputs": [
    {
     "name": "stdout",
     "output_type": "stream",
     "text": [
      "에러 발생...\n"
     ]
    }
   ],
   "source": [
    "# 웹페이지의 내용을 분석하여 csv 파일로 저장\n",
    "# <table> 내부의 텍스트 저장\n",
    "import csv\n",
    "from urllib.request import urlopen\n",
    "from bs4 import BeautifulSoup\n",
    "\n",
    "try:    \n",
    "    html = urlopen(\\\n",
    "    \"http://en.wikipedia.org/wiki/Comparison_of_text_editors\")\n",
    "except:\n",
    "    print(\"에러 발생...\")\n",
    "else:    \n",
    "    bsObj = BeautifulSoup(html, \"html.parser\")\n",
    "    # class가 wikitable인 태그들 중에서 첫번째 태그 선택\n",
    "    table = bsObj.findAll(\"table\", {\"class\":\"wikitable\"})[0]\n",
    "    rows = table.findAll(\"tr\")\n",
    "\n",
    "    # wt : 텍스트 쓰기 모드\n",
    "    csvFile = open(\"./data/csv/editors.csv\", \"wt\", newline=\"\", encoding=\"utf-8\")\n",
    "\n",
    "    # csv 파일 저장 객체\n",
    "    writer = csv.writer(csvFile)\n",
    "    try:\n",
    "        for row in rows:\n",
    "            csvRow = []\n",
    "            # td, th 태그의 내용을 리스트에 추가\n",
    "            for cell in row.findAll(['td', 'th']):\n",
    "                csvRow.append(cell.get_text())\n",
    "            writer.writerow(csvRow)\n",
    "    finally:\n",
    "        print(\"csv로 저장되었습니다.\")\n",
    "        csvFile.close()\n",
    "        "
   ]
  },
  {
   "cell_type": "code",
   "execution_count": 17,
   "metadata": {},
   "outputs": [
    {
     "name": "stdout",
     "output_type": "stream",
     "text": [
      "에러 발생\n",
      "완료되었습니다.\n"
     ]
    }
   ],
   "source": [
    "from urllib.request import urlopen\n",
    "from bs4 import BeautifulSoup as bs\n",
    "import re\n",
    "import datetime\n",
    "import random\n",
    "import pymysql\n",
    "\n",
    "conn = pymysql.connect(host='localhost', port=3306,\\\n",
    "user='java', password='java1234', db='pyweb', charset='utf8')\n",
    "cursor = conn.cursor()\n",
    "cursor.execute(\"USE pyweb\")\n",
    "cursor.execute(\"DELETE FROM pages\")\n",
    "# 랜덤 시드를 고정하면 랜덤값이 고정됨(재현성)\n",
    "# 여기서는 실행할 때마다 시드값이 바뀌므로 랜덤값이 고정되지 않음\n",
    "random.seed(datetime.datetime.now())\n",
    "\n",
    "def store(title, content):\n",
    "    # 따옴표 처리\n",
    "    title = title.replace(\"'\", \"''\") # 작은따옴표 1개를 2개로\n",
    "    title = title.replace('\"', '\\\"') # 큰 따옴표를 \\\"로\n",
    "    content = content.replace(\"'\", \"''\") # 작은따옴표 1개를 2개로\n",
    "    content = content.replace('\"', '\\\"') # 큰 따옴표를 \\\"로\n",
    "    sql = \\\n",
    "    \"INSERT INTO pages (title, content) VALUES ('%s', '%s')\" \\\n",
    "    %(title, content)\n",
    "    \n",
    "    cursor.execute(sql)\n",
    "    conn.commit()\n",
    "    \n",
    "# 위키피디아의 url 수집\n",
    "def getLinks(url):\n",
    "    html = urlopen(\"http://en.wikipedia.org\" + url)\n",
    "    obj = bs(html, \"html.parser\")\n",
    "    # h1 태그의 내용\n",
    "    title = obj.find(\"h1\").get_text()\n",
    "    # id가 mw-content-text인 div 태그 내보위 p 태그의 텍스트\n",
    "    content = obj.find(\"div\",\n",
    "                      {\"id\": \"mw-content-text\"}).find(\"p\").get_text()\n",
    "    # 테이블에 저장\n",
    "    store(title, content)\n",
    "    \n",
    "    # 링크를 리턴함(정규표현식 사용, ^시작, $끝, * 0회 이상 반복)\n",
    "    return obj.find(\"div\",\n",
    "                   {\"id\": \"bodyContent\"}).findAll(\"a\",\n",
    "                    href = re.compile(\"^(/wiki/)((?!:).)*$\"))\n",
    "\n",
    "# 함수 호출\n",
    "try:\n",
    "    links = getLinks(\"/wiki/Kevin_bacon\")\n",
    "    count = 0\n",
    "    while len(links) > 0:\n",
    "        # url 리스트 중에서 랜덤으로 url 선택\n",
    "        newArticle = \\\n",
    "            links[random.randint(0, len(links) - 1)].attrs[\"href\"]\n",
    "        print(newArticle)\n",
    "        # 해당 문서에 포함된 새로운 링크를 가져옴\n",
    "        links = getLinks(newArticle)\n",
    "        count += 1\n",
    "        if count >= 5: # 5건만 처리\n",
    "            break\n",
    "except:\n",
    "    print(\"에러 발생\")\n",
    "\n",
    "finally:\n",
    "    cursor.close()\n",
    "    conn.close()\n",
    "    print(\"완료되었습니다.\")"
   ]
  },
  {
   "cell_type": "code",
   "execution_count": 18,
   "metadata": {},
   "outputs": [
    {
     "name": "stdout",
     "output_type": "stream",
     "text": [
      "세션아이디 :  {'JSESSIONID': 'DCE83B6D30645DA9632CD1F86E09DDEB'}\n",
      "res: <Response [200]>\n",
      "soup: \n",
      "<!DOCTYPE html>\n",
      "\n",
      "<html>\n",
      "<head>\n",
      "<meta charset=\"utf-8\"/>\n",
      "<title>Insert title here</title>\n",
      "<link href=\"/jsp02/include/css/bootstrap.css\" rel=\"stylesheet\"/>\n",
      "<script src=\"http://code.jquery.com/jquery-3.3.1.min.js\"></script>\n",
      "<script src=\"/jsp02/include/js/bootstrap.js\"></script>\n",
      "<script>\n",
      "$(function() {\n",
      "\t$(\"#btnList\").click(function() {\n",
      "\t\tlocation.href=\"/jsp02/product_servlet/list.do\";\n",
      "\t});\n",
      "\t\n",
      "\t// 장바구니 비우기 버튼 클릭\n",
      "\t$(\"#btnDelete\").click(function() {\n",
      "\t\tif(confirm(\"장바구니를 비우시겠습니까?\")) {\n",
      "\t\t\tlocation.href=\"/jsp02/cart_servlet/deleteAll.do\";\n",
      "\t\t}\n",
      "\t});\n",
      "});\n",
      "</script>\n",
      "</head>\n",
      "<body>\n",
      "<a href=\"/jsp02/product_servlet/list.do\">상품목록</a> |\n",
      "\n",
      "<div style=\"text-align: right;\">\n",
      "<a href=\"/jsp02/shop/login.jsp\">로그인</a>\t|\n",
      "\t\t\t<a href=\"/jsp02/shop/admin_login.jsp\">관리자 로그인</a>\n",
      "</div>\n",
      "<form action=\"/jsp02/cart_servlet/update.do\" id=\"form1\" method=\"post\" name=\"form1\">\n",
      "<table border=\"1\" width=\"400px\">\n",
      "<tr>\n",
      "<th>상품명</th>\n",
      "<th>단가</th>\n",
      "<th>수량</th>\n",
      "<th>금액</th>\n",
      "<th> </th>\n",
      "</tr>\n",
      "<tr>\n",
      "<td align=\"right\" colspan=\"5\">\n",
      "\t\t\t\t\t\n",
      "\t\t\t\t\t\n",
      "\t\t\t\t\t\t장바구니가 비었습니다.\n",
      "\t\t\t\t\t\n",
      "\t\t\t\t</td>\n",
      "</tr>\n",
      "</table>\n",
      "<button id=\"btnUpdate\">수정</button>\n",
      "</form>\n",
      "<button id=\"btnDelete\" type=\"button\">장바구니 비우기</button>\n",
      "<button id=\"btnList\" type=\"button\">상품목록</button>\n",
      "</body>\n",
      "</html>\n",
      "students: []\n"
     ]
    }
   ],
   "source": [
    "# 로그인이 필요한 경우\n",
    "\n",
    "# jsp02 shop 사이트를 구동한 후 로그인 페이지 테스트\n",
    "\n",
    "# 로그인을 위한 모듈\n",
    "import requests\n",
    "from bs4 import BeautifulSoup\n",
    "\n",
    "params = {'userid': 'kim', 'passwd': '1234'}\n",
    "\n",
    "session = requests.Session()\n",
    "\n",
    "s = session.post(\"http://localhost:8080/jsp02/cart_servlet/login.do\",\n",
    "                params)\n",
    "print(\"세션아이디 : \", s.cookies.get_dict())\n",
    "\n",
    "res = session.get(\"http://localhost:8080/jsp02/cart_servlet/list.do\")\n",
    "print(\"res:\", res)\n",
    "soup = BeautifulSoup(res.text, \"html.parser\")\n",
    "print(\"soup:\", soup)\n",
    "students = soup.select(\"table > tr > td > span\")\n",
    "print(\"students:\", students)\n",
    "for st in students:\n",
    "    str = st.get_text()\n",
    "    print(str)"
   ]
  },
  {
   "cell_type": "code",
   "execution_count": null,
   "metadata": {},
   "outputs": [],
   "source": []
  }
 ],
 "metadata": {
  "kernelspec": {
   "display_name": "Python 3",
   "language": "python",
   "name": "python3"
  },
  "language_info": {
   "codemirror_mode": {
    "name": "ipython",
    "version": 3
   },
   "file_extension": ".py",
   "mimetype": "text/x-python",
   "name": "python",
   "nbconvert_exporter": "python",
   "pygments_lexer": "ipython3",
   "version": "3.6.8"
  }
 },
 "nbformat": 4,
 "nbformat_minor": 2
}
