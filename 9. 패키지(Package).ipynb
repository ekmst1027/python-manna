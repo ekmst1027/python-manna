{
 "cells": [
  {
   "cell_type": "markdown",
   "metadata": {},
   "source": [
    "# 9. 패키지(Package)\n",
    "<br/>\n",
    "\n",
    "## 가. 피키지란?\n",
    "1) 물리적으로 여러 모듈 파일들을 모아 놓은 디렉토리\n",
    "2) 모듈 : 파일\n",
    "3) 패키지 : 디렉토리\n",
    "4) __init__.py 파일\n",
    "    - 해당 디렉토리가 패키지임을 알려주는 역할을 하는 파일\n",
    "    - 파이썬 3.3 버전부터는 __init__.py파일이 없어도 패키지로 인식 가능함\n",
    "    - 3.3 이전의 버전에서는 디렉토리에 __init__.py 파일이 없으면 패키지로 인식되지 않음\n",
    "    - 하위 버전 호완성을 위해 __init__.py 파일을 생성하는 것이 좋음\n",
    "    "
   ]
  },
  {
   "cell_type": "code",
   "execution_count": 1,
   "metadata": {},
   "outputs": [],
   "source": [
    "# sys 라이브러리를 import 한다.\n",
    "import sys\n",
    "# 파이썬 라이브러리가 설치되어 있는 디렉토리 확인\n",
    "print(sys.path)\n",
    "# 파이썬 라이브러리 디렉토리를 추가한다.\n",
    "sys.path.append(\"/Users/kyeongmin/Documents/python_basic/mannaedu/source\")\n",
    "print(sys.path)"
   ]
  },
  {
   "cell_type": "code",
   "execution_count": 2,
   "metadata": {},
   "outputs": [],
   "source": [
    "# game.sound 패키지의 echo.py 모듈을 불러오기\n",
    "import game.sound.echo\n",
    "game.sound.echo.echo_test()"
   ]
  },
  {
   "cell_type": "code",
   "execution_count": 3,
   "metadata": {},
   "outputs": [],
   "source": [
    "# echo.py 모듈이 있는 디렉토리까지 import\n",
    "from game.sound import echo\n",
    "echo.echo_test()\n",
    "echo.print_test()"
   ]
  },
  {
   "cell_type": "code",
   "execution_count": 4,
   "metadata": {},
   "outputs": [
    {
     "name": "stdout",
     "output_type": "stream",
     "text": [
      "echo\n"
     ]
    }
   ],
   "source": [
    "# echo.py 모듈의 echo_test() 함수를 직접 import\n",
    "from game.sound.echo import echo_test\n",
    "echo_test()\n",
    "# print_test() # print_test()함수를 불러오지 않았기 때문에 에러"
   ]
  },
  {
   "cell_type": "code",
   "execution_count": 5,
   "metadata": {},
   "outputs": [
    {
     "name": "stdout",
     "output_type": "stream",
     "text": [
      "echo\n",
      "print test\n"
     ]
    }
   ],
   "source": [
    "# echo.py 모듈의 echo_test() 함수를 직접 import\n",
    "from game.sound.echo import echo_test\n",
    "from game.sound.echo import print_test\n",
    "echo_test()\n",
    "print_test() # print_test()함수를 불러오지 않았기 때문에 에러"
   ]
  },
  {
   "cell_type": "code",
   "execution_count": null,
   "metadata": {},
   "outputs": [],
   "source": []
  }
 ],
 "metadata": {
  "kernelspec": {
   "display_name": "Python 3",
   "language": "python",
   "name": "python3"
  },
  "language_info": {
   "codemirror_mode": {
    "name": "ipython",
    "version": 3
   },
   "file_extension": ".py",
   "mimetype": "text/x-python",
   "name": "python",
   "nbconvert_exporter": "python",
   "pygments_lexer": "ipython3",
   "version": "3.7.1"
  }
 },
 "nbformat": 4,
 "nbformat_minor": 2
}
