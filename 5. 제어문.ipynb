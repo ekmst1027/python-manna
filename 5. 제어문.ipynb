{
 "cells": [
  {
   "cell_type": "code",
   "execution_count": 1,
   "metadata": {},
   "outputs": [
    {
     "name": "stdout",
     "output_type": "stream",
     "text": [
      "색상을 입력하세요blue\n",
      "건너가세요.\n"
     ]
    }
   ],
   "source": [
    "color = input(\"색상을 입력하세요 : \")\n",
    "if color == 'blue':\n",
    "    print(\"건너가세요.\")\n",
    "else:\n",
    "    print(\"기다리세요.\")"
   ]
  },
  {
   "cell_type": "code",
   "execution_count": 2,
   "metadata": {},
   "outputs": [
    {
     "name": "stdout",
     "output_type": "stream",
     "text": [
      "짝수입니다.\n"
     ]
    }
   ],
   "source": [
    "num = 100\n",
    "# 숫자를 2로 나눈 나머지가 0이면\n",
    "if num % 2 == 0:\n",
    "    print(\"짝수입니다.\")\n",
    "else:\n",
    "    print(\"홀수입니다.\")"
   ]
  },
  {
   "cell_type": "code",
   "execution_count": 3,
   "metadata": {},
   "outputs": [
    {
     "name": "stdout",
     "output_type": "stream",
     "text": [
      "색상을 입력하세요 : blue\n",
      "건너가세요.\n"
     ]
    }
   ],
   "source": [
    "color = input(\"색상을 입력하세요 : \")\n",
    "if color == \"blue\":\n",
    "    print(\"건너가세요.\")\n",
    "elif color == \"red\":\n",
    "    print(\"기다리세요\")\n",
    "else:\n",
    "    print(\"잘못된 색상입니다.\")"
   ]
  },
  {
   "cell_type": "code",
   "execution_count": 5,
   "metadata": {},
   "outputs": [
    {
     "name": "stdout",
     "output_type": "stream",
     "text": [
      "<class 'list'>\n",
      "1 2 3 4 5 "
     ]
    }
   ],
   "source": [
    "numbers = [1,2,3,4,5]\n",
    "print(type(numbers))\n",
    "for i in numbers:\n",
    "    print(i, end=\" \")"
   ]
  },
  {
   "cell_type": "code",
   "execution_count": 7,
   "metadata": {},
   "outputs": [
    {
     "name": "stdout",
     "output_type": "stream",
     "text": [
      "<class 'range'>\n",
      "range(0, 10)\n",
      "[0, 1, 2, 3, 4, 5, 6, 7, 8, 9]\n",
      "range(1, 11)\n",
      "[1, 2, 3, 4, 5, 6, 7, 8, 9, 10]\n",
      "[1, 3, 5, 7, 9]\n",
      "55\n"
     ]
    }
   ],
   "source": [
    "# 0부터 9\n",
    "a = range(10)\n",
    "print(type(a))\n",
    "print(a)\n",
    "a = list(range(10))  # 리스트로 저장\n",
    "print(a)\n",
    "\n",
    "# range(start, end-1)\n",
    "a = range(1, 11)\n",
    "print(a)\n",
    "a = list(range(1, 11))\n",
    "print(a)\n",
    "\n",
    "#range(start, end-1, step)\n",
    "a = list(range(1, 11, 2))\n",
    "print(a)\n",
    "\n",
    "sum = 0\n",
    "for i in range(1, 11):\n",
    "    sum += i\n",
    "print(sum)"
   ]
  },
  {
   "cell_type": "code",
   "execution_count": 8,
   "metadata": {},
   "outputs": [
    {
     "name": "stdout",
     "output_type": "stream",
     "text": [
      "=== 2 단 ===\n",
      "2 X 1 =  2\n",
      "2 X 2 =  4\n",
      "2 X 3 =  6\n",
      "2 X 4 =  8\n",
      "2 X 5 = 10\n",
      "2 X 6 = 12\n",
      "2 X 7 = 14\n",
      "2 X 8 = 16\n",
      "2 X 9 = 18\n",
      "\n",
      "=== 3 단 ===\n",
      "3 X 1 =  3\n",
      "3 X 2 =  6\n",
      "3 X 3 =  9\n",
      "3 X 4 = 12\n",
      "3 X 5 = 15\n",
      "3 X 6 = 18\n",
      "3 X 7 = 21\n",
      "3 X 8 = 24\n",
      "3 X 9 = 27\n",
      "\n",
      "=== 4 단 ===\n",
      "4 X 1 =  4\n",
      "4 X 2 =  8\n",
      "4 X 3 = 12\n",
      "4 X 4 = 16\n",
      "4 X 5 = 20\n",
      "4 X 6 = 24\n",
      "4 X 7 = 28\n",
      "4 X 8 = 32\n",
      "4 X 9 = 36\n",
      "\n"
     ]
    }
   ],
   "source": [
    "# 다중 for문\n",
    "for x in range(2, 5):  # 2~4단\n",
    "    print(\"=== {0} 단 ===\".format(x))\n",
    "    for y in range(1, 10):\n",
    "        print(\"{0} X {1} = {2:2d}\".format(x, y, x*y))\n",
    "    print() # 빈 라인 출력"
   ]
  },
  {
   "cell_type": "code",
   "execution_count": 10,
   "metadata": {},
   "outputs": [
    {
     "name": "stdout",
     "output_type": "stream",
     "text": [
      "1 + 2 = 3\n",
      "3 + 4 = 7\n",
      "5 + 6 = 11\n"
     ]
    }
   ],
   "source": [
    "# 리스트의 요소가 튜플인 경우\n",
    "a = [(1,2), (3,4), (5,6)]\n",
    "for (first, last) in a:\n",
    "    print(\"{0} + {1} = {2}\".format(first, last, first + last))"
   ]
  },
  {
   "cell_type": "code",
   "execution_count": 11,
   "metadata": {},
   "outputs": [
    {
     "name": "stdout",
     "output_type": "stream",
     "text": [
      "1번 학생 : 90점, 합격입니다.\n",
      "2번 학생 : 25점, 불합격입니다.\n",
      "3번 학생 : 67점, 합격입니다.\n",
      "4번 학생 : 45점, 불합격입니다.\n",
      "5번 학생 : 80점, 합격입니다.\n"
     ]
    }
   ],
   "source": [
    "points = [90, 25, 67, 45, 80]\n",
    "number = 0\n",
    "for point in points:\n",
    "    number = number + 1\n",
    "    result = \" \"\n",
    "    if point >= 60:\n",
    "        result = \"합격\"\n",
    "    else:\n",
    "        result = \"불합격\"\n",
    "    print(\"%d번 학생 : %d점, %s입니다.\" % (number, point, result))"
   ]
  },
  {
   "cell_type": "code",
   "execution_count": 12,
   "metadata": {},
   "outputs": [
    {
     "name": "stdout",
     "output_type": "stream",
     "text": [
      "{2: 4, 4: 16, 6: 36}\n"
     ]
    }
   ],
   "source": [
    "# 딕셔너리 내부에 for 반복문 사용\n",
    "a = { x: x**2 for x in (2,4,6)}\n",
    "print(a)"
   ]
  },
  {
   "cell_type": "code",
   "execution_count": 15,
   "metadata": {},
   "outputs": [
    {
     "name": "stdout",
     "output_type": "stream",
     "text": [
      "커피를 드립니다.\n",
      "남은 커피는 9개이고 잔액은 27000원입니다.\n",
      "\n",
      "커피를 드립니다.\n",
      "남은 커피는 8개이고 잔액은 24000원입니다.\n",
      "\n",
      "커피를 드립니다.\n",
      "남은 커피는 7개이고 잔액은 21000원입니다.\n",
      "\n",
      "커피를 드립니다.\n",
      "남은 커피는 6개이고 잔액은 18000원입니다.\n",
      "\n",
      "커피를 드립니다.\n",
      "남은 커피는 5개이고 잔액은 15000원입니다.\n",
      "\n",
      "커피를 드립니다.\n",
      "남은 커피는 4개이고 잔액은 12000원입니다.\n",
      "\n",
      "커피를 드립니다.\n",
      "남은 커피는 3개이고 잔액은 9000원입니다.\n",
      "\n",
      "커피를 드립니다.\n",
      "남은 커피는 2개이고 잔액은 6000원입니다.\n",
      "\n",
      "커피를 드립니다.\n",
      "남은 커피는 1개이고 잔액은 3000원입니다.\n",
      "\n",
      "커피를 드립니다.\n",
      "남은 커피는 0개이고 잔액은 0원입니다.\n",
      "\n",
      "커피가 다 떨어졌습니다. 판매를 중지합니다.\n"
     ]
    }
   ],
   "source": [
    "# break 예제\n",
    "# 커피 자판기 예제\n",
    "coffee = 10\n",
    "money = 30000\n",
    "# 0이면 False, 0이 아니면 True\n",
    "while money:\n",
    "    print(\"커피를 드립니다.\")\n",
    "    coffee -= 1\n",
    "    money -= 3000\n",
    "    print(\"남은 커피는 %d개이고 잔액은 %d원입니다.\\n\" % (coffee, money))\n",
    "    if not coffee:\n",
    "        print(\"커피가 다 떨어졌습니다. 판매를 중지합니다.\")\n",
    "        break"
   ]
  },
  {
   "cell_type": "code",
   "execution_count": 16,
   "metadata": {},
   "outputs": [
    {
     "name": "stdout",
     "output_type": "stream",
     "text": [
      "1\n",
      "3\n",
      "5\n",
      "7\n",
      "9\n"
     ]
    }
   ],
   "source": [
    "a = 0\n",
    "while a < 10:\n",
    "    a += 1\n",
    "    if a % 2 == 0:\n",
    "        continue\n",
    "    print(a)"
   ]
  },
  {
   "cell_type": "code",
   "execution_count": 17,
   "metadata": {},
   "outputs": [
    {
     "name": "stdout",
     "output_type": "stream",
     "text": [
      "내용을 입력하세요(종료하려면 x 버튼을 누르세요): d\n",
      "내용을 입력하세요(종료하려면 x 버튼을 누르세요): w\n",
      "내용을 입력하세요(종료하려면 x 버튼을 누르세요): we\n",
      "내용을 입력하세요(종료하려면 x 버튼을 누르세요): we\n",
      "내용을 입력하세요(종료하려면 x 버튼을 누르세요): r\n",
      "내용을 입력하세요(종료하려면 x 버튼을 누르세요): \n",
      "내용을 입력하세요(종료하려면 x 버튼을 누르세요): ds\n",
      "내용을 입력하세요(종료하려면 x 버튼을 누르세요): x\n"
     ]
    }
   ],
   "source": [
    "# 무한 루프\n",
    "while True:\n",
    "    s = input(\"내용을 입력하세요(종료하려면 x 버튼을 누르세요): \")\n",
    "    if s == 'x':\n",
    "        break"
   ]
  },
  {
   "cell_type": "code",
   "execution_count": 18,
   "metadata": {},
   "outputs": [
    {
     "name": "stdout",
     "output_type": "stream",
     "text": [
      "단을 입력하세요(종료하려면 0을 입력하세요) : 4\n",
      "4 x 1 = 4\n",
      "4 x 2 = 8\n",
      "4 x 3 = 12\n",
      "4 x 4 = 16\n",
      "4 x 5 = 20\n",
      "4 x 6 = 24\n",
      "4 x 7 = 28\n",
      "4 x 8 = 32\n",
      "4 x 9 = 36\n",
      "단을 입력하세요(종료하려면 0을 입력하세요) : 2\n",
      "2 x 1 = 2\n",
      "2 x 2 = 4\n",
      "2 x 3 = 6\n",
      "2 x 4 = 8\n",
      "2 x 5 = 10\n",
      "2 x 6 = 12\n",
      "2 x 7 = 14\n",
      "2 x 8 = 16\n",
      "2 x 9 = 18\n",
      "단을 입력하세요(종료하려면 0을 입력하세요) : 3\n",
      "3 x 1 = 3\n",
      "3 x 2 = 6\n",
      "3 x 3 = 9\n",
      "3 x 4 = 12\n",
      "3 x 5 = 15\n",
      "3 x 6 = 18\n",
      "3 x 7 = 21\n",
      "3 x 8 = 24\n",
      "3 x 9 = 27\n",
      "단을 입력하세요(종료하려면 0을 입력하세요) : 0\n"
     ]
    }
   ],
   "source": [
    "# 0은 False, 0이 아니면 True\n",
    "while 1:\n",
    "    dan = int(input('단을 입력하세요(종료하려면 0을 입력하세요) : '))\n",
    "    if dan == 0:\n",
    "        break\n",
    "    for n in range(1, 10):\n",
    "        print(dan, 'x', n, '=', dan*n)"
   ]
  },
  {
   "cell_type": "code",
   "execution_count": null,
   "metadata": {},
   "outputs": [],
   "source": []
  },
  {
   "cell_type": "code",
   "execution_count": null,
   "metadata": {},
   "outputs": [],
   "source": []
  },
  {
   "cell_type": "code",
   "execution_count": null,
   "metadata": {},
   "outputs": [],
   "source": []
  },
  {
   "cell_type": "code",
   "execution_count": null,
   "metadata": {},
   "outputs": [],
   "source": []
  },
  {
   "cell_type": "code",
   "execution_count": null,
   "metadata": {},
   "outputs": [],
   "source": []
  },
  {
   "cell_type": "code",
   "execution_count": null,
   "metadata": {},
   "outputs": [],
   "source": []
  },
  {
   "cell_type": "code",
   "execution_count": null,
   "metadata": {},
   "outputs": [],
   "source": []
  },
  {
   "cell_type": "code",
   "execution_count": null,
   "metadata": {},
   "outputs": [],
   "source": []
  },
  {
   "cell_type": "code",
   "execution_count": null,
   "metadata": {},
   "outputs": [],
   "source": []
  },
  {
   "cell_type": "code",
   "execution_count": null,
   "metadata": {},
   "outputs": [],
   "source": []
  },
  {
   "cell_type": "code",
   "execution_count": null,
   "metadata": {},
   "outputs": [],
   "source": []
  },
  {
   "cell_type": "code",
   "execution_count": null,
   "metadata": {},
   "outputs": [],
   "source": []
  },
  {
   "cell_type": "code",
   "execution_count": null,
   "metadata": {},
   "outputs": [],
   "source": []
  },
  {
   "cell_type": "code",
   "execution_count": null,
   "metadata": {},
   "outputs": [],
   "source": []
  },
  {
   "cell_type": "code",
   "execution_count": null,
   "metadata": {},
   "outputs": [],
   "source": []
  },
  {
   "cell_type": "code",
   "execution_count": null,
   "metadata": {},
   "outputs": [],
   "source": []
  },
  {
   "cell_type": "code",
   "execution_count": null,
   "metadata": {},
   "outputs": [],
   "source": []
  },
  {
   "cell_type": "code",
   "execution_count": null,
   "metadata": {},
   "outputs": [],
   "source": []
  },
  {
   "cell_type": "code",
   "execution_count": null,
   "metadata": {},
   "outputs": [],
   "source": []
  }
 ],
 "metadata": {
  "kernelspec": {
   "display_name": "Python 3",
   "language": "python",
   "name": "python3"
  },
  "language_info": {
   "codemirror_mode": {
    "name": "ipython",
    "version": 3
   },
   "file_extension": ".py",
   "mimetype": "text/x-python",
   "name": "python",
   "nbconvert_exporter": "python",
   "pygments_lexer": "ipython3",
   "version": "3.6.7"
  }
 },
 "nbformat": 4,
 "nbformat_minor": 2
}
