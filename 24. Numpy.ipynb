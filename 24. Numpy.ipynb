{
 "cells": [
  {
   "cell_type": "markdown",
   "metadata": {},
   "source": [
    "# Numpy\n",
    "\n",
    "1) 벡터 및 행렬 연산에 특화된 라이브러리<br>\n",
    "2) array 단위로 데이터를 관리함, 행렬(matrix)와 비슷함<br>\n",
    "3) pandas와 함께 데이터분석에 많이 사용됨<br>"
   ]
  },
  {
   "cell_type": "code",
   "execution_count": 1,
   "metadata": {},
   "outputs": [],
   "source": [
    "# 넘파이 모듈을 import\n",
    "import numpy as np"
   ]
  },
  {
   "cell_type": "code",
   "execution_count": 2,
   "metadata": {},
   "outputs": [
    {
     "name": "stdout",
     "output_type": "stream",
     "text": [
      "[1 2 3 4 5]\n",
      "<class 'numpy.ndarray'>\n",
      "(5,)\n"
     ]
    }
   ],
   "source": [
    "# 리스트\n",
    "data1 = [1, 2, 3, 4, 5]\n",
    "# 리스트를 넘파이 배열로 변환\n",
    "arr1 = np.array(data1)\n",
    "print(arr1)\n",
    "print(type(arr1)) # 자료형\n",
    "print(arr1.shape) # 배열의 차원"
   ]
  },
  {
   "cell_type": "code",
   "execution_count": 3,
   "metadata": {},
   "outputs": [
    {
     "name": "stdout",
     "output_type": "stream",
     "text": [
      "[[1 2 3]\n",
      " [4 5 6]]\n",
      "(2, 3)\n"
     ]
    }
   ],
   "source": [
    "# 2차원 리스트\n",
    "data2 = [[1,2,3], [4,5,6]]\n",
    "# 2차원 리스트를 넘파이의 2차원 행렬로 변환\n",
    "arr2 = np.array(data2)\n",
    "print(arr2)\n",
    "print(arr2.shape)\n",
    "# (2,3) => 2행 3열의 2차원 행렬"
   ]
  },
  {
   "cell_type": "code",
   "execution_count": 4,
   "metadata": {},
   "outputs": [],
   "source": [
    "# 2차원 행렬\n",
    "arr1 = np.array([[1,2,3], [4,5,6]])\n",
    "arr2 = np.array([[7,8,9], [10,11,12]])"
   ]
  },
  {
   "cell_type": "code",
   "execution_count": 5,
   "metadata": {},
   "outputs": [
    {
     "data": {
      "text/plain": [
       "array([[ 8, 10, 12],\n",
       "       [14, 16, 18]])"
      ]
     },
     "execution_count": 5,
     "metadata": {},
     "output_type": "execute_result"
    }
   ],
   "source": [
    "arr1 + arr2 # 같은 자리의 값을 계산"
   ]
  },
  {
   "cell_type": "code",
   "execution_count": 6,
   "metadata": {},
   "outputs": [
    {
     "data": {
      "text/plain": [
       "array([[-6, -6, -6],\n",
       "       [-6, -6, -6]])"
      ]
     },
     "execution_count": 6,
     "metadata": {},
     "output_type": "execute_result"
    }
   ],
   "source": [
    "arr1 - arr2"
   ]
  },
  {
   "cell_type": "code",
   "execution_count": 7,
   "metadata": {},
   "outputs": [
    {
     "data": {
      "text/plain": [
       "array([[ 7, 16, 27],\n",
       "       [40, 55, 72]])"
      ]
     },
     "execution_count": 7,
     "metadata": {},
     "output_type": "execute_result"
    }
   ],
   "source": [
    "arr1 * arr2"
   ]
  },
  {
   "cell_type": "code",
   "execution_count": 8,
   "metadata": {},
   "outputs": [
    {
     "data": {
      "text/plain": [
       "array([[0.14285714, 0.25      , 0.33333333],\n",
       "       [0.4       , 0.45454545, 0.5       ]])"
      ]
     },
     "execution_count": 8,
     "metadata": {},
     "output_type": "execute_result"
    }
   ],
   "source": [
    "arr1 / arr2"
   ]
  },
  {
   "cell_type": "code",
   "execution_count": 9,
   "metadata": {},
   "outputs": [
    {
     "data": {
      "text/plain": [
       "array([[ 2,  4,  6],\n",
       "       [ 8, 10, 12]])"
      ]
     },
     "execution_count": 9,
     "metadata": {},
     "output_type": "execute_result"
    }
   ],
   "source": [
    "arr1 * 2"
   ]
  },
  {
   "cell_type": "code",
   "execution_count": 10,
   "metadata": {},
   "outputs": [
    {
     "data": {
      "text/plain": [
       "array([[ 1,  4,  9],\n",
       "       [16, 25, 36]])"
      ]
     },
     "execution_count": 10,
     "metadata": {},
     "output_type": "execute_result"
    }
   ],
   "source": [
    "arr1 ** 2 # 거듭제곱"
   ]
  },
  {
   "cell_type": "code",
   "execution_count": 11,
   "metadata": {},
   "outputs": [],
   "source": [
    "# 배열의 인덱싱\n",
    "# 스트링 리스트를 넘파이 배열로 변환\n",
    "names = np.array(\\\n",
    "[\"김철수\", \"이승호\", \"박철호\", \"김철수\", \"홍성민\", \"마이클\", \"존\"])\n",
    "# 7행 4열의 난수 발생, randn 정규분포 난수\n",
    "data = np.random.randn(7, 4)"
   ]
  },
  {
   "cell_type": "code",
   "execution_count": 12,
   "metadata": {},
   "outputs": [
    {
     "data": {
      "text/plain": [
       "array(['김철수', '이승호', '박철호', '김철수', '홍성민', '마이클', '존'], dtype='<U3')"
      ]
     },
     "execution_count": 12,
     "metadata": {},
     "output_type": "execute_result"
    }
   ],
   "source": [
    "names"
   ]
  },
  {
   "cell_type": "code",
   "execution_count": 13,
   "metadata": {},
   "outputs": [
    {
     "data": {
      "text/plain": [
       "array([[ 0.22798933,  0.03175973,  0.55451583, -0.36167055],\n",
       "       [ 0.17562178, -0.25295708,  0.49247334,  1.33589128],\n",
       "       [-3.62877152, -0.72768227, -0.30161807,  1.95674674],\n",
       "       [-0.38348647,  0.58693698,  1.49198506, -0.47490651],\n",
       "       [ 0.98342312, -1.14048313, -0.37991613,  0.55444362],\n",
       "       [ 1.27431712, -1.30394177,  0.36568125, -0.17293602],\n",
       "       [ 0.49771176,  0.1315803 ,  0.41853082, -1.98835464]])"
      ]
     },
     "execution_count": 13,
     "metadata": {},
     "output_type": "execute_result"
    }
   ],
   "source": [
    "data"
   ]
  },
  {
   "cell_type": "code",
   "execution_count": 14,
   "metadata": {},
   "outputs": [],
   "source": [
    "x = np.random.randn(8)\n",
    "y = np.random.randn(8)"
   ]
  },
  {
   "cell_type": "code",
   "execution_count": 15,
   "metadata": {},
   "outputs": [
    {
     "data": {
      "text/plain": [
       "array([ 0.77905146, -1.19573803,  0.24971482, -0.13185305, -1.18093652,\n",
       "       -0.87268326, -0.74794339, -0.22614987])"
      ]
     },
     "execution_count": 15,
     "metadata": {},
     "output_type": "execute_result"
    }
   ],
   "source": [
    "x"
   ]
  },
  {
   "cell_type": "code",
   "execution_count": 16,
   "metadata": {},
   "outputs": [
    {
     "data": {
      "text/plain": [
       "array([-0.37772256, -1.34794617, -1.01025698,  1.94818228,  0.43956061,\n",
       "       -2.09432071, -0.64688684, -0.53345901])"
      ]
     },
     "execution_count": 16,
     "metadata": {},
     "output_type": "execute_result"
    }
   ],
   "source": [
    "y"
   ]
  },
  {
   "cell_type": "code",
   "execution_count": 17,
   "metadata": {},
   "outputs": [
    {
     "data": {
      "text/plain": [
       "array([ 0.77905146, -1.19573803,  0.24971482,  1.94818228,  0.43956061,\n",
       "       -0.87268326, -0.64688684, -0.22614987])"
      ]
     },
     "execution_count": 17,
     "metadata": {},
     "output_type": "execute_result"
    }
   ],
   "source": [
    "# 각 배열의 자리수를 비교해 큰 값을 뽑아서 새로운 배열을 생성함\n",
    "np.maximum(x, y)"
   ]
  },
  {
   "cell_type": "code",
   "execution_count": 18,
   "metadata": {},
   "outputs": [
    {
     "data": {
      "text/plain": [
       "array([[-1.01819298, -0.65123687,  1.28965633,  0.50839385],\n",
       "       [ 2.09237088, -0.06962041,  0.49990652,  1.6855924 ],\n",
       "       [ 0.12086384,  0.31138696, -1.27208386, -1.3138284 ],\n",
       "       [ 0.99225015,  0.67206967, -1.58920002,  0.35656373],\n",
       "       [ 0.71877318,  0.07541299,  0.64198364,  0.27360505]])"
      ]
     },
     "execution_count": 18,
     "metadata": {},
     "output_type": "execute_result"
    }
   ],
   "source": [
    "# 5행 4열의 랜덤값 생성\n",
    "arr = np.random.randn(5, 4)\n",
    "arr"
   ]
  },
  {
   "cell_type": "code",
   "execution_count": 19,
   "metadata": {},
   "outputs": [
    {
     "data": {
      "text/plain": [
       "4.324666670347837"
      ]
     },
     "execution_count": 19,
     "metadata": {},
     "output_type": "execute_result"
    }
   ],
   "source": [
    "# 전체 합계\n",
    "arr.sum()"
   ]
  },
  {
   "cell_type": "code",
   "execution_count": 20,
   "metadata": {},
   "outputs": [
    {
     "data": {
      "text/plain": [
       "0.21623333351739188"
      ]
     },
     "execution_count": 20,
     "metadata": {},
     "output_type": "execute_result"
    }
   ],
   "source": [
    "# 전체 평군\n",
    "arr.mean()"
   ]
  },
  {
   "cell_type": "code",
   "execution_count": 21,
   "metadata": {},
   "outputs": [
    {
     "data": {
      "text/plain": [
       "array([ 2.90606508,  0.33801234, -0.42973739,  1.51032663])"
      ]
     },
     "execution_count": 21,
     "metadata": {},
     "output_type": "execute_result"
    }
   ],
   "source": [
    "# 각 열의 합계\n",
    "arr.sum(axis=0)"
   ]
  },
  {
   "cell_type": "code",
   "execution_count": 22,
   "metadata": {},
   "outputs": [
    {
     "data": {
      "text/plain": [
       "array([ 0.12862033,  4.2082494 , -2.15366145,  0.43168353,  1.70977486])"
      ]
     },
     "execution_count": 22,
     "metadata": {},
     "output_type": "execute_result"
    }
   ],
   "source": [
    "# 각 행의 합계\n",
    "arr.sum(axis=1)"
   ]
  },
  {
   "cell_type": "code",
   "execution_count": 23,
   "metadata": {},
   "outputs": [
    {
     "data": {
      "text/plain": [
       "array([[-1.01819298, -0.65123687,  0.50839385,  1.28965633],\n",
       "       [-0.06962041,  0.49990652,  1.6855924 ,  2.09237088],\n",
       "       [-1.3138284 , -1.27208386,  0.12086384,  0.31138696],\n",
       "       [-1.58920002,  0.35656373,  0.67206967,  0.99225015],\n",
       "       [ 0.07541299,  0.27360505,  0.64198364,  0.71877318]])"
      ]
     },
     "execution_count": 23,
     "metadata": {},
     "output_type": "execute_result"
    }
   ],
   "source": [
    "# 오름차순 정렬\n",
    "np.sort(arr)"
   ]
  },
  {
   "cell_type": "code",
   "execution_count": 24,
   "metadata": {},
   "outputs": [
    {
     "data": {
      "text/plain": [
       "array([[ 2.09237088,  0.67206967,  1.28965633,  1.6855924 ],\n",
       "       [ 0.99225015,  0.31138696,  0.64198364,  0.50839385],\n",
       "       [ 0.71877318,  0.07541299,  0.49990652,  0.35656373],\n",
       "       [ 0.12086384, -0.06962041, -1.27208386,  0.27360505],\n",
       "       [-1.01819298, -0.65123687, -1.58920002, -1.3138284 ]])"
      ]
     },
     "execution_count": 24,
     "metadata": {},
     "output_type": "execute_result"
    }
   ],
   "source": [
    "# 내림차순 정렬(열을 기준으로)\n",
    "np.sort(arr, axis=0)[::-1]"
   ]
  },
  {
   "cell_type": "code",
   "execution_count": 25,
   "metadata": {},
   "outputs": [
    {
     "name": "stdout",
     "output_type": "stream",
     "text": [
      "['김철수' '마이클' '박철호' '이승호' '존' '홍성민']\n",
      "6\n"
     ]
    }
   ],
   "source": [
    "names = np.array(\\\n",
    "[\"김철수\", \"이승호\", \"박철호\", \"김철수\", \"홍성민\", \"마이클\", \"존\"])\n",
    "ages = np.array([20, 25, 20, 23, 28, 29, 30, 31, 30, 40, 45])\n",
    "# 중복값을 제거한 결과 출력\n",
    "print(np.unique(names))\n",
    "print(len(np.unique(names)))"
   ]
  },
  {
   "cell_type": "code",
   "execution_count": 26,
   "metadata": {},
   "outputs": [
    {
     "data": {
      "text/plain": [
       "array([20, 23, 25, 28, 29, 30, 31, 40, 45])"
      ]
     },
     "execution_count": 26,
     "metadata": {},
     "output_type": "execute_result"
    }
   ],
   "source": [
    "np.unique(ages)"
   ]
  },
  {
   "cell_type": "code",
   "execution_count": 27,
   "metadata": {},
   "outputs": [],
   "source": [
    "# 영화 평점 데이터 로딩\n",
    "# loadtxt() : 텍스트 파일 로딩, delimiter : 필드 구분자, dtype : 자료형\n",
    "data = np.loadtxt(\"./data/movie_data/ratings.dat\", delimiter=\"::\", dtype=np.int64)"
   ]
  },
  {
   "cell_type": "code",
   "execution_count": 28,
   "metadata": {},
   "outputs": [
    {
     "data": {
      "text/plain": [
       "array([[        1,      1193,         5, 978300760],\n",
       "       [        1,       661,         3, 978302109],\n",
       "       [        1,       914,         3, 978301968],\n",
       "       [        1,      3408,         4, 978300275],\n",
       "       [        1,      2355,         5, 978824291]])"
      ]
     },
     "execution_count": 28,
     "metadata": {},
     "output_type": "execute_result"
    }
   ],
   "source": [
    "# 데이터의 첫 5행만 확인\n",
    "# [행start:end, 열start:end]\n",
    "data[:5, :] # data[:5,]와 같음"
   ]
  },
  {
   "cell_type": "code",
   "execution_count": 29,
   "metadata": {},
   "outputs": [
    {
     "data": {
      "text/plain": [
       "(1000209, 4)"
      ]
     },
     "execution_count": 29,
     "metadata": {},
     "output_type": "execute_result"
    }
   ],
   "source": [
    "# 데이터의 형태 확인\n",
    "# (행, 열)\n",
    "data.shape"
   ]
  },
  {
   "cell_type": "code",
   "execution_count": 30,
   "metadata": {},
   "outputs": [
    {
     "data": {
      "text/plain": [
       "3.581564453029317"
      ]
     },
     "execution_count": 30,
     "metadata": {},
     "output_type": "execute_result"
    }
   ],
   "source": [
    "# 전체 평균 평점 계산\n",
    "# 행범위:열범위\n",
    "# data[:,2] : 전체행, 2번열\n",
    "mean_rating_total = data[:,2].mean() # rating 컬럼\n",
    "mean_rating_total"
   ]
  },
  {
   "cell_type": "code",
   "execution_count": 31,
   "metadata": {},
   "outputs": [
    {
     "name": "stdout",
     "output_type": "stream",
     "text": [
      "[   1    2    3 ... 6038 6039 6040]\n",
      "6040\n"
     ]
    }
   ],
   "source": [
    "# 사용자 아이디 수집\n",
    "user_ids = np.unique(data[:,0]) # 전체행, 0번열\n",
    "print(user_ids)\n",
    "print(len(user_ids))"
   ]
  },
  {
   "cell_type": "code",
   "execution_count": 32,
   "metadata": {},
   "outputs": [],
   "source": [
    "# 사용자별 평균값을 저장할 배열\n",
    "mean_values = []\n",
    "for user_id in user_ids:\n",
    "    # 첫번째 열이 아이디\n",
    "    # 예를 들어 현재 user_id가 1이라면 user_id가 1인 행들만 추출해서\n",
    "    # data_for_user에 저장\n",
    "    # data 중에서 모든행, 0번필드가 user_id인 행의 모든 컬럼\n",
    "    data_for_user = data[data[:,0] == user_id, :]\n",
    "    # 2번째 인덱스(평점)에 해당하는 값의 평균값\n",
    "    value = data_for_user[:, 2].mean()\n",
    "    # 사용자아이디와 평균값을 배열에 추가\n",
    "    # 리스트 안에 리스트가 들어가므로 2차원 리스트로 만들어짐\n",
    "    mean_values.append([user_id, value])"
   ]
  },
  {
   "cell_type": "code",
   "execution_count": 33,
   "metadata": {},
   "outputs": [
    {
     "name": "stdout",
     "output_type": "stream",
     "text": [
      "[[1, 4.188679245283019], [2, 3.7131782945736433], [3, 3.9019607843137254], [4, 4.190476190476191], [5, 3.1464646464646466]]\n",
      "6040\n"
     ]
    }
   ],
   "source": [
    "# 사용자 아이디별 평점 확인\n",
    "print(mean_values[:5])\n",
    "print(len(mean_values))"
   ]
  },
  {
   "cell_type": "code",
   "execution_count": 34,
   "metadata": {},
   "outputs": [],
   "source": [
    "# 리스트를 넘파이 배열로 변환\n",
    "mean_array = np.array(mean_values, dtype=np.float32)"
   ]
  },
  {
   "cell_type": "code",
   "execution_count": 35,
   "metadata": {},
   "outputs": [
    {
     "data": {
      "text/plain": [
       "array([[1.       , 4.188679 ],\n",
       "       [2.       , 3.7131784],\n",
       "       [3.       , 3.9019608],\n",
       "       [4.       , 4.1904764],\n",
       "       [5.       , 3.1464646]], dtype=float32)"
      ]
     },
     "execution_count": 35,
     "metadata": {},
     "output_type": "execute_result"
    }
   ],
   "source": [
    "mean_array[:5] # 0번행부터 4번행까지"
   ]
  },
  {
   "cell_type": "code",
   "execution_count": 36,
   "metadata": {},
   "outputs": [
    {
     "data": {
      "text/plain": [
       "(6040, 2)"
      ]
     },
     "execution_count": 36,
     "metadata": {},
     "output_type": "execute_result"
    }
   ],
   "source": [
    "mean_array.shape"
   ]
  },
  {
   "cell_type": "code",
   "execution_count": 37,
   "metadata": {},
   "outputs": [],
   "source": [
    "# 계산 결과를 csv 파일로 저장\n",
    "np.savetxt(\"./data/movie_data/result.csv\",\\\n",
    "          mean_array, fmt=\"%.1f\", delimiter=\",\")\n"
   ]
  },
  {
   "cell_type": "code",
   "execution_count": null,
   "metadata": {},
   "outputs": [],
   "source": []
  }
 ],
 "metadata": {
  "kernelspec": {
   "display_name": "Python 3",
   "language": "python",
   "name": "python3"
  },
  "language_info": {
   "codemirror_mode": {
    "name": "ipython",
    "version": 3
   },
   "file_extension": ".py",
   "mimetype": "text/x-python",
   "name": "python",
   "nbconvert_exporter": "python",
   "pygments_lexer": "ipython3",
   "version": "3.6.8"
  }
 },
 "nbformat": 4,
 "nbformat_minor": 2
}
