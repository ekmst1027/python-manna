{
 "cells": [
  {
   "cell_type": "markdown",
   "metadata": {},
   "source": [
    "# 13. 데이터베이스(SQLite)\n",
    "\n",
    "<hr/>\n",
    "\n",
    "## 가. SQLite (공식 사이트 : http://sqplite.org)\n",
    "1) 개발자\n",
    "    - 리처드 힙(Richard Hipp)이 2000년 8월 발표, C언어로 개발\n",
    "    - 2018년 11월 기준 최신 버전 3.25.3\n",
    "    \n",
    "2) 특징\n",
    "    - 파일 기반의 DBMS, 저메모리, 빠른 처리 속도\n",
    "    - 오픈 소스\n",
    "    - 별도의 DB 서버가 없어도 쉽고 편리하게 사용할 수 있는 Embedded SQL DB 엔진\n",
    "    - 안드로이드, 아이폰 등의 스마트폰에 내장된 DB\n",
    "    - 표준 SQL 지원\n",
    "\n",
    "## 나. SQLite에서 지원하지 않는 기능(https://www.sqlite.orgmitted.html)\n",
    "1) RIGHT and FULL OUTER JOIN : left outer join은 가능함 <br/><br/>\n",
    "2) Complete ALTER TABLE support <br/><br/>\n",
    "3) Commplete trigger support <br/><br/>\n",
    "4) Writing to VIEWs : 읽기전용뷰만 가능 <br/><br/>\n",
    "5) GRANT and REVOKE <br/><br/>\n"
   ]
  },
  {
   "cell_type": "code",
   "execution_count": 1,
   "metadata": {},
   "outputs": [
    {
     "name": "stdout",
     "output_type": "stream",
     "text": [
      "2.6.0\n",
      "3.26.0\n"
     ]
    }
   ],
   "source": [
    "import sqlite3\n",
    "\n",
    "print(sqlite3.version) # sqlite3 모듈의 버전\n",
    "print(sqlite3.sqlite_version) # 파이썬에 내장된 sqlite의 버전"
   ]
  },
  {
   "cell_type": "code",
   "execution_count": 2,
   "metadata": {},
   "outputs": [],
   "source": [
    "# 테이블 생성 함수\n",
    "def create_table():\n",
    "    conn = sqlite3.connect(\"./source/database/my_books.db\") # db 파일 생성 후 접ㅈ속\n",
    "    cursor = conn.cursor() # 커서가 만들어짐(커서 : sql을 실행히키는 객체)\n",
    "    # sql 명령어가 실행됨\n",
    "    cursor.execute(\"\"\"\n",
    "        create table if not exists books (\n",
    "            title text,\n",
    "            published_data text,\n",
    "            publisher text,\n",
    "            pages integer,\n",
    "            recommend integer\n",
    "        )\n",
    "    \"\"\")\n",
    "    conn.commit() # db에 반영됨\n",
    "    conn.close() # db 연결 종료\n",
    "    \n",
    "create_table()"
   ]
  },
  {
   "cell_type": "code",
   "execution_count": 3,
   "metadata": {},
   "outputs": [],
   "source": [
    "# 데이터 입력 함수\n",
    "def insert_books():\n",
    "    conn = sqlite3.connect('./source/database/my_books.db') # 데이터베이스 커넥션 생성\n",
    "    cursor = conn.cursor() # 커서 생성(sql을 실행시키는 객체)\n",
    "    \n",
    "    # 데이터 입력\n",
    "    cursor.execute(\"insert into books values('java', '2018-02-28', '길벗', 500, 10)\")\n",
    "    \n",
    "    \n",
    "    # 데이터 입력 SQL\n",
    "    sql = 'insert into books values(?, ?, ?, ?, ?)'\n",
    "    # 튜플을 이용한 데이터 입력\n",
    "    cursor.execute(sql, ('Python', '2018-03-04', '한빛', 584, 20))\n",
    "    \n",
    "    \n",
    "    # 책의 정보를 담고 있는 튜플들의 리스트\n",
    "    items = [\n",
    "        ('빅데이터', '2014-07-02', '삼성', 296, 11),\n",
    "        ('안드로이드', '2010-02-10', '영진', 526, 20),\n",
    "        ('Spring', '2013-12-12', '에이콘', 248, 15)\n",
    "    ]\n",
    "    # 여러 데이터 입력\n",
    "    cursor.executemany(sql, items)\n",
    "    \n",
    "    conn.commit() # 커밋\n",
    "    conn.close() # db 닫기\n",
    "    \n",
    "insert_books()"
   ]
  },
  {
   "cell_type": "code",
   "execution_count": 4,
   "metadata": {},
   "outputs": [
    {
     "name": "stdout",
     "output_type": "stream",
     "text": [
      "[1] 전체 데이터 출력하기\n",
      "<class 'list'>\n",
      "5\n",
      "('java', '2018-02-28', '길벗', 500, 10)\n",
      "('Python', '2018-03-04', '한빛', 584, 20)\n",
      "('빅데이터', '2014-07-02', '삼성', 296, 11)\n",
      "('안드로이드', '2010-02-10', '영진', 526, 20)\n",
      "('Spring', '2013-12-12', '에이콘', 248, 15)\n",
      "=========================================================\n"
     ]
    }
   ],
   "source": [
    "# 전체 조회용 함수\n",
    "def all_books():\n",
    "    conn = sqlite3.connect('./source/database/my_books.db') # 데이터베이스 커넥션 생성\n",
    "    cursor = conn.cursor() # 커서 생성\n",
    "    cursor.execute('select * from books') # 조회용 SQL 실행\n",
    "    \n",
    "    print('[1] 전체 데이터 출력하기')\n",
    "    \n",
    "    books = cursor.fetchall() # 조회한 데이터 불러오기\n",
    "    \n",
    "    print(type(books)) # 자료형\n",
    "    print(len(books)) # 레코드 갯수\n",
    "    \n",
    "    # 반복문을 이용해서 한 row씩 불러오기\n",
    "    # for 개별변수 in 집합\n",
    "    for book in books:\n",
    "        print(book)\n",
    "        \n",
    "    conn.close()  # 커넥션 닫기\n",
    "    \n",
    "all_books()\n",
    "\n",
    "print(\"=========================================================\")\n",
    "    "
   ]
  },
  {
   "cell_type": "code",
   "execution_count": 5,
   "metadata": {},
   "outputs": [
    {
     "name": "stdout",
     "output_type": "stream",
     "text": [
      "<class 'list'>\n",
      "3\n",
      "('java', '2018-02-28', '길벗', 500, 10)\n",
      "('Python', '2018-03-04', '한빛', 584, 20)\n",
      "('빅데이터', '2014-07-02', '삼성', 296, 11)\n"
     ]
    }
   ],
   "source": [
    "# 일부 조회용 함수\n",
    "def some_books(number):\n",
    "    conn = sqlite3.connect('./source/database/my_books.db') # 데이터베이스 커넥션 생성\n",
    "    cursor = conn.cursor() # 커서 생성\n",
    "    cursor.execute(\"select * from books\")\n",
    "    \n",
    "    # fetchall() 모든 레코드를 받아옴, fetchmany(갯수) 갯수 만큼 받아옴\n",
    "    books = cursor.fetchmany(number)\n",
    "    \n",
    "    print(type(books)) # 자료형\n",
    "    print(len(books)) # 레코드 갯수\n",
    "    \n",
    "    for book in books:\n",
    "        print(book)\n",
    "    conn.close()\n",
    "        \n",
    "some_books(3) # 함수 호출"
   ]
  },
  {
   "cell_type": "code",
   "execution_count": 6,
   "metadata": {},
   "outputs": [
    {
     "name": "stdout",
     "output_type": "stream",
     "text": [
      "<class 'tuple'>\n",
      "('java', '2018-02-28', '길벗', 500, 10)\n"
     ]
    }
   ],
   "source": [
    "# 하나만 조회하는 함수\n",
    "def one_book():\n",
    "    conn = sqlite3.connect('./source/database/my_books.db') # 데이터베이스 커넥션 생성\n",
    "    cursor = conn.cursor() # 커서 생성\n",
    "    cursor.execute(\"select * from books\")\n",
    "    book = cursor.fetchone() # 레코드 1개만 튜플로 리턴됨\n",
    "    print(type(book))\n",
    "    print(book) \n",
    "    \n",
    "    conn.close()\n",
    "    \n",
    "one_book()"
   ]
  },
  {
   "cell_type": "code",
   "execution_count": 7,
   "metadata": {},
   "outputs": [
    {
     "name": "stdout",
     "output_type": "stream",
     "text": [
      "('Python', 584)\n",
      "('안드로이드', 526)\n",
      "('java', 500)\n"
     ]
    }
   ],
   "source": [
    "# where절\n",
    "def big_books():\n",
    "    conn = sqlite3.connect('./source/database/my_books.db') # 데이터베이스 커넥션 생성\n",
    "    cursor = conn.cursor() # 커서 생성\n",
    "    cursor.execute(\"select title, pages from books where pages > 300 order by pages desc\")\n",
    "    books = cursor.fetchall() # 모든 레코드를 가져옴\n",
    "    \n",
    "    for book in books:\n",
    "        print(book)\n",
    "        \n",
    "    conn.close()\n",
    "    \n",
    "big_books()"
   ]
  },
  {
   "cell_type": "code",
   "execution_count": 8,
   "metadata": {},
   "outputs": [
    {
     "name": "stdout",
     "output_type": "stream",
     "text": [
      "<class 'tuple'>\n",
      "('java', '2018-02-28', '길벗', 500, 200)\n"
     ]
    }
   ],
   "source": [
    "# update 함수\n",
    "def update_books():\n",
    "    conn = sqlite3.connect('./source/database/my_books.db') # 데이터베이스 커넥션 생성\n",
    "    cursor = conn.cursor() # 커서 생성\n",
    "    \n",
    "    # 데이터 수정 SQL\n",
    "    sql = 'update books set recommend=? where title=?'\n",
    "    \n",
    "    # 수정 SQL 실행\n",
    "    cursor.execute(sql, (200, 'java'))\n",
    "    \n",
    "    conn.commit()\n",
    "    conn.close()\n",
    "    \n",
    "update_books()\n",
    "one_book()"
   ]
  },
  {
   "cell_type": "code",
   "execution_count": 9,
   "metadata": {},
   "outputs": [
    {
     "name": "stdout",
     "output_type": "stream",
     "text": [
      "[1] 전체 데이터 출력하기\n",
      "<class 'list'>\n",
      "5\n",
      "('java', '2018-02-28', '길벗', 500, 200)\n",
      "('Python', '2018-03-04', '한빛', 584, 20)\n",
      "('빅데이터', '2014-07-02', '삼성', 296, 11)\n",
      "('안드로이드', '2010-02-10', '영진', 526, 20)\n",
      "('Spring', '2013-12-12', '에이콘', 248, 15)\n"
     ]
    }
   ],
   "source": [
    "all_books()"
   ]
  },
  {
   "cell_type": "code",
   "execution_count": 10,
   "metadata": {},
   "outputs": [
    {
     "name": "stdout",
     "output_type": "stream",
     "text": [
      "[1] 전체 데이터 출력하기\n",
      "<class 'list'>\n",
      "4\n",
      "('java', '2018-02-28', '길벗', 500, 200)\n",
      "('Python', '2018-03-04', '한빛', 584, 20)\n",
      "('안드로이드', '2010-02-10', '영진', 526, 20)\n",
      "('Spring', '2013-12-12', '에이콘', 248, 15)\n"
     ]
    }
   ],
   "source": [
    "# 삭제 함수\n",
    "def delete_books():\n",
    "    conn = sqlite3.connect('./source/database/my_books.db') # 데이터베이스 커넥션 생성\n",
    "    cursor = conn.cursor() # 커서 생성\n",
    "    \n",
    "    sql = \"delete from books where publisher = '삼성'\"\n",
    "    cursor.execute(sql)\n",
    "    \n",
    "    conn.commit()\n",
    "    conn.close()\n",
    "    \n",
    "delete_books()\n",
    "all_books()"
   ]
  },
  {
   "cell_type": "code",
   "execution_count": 11,
   "metadata": {},
   "outputs": [
    {
     "name": "stdout",
     "output_type": "stream",
     "text": [
      "('김철수', '배', 10000.0, '2018-01-02')\n",
      "('김민수', '사과', 20000.0, '2018-01-15')\n",
      "('김현수', '포도', 15000.0, '2018-02-03')\n",
      "('한민호', '자두', 30000.0, '2018-02-20')\n"
     ]
    }
   ],
   "source": [
    "# 메모리에 데이터베이스 생성(in-memory database)\n",
    "# conn = sqlite3.connect(\":memory:\")\n",
    "# 파일 생성\n",
    "conn = sqlite3.connect('./source/database/sales.db') # 데이터베이스 커넥션 생성\n",
    "# 테이블 생성\n",
    "sql = \"\"\"\n",
    "    create table if not exists sales(\n",
    "        customer varchar(20),\n",
    "        product varchar(50),\n",
    "        price float,\n",
    "        date date\n",
    "    )\n",
    "\"\"\"\n",
    "conn.execute(sql)\n",
    "\n",
    "# 레코드 추가\n",
    "data = [('김철수', '배', 10000, '2018-01-02'),\n",
    "        ('김민수', '사과', 20000, '2018-01-15'),\n",
    "        ('김현수', '포도', 15000, '2018-02-03'),\n",
    "        ('한민호', '자두', 30000, '2018-02-20')\n",
    "       ]\n",
    "\n",
    "statement = \"insert into sales values(?, ?, ?, ?)\"\n",
    "conn.executemany(statement, data)\n",
    "conn.commit()\n",
    "\n",
    "# select query 실행\n",
    "cursor = conn.execute(\"select * from sales\")\n",
    "rows = cursor.fetchall()\n",
    "for row in rows:\n",
    "    print(row)\n",
    "    "
   ]
  },
  {
   "cell_type": "code",
   "execution_count": 12,
   "metadata": {},
   "outputs": [
    {
     "name": "stdout",
     "output_type": "stream",
     "text": [
      "<_csv.reader object at 0x1088e0cf8>\n",
      "header ['Supplier Name', 'Invoice Number', 'Part Number', 'Cost', 'Purchase Date']\n",
      "['A', '001-1001', '2341', '500000.0', '2014-01-20']\n",
      "['A', '001-1001', '2341', '500000.0', '2014-01-20']\n",
      "['A', '001-1001', '5467', '750000.0', '2014-01-20']\n",
      "['A', '001-1001', '5467', '750000.0', '2014-01-20']\n",
      "['B', '50-9501', '7009', '250000.0', '2018-01-30']\n",
      "['B', '50-9501', '7009', '250000.0', '2018-01-30']\n",
      "['B', '50-9505', '6650', '125000.0', '2017-02-03']\n",
      "['B', '50-9505', '6650', '125000.0', '2017-02-03']\n",
      "['C', '920-4803', '3321', '615000.0', '2017-02-03']\n",
      "['C', '920-4804', '3321', '615000.0', '2017-02-10']\n",
      "['C', '920-4805', '3321', '615000.0', '2017-02-17']\n",
      "['C', '920-4806', '3321', '615000.0', '2017-02-24']\n"
     ]
    }
   ],
   "source": [
    "# csv 파일로부터 읽은 데이터를 테이블에 insert\n",
    "import csv\n",
    "import sqlite3\n",
    "\n",
    "input_file = './source/database/input.csv'\n",
    "\n",
    "# sqlite database file 생성\n",
    "conn = sqlite3.connect('./source/database/suppliers.db') # 데이터베이스 커넥션 생성\n",
    "cursor = conn.cursor()\n",
    "sql = \"\"\"\n",
    "    create table if not exists suppliers (\n",
    "        supplier_name varchar(20),\n",
    "        Invocie_number varchar(20),\n",
    "        part_number varchar(20),\n",
    "        cost float,\n",
    "        purchase_date date\n",
    "    )\n",
    "\"\"\"\n",
    "\n",
    "cursor.execute(sql)\n",
    "\n",
    "sql = \"delete from suppliers\"\n",
    "cursor.execute(sql)\n",
    "\n",
    "# csv 파일에서 데이터를 읽어서 테이블에 insert\n",
    "file_reader = csv.reader(open(input_file, 'r'), delimiter=',')\n",
    "print(file_reader)\n",
    "\n",
    "# 첫 라인을 읽음(제목행)\n",
    "header = next(file_reader, None)\n",
    "print('header', header)\n",
    "# header 이후의 2번째 행부터 끝까지 읽어들이며 insert\n",
    "for row in file_reader:\n",
    "    data = [] # 빈 리스트\n",
    "    # idx에는 0 ~ 4가 입력됨\n",
    "    for idx in range(len(header)):\n",
    "        data.append(row[idx])\n",
    "        \n",
    "#     print(data)\n",
    "    cursor.execute(\"insert into suppliers values (?, ?, ?, ?, ?)\", data) \n",
    "conn.commit()\n",
    "\n",
    "output = cursor.execute(\"select * from suppliers\")\n",
    "rows = output.fetchall()\n",
    "\n",
    "for row in rows:\n",
    "    output = []\n",
    "    for column_index in range(len(row)):\n",
    "        output.append(str(row[column_index]))\n",
    "    print(output)"
   ]
  },
  {
   "cell_type": "code",
   "execution_count": 13,
   "metadata": {},
   "outputs": [
    {
     "name": "stdout",
     "output_type": "stream",
     "text": [
      "['김철수', '배', '8000.0', '2017-12-31']\n",
      "['김민수', '사과', '20000.0', '2018-01-15']\n",
      "['김현수', '포도', '15000.0', '2018-02-03']\n",
      "['한민호', '자두', '30000.0', '2018-02-20']\n"
     ]
    }
   ],
   "source": [
    "# db 업데이트\n",
    "conn = sqlite3.connect('./source/database/sales.db') # 데이터베이스 커넥션 생성\n",
    "conn.execute(\\\n",
    "            \"update sales set price=?, date=? where customer=?\", \\\n",
    "            (8000, '2017-12-31', '김철수'))\n",
    "conn.commit()\n",
    "cursor = conn.execute(\"select * from sales\")\n",
    "rows = cursor.fetchall()\n",
    "for row in rows:\n",
    "    output = [] # 비어있는 리스트\n",
    "    for idx in range(len(row)):\n",
    "        # 리스트.append(내용) <= 리스트에 필드가 추가됨\n",
    "        output.append(str(row[idx]))\n",
    "    print(output)"
   ]
  },
  {
   "cell_type": "code",
   "execution_count": null,
   "metadata": {},
   "outputs": [],
   "source": []
  }
 ],
 "metadata": {
  "kernelspec": {
   "display_name": "Python 3",
   "language": "python",
   "name": "python3"
  },
  "language_info": {
   "codemirror_mode": {
    "name": "ipython",
    "version": 3
   },
   "file_extension": ".py",
   "mimetype": "text/x-python",
   "name": "python",
   "nbconvert_exporter": "python",
   "pygments_lexer": "ipython3",
   "version": "3.7.1"
  }
 },
 "nbformat": 4,
 "nbformat_minor": 2
}
