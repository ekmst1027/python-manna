{
 "cells": [
  {
   "cell_type": "markdown",
   "metadata": {},
   "source": [
    "# 클래스의 개요\n",
    "<br/>\n",
    "\n",
    "\n",
    "1) 모듈(module) vs. 클래스(calss) vs. 인스턴스(instance) <br/>\n",
    "    - 모듈 : .py로 끝나는 파일\n",
    "    - 클래스 : 새로운 자료형을 만드는 방법\n",
    "    - 인스턴스 : 클래스로부터 만들어낸 객체\n",
    "    \n",
    "2) 클래스의 형식\n",
    "    class 클래스이름:\n",
    "        #Properties\n",
    "        nation = \"한국\n",
    "        name = str()\n",
    "        age = int()\n",
    "        #Methods\n",
    "        def display(self):\n",
    "            print(\"국적\", self.nation, end=' ')\n",
    "            print(\", 이름:\", self.name, end=' ')\n",
    "            print(\", 나이:\", self.age, end=' ')\n",
    "            \n",
    "3) 클래스 내부의 method 선언 - def 키워드 사용\n",
    "    - 일반 함수와 다른 점은 첫번째 인수로 self 사용\n",
    "    - self : 인스턴스 자신의 주소값을 가리킴\n",
    "    - 각 인스턴스들은 self를 이용하여 자신의 이름 공간에 접근\n",
    "    \n",
    "4) class method:\n",
    "    - 인스턴스와 무관하게 클래스 이름 공간에 존재하는 method\n",
    "    - 클래스 이름을 이용하여 호출함\n",
    "    - 첫 인수로 클래스 인스턴스를 자동으로 받는 method"
   ]
  },
  {
   "cell_type": "code",
   "execution_count": null,
   "metadata": {},
   "outputs": [],
   "source": []
  },
  {
   "cell_type": "code",
   "execution_count": null,
   "metadata": {},
   "outputs": [],
   "source": []
  },
  {
   "cell_type": "code",
   "execution_count": null,
   "metadata": {},
   "outputs": [],
   "source": []
  }
 ],
 "metadata": {
  "kernelspec": {
   "display_name": "Python 3",
   "language": "python",
   "name": "python3"
  },
  "language_info": {
   "codemirror_mode": {
    "name": "ipython",
    "version": 3
   },
   "file_extension": ".py",
   "mimetype": "text/x-python",
   "name": "python",
   "nbconvert_exporter": "python",
   "pygments_lexer": "ipython3",
   "version": "3.6.7"
  }
 },
 "nbformat": 4,
 "nbformat_minor": 2
}
