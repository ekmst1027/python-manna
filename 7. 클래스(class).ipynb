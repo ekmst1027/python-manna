{
 "cells": [
  {
   "cell_type": "markdown",
   "metadata": {},
   "source": [
    "# 클래스의 개요\n",
    "<br/>\n",
    "\n",
    "\n",
    "1) 모듈(module) vs. 클래스(calss) vs. 인스턴스(instance) <br/>\n",
    "    - 모듈 : .py로 끝나는 파일\n",
    "    - 클래스 : 새로운 자료형을 만드는 방법\n",
    "    - 인스턴스 : 클래스로부터 만들어낸 객체\n",
    "    \n",
    "2) 클래스의 형식\n",
    "    class 클래스이름:\n",
    "        #Properties\n",
    "        nation = \"한국\n",
    "        name = str()\n",
    "        age = int()\n",
    "        #Methods\n",
    "        def display(self):\n",
    "            print(\"국적\", self.nation, end=' ')\n",
    "            print(\", 이름:\", self.name, end=' ')\n",
    "            print(\", 나이:\", self.age, end=' ')\n",
    "            \n",
    "3) 클래스 내부의 method 선언 - def 키워드 사용\n",
    "    - 일반 함수와 다른 점은 첫번째 인수로 self 사용\n",
    "    - self : 인스턴스 자신의 주소값을 가리킴\n",
    "    - 각 인스턴스들은 self를 이용하여 자신의 이름 공간에 접근\n",
    "    \n",
    "4) class method:\n",
    "    - 인스턴스와 무관하게 클래스 이름 공간에 존재하는 method\n",
    "    - 클래스 이름을 이용하여 호출함\n",
    "    - 첫 인수로 클래스 인스턴스를 자동으로 받는 method\n",
    "    \n",
    "5) __init__ : 생성자(Constructor)\n",
    "    - 인스턴스가 생성될 때 자동으로 호출되는 method\n",
    "    - self dlswkrk wjddmlehldjdi gka\n",
    "    \n",
    "6) __del__ : 소멸자(Destructor)\n",
    "    - 인스턴스가 소멸(메모리에서 해제)될 때 자동으로 호출되는 method\n",
    "    - self 인자가 정의되어야 함\n",
    "    - 생략 가능(파이썬에서는 메모리나 기타 자원들을 자동으로 해제함)\n",
    "    \n",
    "7) 상속(Inheritance)\n",
    "    - 코드의 재사용\n",
    "    - 자식 클래스는 상속을 해준 부모 클래스의 모든 기능을 그대로 사용\n",
    "    - 자식 클래스는 필요한 기능만을 정의하거나 기존의 기능을 변경할 수 있음\n",
    "    - 다중 상속 가능\n",
    "    \n",
    "8) 오버라이드(Override)\n",
    "    - 서브 클래스에서 슈퍼 클래스에 정의된 method를 재정의하여 사용하는 기능\n",
    "    \n",
    "9) 다형성(Polymorphism)\n",
    "    - 상속 관계 내의 다른 클래스들의 인스턴스들이 같은 멤버 함수 호출에 대해 각각 다르게 반응하도록 하는 기능\n",
    "    - 적은 코딩으로 다양한 인스턴스들에게 유사한 작업을 수행시킬 수 있음\n",
    "    - 코드의 가독성 향상\n",
    "    "
   ]
  },
  {
   "cell_type": "code",
   "execution_count": 1,
   "metadata": {},
   "outputs": [],
   "source": [
    "class Person:\n",
    "    # Properties\n",
    "    nation = \"한국\"\n",
    "    name = str()\n",
    "    age = int()\n",
    "    height = float()\n",
    "    weight = float()\n",
    "    # Methods\n",
    "    # self : 인스턴스의 시작 번지값을 저장하는 변수(java의 this)\n",
    "    def display(self):\n",
    "        print('국적:', self.nation, end='')\n",
    "        print(', 이름:', self.name, end='')\n",
    "        print(', 나이:', self.age, end='')\n",
    "        print(', 신장:', self.height, end='')\n",
    "        print(', 체중:', self.weight, end='')"
   ]
  },
  {
   "cell_type": "code",
   "execution_count": 2,
   "metadata": {},
   "outputs": [
    {
     "name": "stdout",
     "output_type": "stream",
     "text": [
      "['__class__', '__delattr__', '__dict__', '__dir__', '__doc__', '__eq__', '__format__', '__ge__', '__getattribute__', '__gt__', '__hash__', '__init__', '__init_subclass__', '__le__', '__lt__', '__module__', '__ne__', '__new__', '__reduce__', '__reduce_ex__', '__repr__', '__setattr__', '__sizeof__', '__str__', '__subclasshook__', '__weakref__', 'age', 'display', 'height', 'name', 'nation', 'weight']\n"
     ]
    }
   ],
   "source": [
    "# Person 클래스의 모든 인스턴스 확인\n",
    "# dir(자료형)\n",
    "print(dir(Person))"
   ]
  },
  {
   "cell_type": "code",
   "execution_count": 3,
   "metadata": {},
   "outputs": [
    {
     "name": "stdout",
     "output_type": "stream",
     "text": [
      "국적: 한국, 이름: , 나이: 0, 신장: 0.0, 체중: 0.0"
     ]
    }
   ],
   "source": [
    "p1 = Person()\n",
    "p1.display() # 입력된 값이 없음"
   ]
  },
  {
   "cell_type": "code",
   "execution_count": 4,
   "metadata": {},
   "outputs": [
    {
     "name": "stdout",
     "output_type": "stream",
     "text": [
      "국적: 한국, 이름: 김철수, 나이: 20, 신장: 170.5, 체중: 70.5"
     ]
    }
   ],
   "source": [
    "p2 = Person()\n",
    "p2.name = '김철수'\n",
    "p2.age = 20\n",
    "p2.height = 170.5\n",
    "p2.weight = 70.5\n",
    "p2.display()"
   ]
  },
  {
   "cell_type": "code",
   "execution_count": 5,
   "metadata": {},
   "outputs": [
    {
     "name": "stdout",
     "output_type": "stream",
     "text": [
      "국적: China, 이름: , 나이: 0, 신장: 0.0, 체중: 0.0\n",
      "국적: 한국, 이름: 김철수, 나이: 20, 신장: 170.5, 체중: 70.5"
     ]
    }
   ],
   "source": [
    "# 인스턴스 변수(해당 인스턴스의 값만 바뀜)\n",
    "p1.nation = 'China'\n",
    "p1.display()\n",
    "print()\n",
    "p2.display()"
   ]
  },
  {
   "cell_type": "code",
   "execution_count": 6,
   "metadata": {},
   "outputs": [
    {
     "name": "stdout",
     "output_type": "stream",
     "text": [
      "국적: China, 이름: , 나이: 0, 신장: 0.0, 체중: 0.0\n",
      "국적: China, 이름: 김철수, 나이: 20, 신장: 170.5, 체중: 70.5"
     ]
    }
   ],
   "source": [
    "# static 뱐수(모든 인스턴스의 값이 바뀜)\n",
    "Person.nation = 'China'\n",
    "p1.display()\n",
    "print()\n",
    "p2.display()"
   ]
  },
  {
   "cell_type": "code",
   "execution_count": 7,
   "metadata": {},
   "outputs": [
    {
     "name": "stdout",
     "output_type": "stream",
     "text": [
      "함수1\n",
      "f의 주소값: 4487163016\n",
      "인스턴스의 주소값: 4487163016\n",
      "함수2\n"
     ]
    }
   ],
   "source": [
    "class Foo:\n",
    "    def func1(self): # 인스턴스 method\n",
    "        print(\"함수1\")\n",
    "    def func2(self):\n",
    "        print(\"인스턴스의 주소값:\", id(self)) # 현재 인스턴스의 주소값\n",
    "        print(\"함수2\")\n",
    "    def func3(): # self가 없으면 static method(클래스 이름으로 호출 가능)\n",
    "        print(\"함수3\")\n",
    "        \n",
    "f = Foo() # 인스턴스가 생성됨\n",
    "f.func1()\n",
    "print(\"f의 주소값:\", id(f))\n",
    "f.func2()"
   ]
  },
  {
   "cell_type": "code",
   "execution_count": 8,
   "metadata": {},
   "outputs": [
    {
     "name": "stdout",
     "output_type": "stream",
     "text": [
      "함수3\n",
      "None\n",
      "인스턴스의 주소값: 4487161840\n",
      "함수2\n",
      "인스턴스의 주소값: 4487161840\n",
      "함수2\n"
     ]
    }
   ],
   "source": [
    "print(Foo.func3())  # 클래스 이름으로 호출하는 method = > static method\n",
    "f3 = Foo()\n",
    "# Foo.func2()  # 인스턴스 method는 클래스 이름으로 직접 호출하면 에러 발생\n",
    "Foo.func2(f3) # 인스턴스의 주소값을 전달하면 호출 가능\n",
    "f3.func2()"
   ]
  },
  {
   "cell_type": "code",
   "execution_count": 9,
   "metadata": {},
   "outputs": [
    {
     "name": "stdout",
     "output_type": "stream",
     "text": [
      ", 이름: None, 나이: None, 신장: None, 체중: None\n",
      ", 이름: 김철수, 나이: 20, 신장: 170.5, 체중: 70.5\n",
      ", 이름: 김철수, 나이: 20, 신장: 170.5, 체중: 70.5\n",
      ", 이름: 안철수, 나이: 25, 신장: None, 체중: 65.7\n"
     ]
    }
   ],
   "source": [
    "# 생성자와 소멸자\n",
    "# 생성자 : __init__() <= 언더바 두개\n",
    "# 소멸자 : __del__()\n",
    "\n",
    "class Person2:\n",
    "    # 생성자(중복 생성자는 허용되지 않음)\n",
    "    # 입력매개변수값이 없을 경우 None으로 작성\n",
    "    def __init__(self, name=None, age=None, height=None, weight=None):\n",
    "        self.name = name\n",
    "        self.age = age\n",
    "        self.height = height\n",
    "        self.weight = weight\n",
    "#         print(\"생성자 호출됨\")\n",
    "        \n",
    "    # Method\n",
    "    def display(self):\n",
    "        print(', 이름:', self.name, end='')\n",
    "        print(', 나이:', self.age, end='')\n",
    "        print(', 신장:', self.height, end='')\n",
    "        print(', 체중:', self.weight, end='')\n",
    "        print()\n",
    "        \n",
    "# 입력매개변수에 전달되는 값이 없으므로 None이 할당된다.\n",
    "p = Person2()\n",
    "p.display()\n",
    "\n",
    "p = Person2()\n",
    "p.name = '김철수'\n",
    "p.age = 20\n",
    "p.height = 170.5\n",
    "p.weight = 70.5\n",
    "p.display()\n",
    "\n",
    "p = Person2('김철수', 20, 170.5, 70.5)\n",
    "p.display()\n",
    "\n",
    "p = Person2('안철수', 25, None, 65.7)\n",
    "p.display()"
   ]
  },
  {
   "cell_type": "code",
   "execution_count": 10,
   "metadata": {},
   "outputs": [
    {
     "name": "stdout",
     "output_type": "stream",
     "text": [
      "생성자2 호출...\n",
      "first: 0 second: 0 sum: 30 mul: 200 sub: -10 div: 0.5 \n",
      "생성자2 호출...\n",
      "first: 4 second: 2 sum: 6 mul: 8 sub: 2 div: 2.0 \n",
      "생성자2 호출...\n",
      "first: 4 second: 0 sum: 4 mul: 0 sub: 4 "
     ]
    }
   ],
   "source": [
    "class Calculator:\n",
    "    # 이 생성자는 호출되지 않음\n",
    "#     def __init__(self):\n",
    "#         print(\"생성자1...\")\n",
    "#         self.first = 0\n",
    "#         self.second = 0\n",
    "        \n",
    "    # 생성자(생성자 오버로딩은 허용되지 않음, 대신 None을 사용하면 됨)\n",
    "    def __init__(self, first=None, second=None):\n",
    "        print(\"생성자2 호출...\")\n",
    "        self.first = 0 if first is None else first  # java의 삼항 연산자와 비슷\n",
    "        self.second = 0 if second is None else second\n",
    "        \n",
    "    # 소멸자\n",
    "    def __del__(self):\n",
    "        print(\"소멸자 호출...\")\n",
    "    def setData(self, first, second):\n",
    "        self.first = first\n",
    "        self.second = second\n",
    "    def sum(self):\n",
    "        result = self.first + self.second\n",
    "        return result\n",
    "    def mul(self):\n",
    "        result = self.first * self.second\n",
    "        return result\n",
    "    def sub(self):\n",
    "        result = self.first - self.second\n",
    "        return result\n",
    "    def div(self):\n",
    "#         if self.second == 0:\n",
    "#             return 0\n",
    "        result = self.first / self.second\n",
    "        return result\n",
    "    \n",
    "a = Calculator()\n",
    "print(\"first:\", a.first, end = ' ')\n",
    "print(\"second:\", a.second, end = ' ')\n",
    "a.setData(10, 20)\n",
    "print(\"sum:\", a.sum(), end = ' ')\n",
    "print(\"mul:\", a.mul(), end = ' ')\n",
    "print(\"sub:\", a.sub(), end = ' ')\n",
    "print(\"div:\", a.div(), end = ' ')\n",
    "print()\n",
    "\n",
    "b = Calculator(4, 2)\n",
    "print(\"first:\", b.first, end = ' ')\n",
    "print(\"second:\", b.second, end = ' ')\n",
    "print(\"sum:\", b.sum(), end = ' ')\n",
    "print(\"mul:\", b.mul(), end = ' ')\n",
    "print(\"sub:\", b.sub(), end = ' ')\n",
    "print(\"div:\", b.div(), end = ' ')\n",
    "print()\n",
    "\n",
    "c = Calculator(4)\n",
    "print(\"first:\", c.first, end = ' ')\n",
    "print(\"second:\", c.second, end = ' ')\n",
    "print(\"sum:\", c.sum(), end = ' ')\n",
    "print(\"mul:\", c.mul(), end = ' ')\n",
    "print(\"sub:\", c.sub(), end = ' ')\n",
    "# print(\"div:\", c.div(), end = ' ')\n",
    "# print()"
   ]
  },
  {
   "cell_type": "code",
   "execution_count": 11,
   "metadata": {},
   "outputs": [
    {
     "name": "stdout",
     "output_type": "stream",
     "text": [
      "생성자2 호출...\n",
      "소멸자 호출...\n",
      "sum: 6\n",
      "mul: 8\n",
      "sub: -2\n",
      "div: 0.5\n",
      "pow: 16\n",
      "생성자2 호출...\n",
      "소멸자 호출...\n"
     ]
    }
   ],
   "source": [
    "# 클래스 상속\n",
    "# class 클래스명(상속할 클래스명)\n",
    "class Calc2(Calculator):\n",
    "    def pow(self):\n",
    "        result = self.first ** self.second # 거듭제곱 연산자\n",
    "        return result\n",
    "    \n",
    "a = Calc2(2,4)\n",
    "\n",
    "# 상위 클래스의 method 호출\n",
    "print(\"sum:\", a.sum())\n",
    "print(\"mul:\", a.mul())\n",
    "print(\"sub:\", a.sub())\n",
    "print(\"div:\", a.div())\n",
    "\n",
    "# 하위 클래스에서 추가한 method 호출\n",
    "print(\"pow:\", a.pow())\n",
    "\n",
    "# 상위 클래스 Calculator에서 두번째 입력매개변수에 0을 입력하면 에러 발생\n",
    "b = Calculator(4, 0)\n",
    "# print(\"div:\", b.div())"
   ]
  },
  {
   "cell_type": "code",
   "execution_count": 12,
   "metadata": {},
   "outputs": [
    {
     "name": "stdout",
     "output_type": "stream",
     "text": [
      "생성자2 호출...\n",
      "소멸자 호출...\n",
      "0으로 나눌 수 없습니다.\n",
      "div: 0\n"
     ]
    }
   ],
   "source": [
    "# 분모에 0이 올 경우 0을 리턴하도록 코드 변경\n",
    "class Calc3(Calculator):\n",
    "    # method override\n",
    "    def div(self):\n",
    "        if self.second == 0:\n",
    "            print(\"0으로 나눌 수 없습니다.\")\n",
    "            return 0\n",
    "        else:\n",
    "            return self.first / self.second\n",
    "        \n",
    "c = Calc3(2,0)\n",
    "print(\"div:\", c.div())"
   ]
  },
  {
   "cell_type": "code",
   "execution_count": 13,
   "metadata": {},
   "outputs": [
    {
     "name": "stdout",
     "output_type": "stream",
     "text": [
      "통화기능\n",
      "촬영기능\n",
      "영상통화기능\n"
     ]
    }
   ],
   "source": [
    "# 파이썬에서는 다중상속이 가능하다.\n",
    "# class 자식 클래스(부모1, 부모2)\n",
    "class Phone:\n",
    "    def call(self):\n",
    "        print('통화기능')\n",
    "        \n",
    "class Camera:\n",
    "    def picture(self):\n",
    "        print('촬영기능')\n",
    "\n",
    "class CameraPhone(Phone, Camera):\n",
    "    def pictureCall(self):\n",
    "        print('영상통화기능')\n",
    "        \n",
    "p = CameraPhone()\n",
    "p.call()\n",
    "p.picture()\n",
    "p.pictureCall()"
   ]
  },
  {
   "cell_type": "code",
   "execution_count": 14,
   "metadata": {},
   "outputs": [],
   "source": [
    "# 데이터 은닉\n",
    "# java와 같이 완벽한 캡슐화, 은닉화는 어렵다.\n",
    "## __(언더바 두개)로 시작하는 변수는 외부에서 직접 값을 읽거나 바꿀 수 없다.\n",
    "class BookReader:\n",
    "    __country = 'Korea'\n",
    "    def updateCountry(self, country):\n",
    "        self.__country = country\n",
    "    def getCountry(self):\n",
    "        return self.__country"
   ]
  },
  {
   "cell_type": "code",
   "execution_count": 15,
   "metadata": {},
   "outputs": [
    {
     "name": "stdout",
     "output_type": "stream",
     "text": [
      "['_BookReader__country', '__class__', '__delattr__', '__dict__', '__dir__', '__doc__', '__eq__', '__format__', '__ge__', '__getattribute__', '__gt__', '__hash__', '__init__', '__init_subclass__', '__le__', '__lt__', '__module__', '__ne__', '__new__', '__reduce__', '__reduce_ex__', '__repr__', '__setattr__', '__sizeof__', '__str__', '__subclasshook__', '__weakref__', 'getCountry', 'updateCountry']\n"
     ]
    }
   ],
   "source": [
    "# BookReader 클래스의 모든 인스턴스 확인\n",
    "# __를 붙인 변수는 _클래스이름__ 변수로 이름이 바뀐다.\n",
    "# __country => _BookReader__country\n",
    "print(dir(BookReader))"
   ]
  },
  {
   "cell_type": "code",
   "execution_count": 16,
   "metadata": {},
   "outputs": [
    {
     "name": "stdout",
     "output_type": "stream",
     "text": [
      "Korea\n"
     ]
    }
   ],
   "source": [
    "br = BookReader()\n",
    "print(br.getCountry())\n"
   ]
  },
  {
   "cell_type": "code",
   "execution_count": 17,
   "metadata": {},
   "outputs": [
    {
     "ename": "AttributeError",
     "evalue": "'BookReader' object has no attribute '__country'",
     "output_type": "error",
     "traceback": [
      "\u001b[0;31m---------------------------------------------------------------------------\u001b[0m",
      "\u001b[0;31mAttributeError\u001b[0m                            Traceback (most recent call last)",
      "\u001b[0;32m<ipython-input-17-8ff6e94ba076>\u001b[0m in \u001b[0;36m<module>\u001b[0;34m\u001b[0m\n\u001b[0;32m----> 1\u001b[0;31m \u001b[0mprint\u001b[0m\u001b[0;34m(\u001b[0m\u001b[0mbr\u001b[0m\u001b[0;34m.\u001b[0m\u001b[0m__country\u001b[0m\u001b[0;34m)\u001b[0m \u001b[0;31m# 에러 발생\u001b[0m\u001b[0;34m\u001b[0m\u001b[0;34m\u001b[0m\u001b[0m\n\u001b[0m",
      "\u001b[0;31mAttributeError\u001b[0m: 'BookReader' object has no attribute '__country'"
     ]
    }
   ],
   "source": [
    "print(br.__country) # 에러 발생\n"
   ]
  },
  {
   "cell_type": "code",
   "execution_count": 18,
   "metadata": {},
   "outputs": [
    {
     "name": "stdout",
     "output_type": "stream",
     "text": [
      "Korea\n"
     ]
    }
   ],
   "source": [
    "# __로 시작하는 변수는 아래와 같이 사용할 수 있다.\n",
    "print(BookReader._BookReader__country)\n"
   ]
  },
  {
   "cell_type": "code",
   "execution_count": 19,
   "metadata": {},
   "outputs": [
    {
     "name": "stdout",
     "output_type": "stream",
     "text": [
      "Korea\n"
     ]
    }
   ],
   "source": [
    "# __로 시작하는 변수는 값이 바뀌지 않는다.\n",
    "br.__country = 'USA'\n",
    "print(br.getCountry())"
   ]
  },
  {
   "cell_type": "code",
   "execution_count": 20,
   "metadata": {},
   "outputs": [
    {
     "name": "stdout",
     "output_type": "stream",
     "text": [
      "China\n"
     ]
    }
   ],
   "source": [
    "# method를 호출하여 수정할 경우는 변경이 가능하다.\n",
    "br.updateCountry('China')\n",
    "print(br.getCountry())"
   ]
  },
  {
   "cell_type": "code",
   "execution_count": 21,
   "metadata": {},
   "outputs": [
    {
     "name": "stdout",
     "output_type": "stream",
     "text": [
      "전화 기능\n",
      "통화 기능\n",
      "통화+카메라 기능\n",
      "통화+카메라+인터넷 기능\n"
     ]
    }
   ],
   "source": [
    "# 다형성\n",
    "# 오버라이딩(overriding, method 재정의)\n",
    "\n",
    "class Phone:\n",
    "    def call(self):\n",
    "        print('전화 기능')\n",
    "        \n",
    "class FolderPhone(Phone):\n",
    "    def call(self):\n",
    "        print('통화 기능')\n",
    "        \n",
    "class CameraPhone(Phone):\n",
    "    def call(self):\n",
    "        print('통화+카메라 기능')\n",
    "        \n",
    "class SmartPhone(Phone):\n",
    "    def call(self):\n",
    "        print('통화+카메라+인터넷 기능')\n",
    "        \n",
    "p = Phone()\n",
    "p.call()\n",
    "p = FolderPhone()\n",
    "p.call()\n",
    "p = CameraPhone()\n",
    "p.call()\n",
    "p = SmartPhone()\n",
    "p.call()"
   ]
  },
  {
   "cell_type": "code",
   "execution_count": null,
   "metadata": {},
   "outputs": [],
   "source": []
  }
 ],
 "metadata": {
  "kernelspec": {
   "display_name": "Python 3",
   "language": "python",
   "name": "python3"
  },
  "language_info": {
   "codemirror_mode": {
    "name": "ipython",
    "version": 3
   },
   "file_extension": ".py",
   "mimetype": "text/x-python",
   "name": "python",
   "nbconvert_exporter": "python",
   "pygments_lexer": "ipython3",
   "version": "3.7.1"
  }
 },
 "nbformat": 4,
 "nbformat_minor": 2
}
