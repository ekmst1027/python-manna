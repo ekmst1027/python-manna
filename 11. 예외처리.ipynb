{
 "cells": [
  {
   "cell_type": "markdown",
   "metadata": {},
   "source": [
    "# 11. 예외처리\n",
    "<br/>\n",
    "\n",
    "## 가.  에러와 예외\n",
    "1) 에러 (Syntax Error)\n",
    "    - 문법적 에러\n",
    "    - 파이썬은 상대적으로 언어적 문법이 간단하기 때문에 구문 자체의 에러 발생 비율이 낮음\n",
    "    \n",
    "2) 예외 (Exception)\n",
    "    - 구문 에러는 없으나 프로그램 실행 중 더 이상 진행할 수 없는 상황\n",
    "    - 예외가 발생하면 프로그램은 바로 종료됨\n",
    "    \n",
    "    \n",
    "## 나. 예외 처리 방법\n",
    "try:\n",
    "    - (예외 발생 가능한) 문장들\n",
    "    \n",
    "except Exception:\n",
    "    - 예외가 발생했을 때 실행되는 문장들\n",
    "    \n",
    "else:\n",
    "    - 예외가 발생하지 않았을 때 실행되는 문장들\n",
    "    \n",
    "finally:\n",
    "    - 예외 발생 유무와 관계없이 항상 실행되는 문장들\n"
   ]
  },
  {
   "cell_type": "code",
   "execution_count": 1,
   "metadata": {},
   "outputs": [
    {
     "ename": "ZeroDivisionError",
     "evalue": "division by zero",
     "output_type": "error",
     "traceback": [
      "\u001b[1;31m---------------------------------------------------------------------------\u001b[0m",
      "\u001b[1;31mZeroDivisionError\u001b[0m                         Traceback (most recent call last)",
      "\u001b[1;32m<ipython-input-1-221068dc2815>\u001b[0m in \u001b[0;36m<module>\u001b[1;34m\u001b[0m\n\u001b[1;32m----> 1\u001b[1;33m \u001b[1;36m4\u001b[0m\u001b[1;33m/\u001b[0m\u001b[1;36m0\u001b[0m\u001b[1;33m\u001b[0m\u001b[1;33m\u001b[0m\u001b[0m\n\u001b[0m",
      "\u001b[1;31mZeroDivisionError\u001b[0m: division by zero"
     ]
    }
   ],
   "source": [
    "4/0"
   ]
  },
  {
   "cell_type": "code",
   "execution_count": 4,
   "metadata": {},
   "outputs": [
    {
     "name": "stdout",
     "output_type": "stream",
     "text": [
      "시작\n",
      "division by zero\n",
      "끝\n"
     ]
    }
   ],
   "source": [
    "print(\"시작\")\n",
    "try:\n",
    "    4/0 # 예외가 발생할 가능성이 있는 코드\n",
    "except ZeroDivisionError as e:\n",
    "    print(e) # 예외가 발생했을 때의 코드\n",
    "print(\"끝\")"
   ]
  },
  {
   "cell_type": "code",
   "execution_count": 6,
   "metadata": {},
   "outputs": [
    {
     "name": "stdout",
     "output_type": "stream",
     "text": [
      "종료하려면 q를 입력하세요.\n",
      "\n",
      "분자: 2\n",
      "분모: 3\n",
      "0.6666666666666666\n",
      "계산 완료...\n",
      "\n",
      "분자: 1\n",
      "분모: 4\n",
      "0.25\n",
      "계산 완료...\n",
      "\n",
      "분자: 6\n",
      "분모: 5\n",
      "1.2\n",
      "계산 완료...\n",
      "\n",
      "분자: 5\n",
      "분모: 0\n",
      "분모에 0이 올 수 없습니다.\n",
      "계산 완료...\n",
      "\n",
      "분자: q\n",
      "프로그램을 종료합니다.\n"
     ]
    }
   ],
   "source": [
    "print(\"종료하려면 q를 입력하세요.\")\n",
    "\n",
    "while True:\n",
    "    num1 = input(\"\\n분자: \")\n",
    "    if num1 == 'q':\n",
    "        break\n",
    "        \n",
    "    num2 = input(\"분모: \")\n",
    "    try: # 예외가 발생할 가능성이 있는 코드\n",
    "        result = int(num1) / int(num2)\n",
    "    except ZeroDivisionError: # 예외가 발생할 때 실행\n",
    "        print(\"분모에 0이 올 수 없습니다.\")\n",
    "    else: # 예외가 발생하지 않을 때 실행\n",
    "        print(result)\n",
    "    finally:\n",
    "        print(\"계산 완료...\")\n",
    "        \n",
    "print(\"프로그램을 종료합니다.\")"
   ]
  },
  {
   "cell_type": "code",
   "execution_count": 7,
   "metadata": {},
   "outputs": [
    {
     "name": "stdout",
     "output_type": "stream",
     "text": [
      "start\n",
      "TypeError : unsupported operand type(s) for +: 'int' and 'str'\n",
      "end\n"
     ]
    }
   ],
   "source": [
    "def exception_test():\n",
    "    print('start')\n",
    "    try:\n",
    "        print(2 + '2')\n",
    "    except TypeError as e:\n",
    "        # 자세한 에러 메시지 출력\n",
    "        print('TypeError : {0}'.format(e))\n",
    "    print('end')\n",
    "    \n",
    "exception_test()"
   ]
  },
  {
   "cell_type": "code",
   "execution_count": 8,
   "metadata": {},
   "outputs": [
    {
     "name": "stdout",
     "output_type": "stream",
     "text": [
      "start\n",
      "end\n"
     ]
    },
    {
     "name": "stderr",
     "output_type": "stream",
     "text": [
      "Traceback (most recent call last):\n",
      "  File \"<ipython-input-8-39789fa2fa2d>\", line 6, in exception_test\n",
      "    print(2 + '2')\n",
      "TypeError: unsupported operand type(s) for +: 'int' and 'str'\n"
     ]
    }
   ],
   "source": [
    "import traceback\n",
    "\n",
    "def exception_test():\n",
    "    print('start')\n",
    "    try:\n",
    "        print(2 + '2')\n",
    "    except TypeError as e:\n",
    "        # 트레이스백 메시지를 출력\n",
    "        traceback.print_exc()\n",
    "    print('end')\n",
    "    \n",
    "exception_test()"
   ]
  },
  {
   "cell_type": "code",
   "execution_count": 10,
   "metadata": {},
   "outputs": [
    {
     "name": "stdout",
     "output_type": "stream",
     "text": [
      "[Errno 2] No such file or directory: 'D:/대학원/1학년 2학기/mannaEDU/python/source/test.txt'\n"
     ]
    }
   ],
   "source": [
    "# 텍스트 파일을 작성한 후 실습\n",
    "try:\n",
    "    f = open('D:/대학원/1학년 2학기/mannaEDU/python/source/test.txt', 'r')\n",
    "    f = open(\"/Users/kyeongmin/Documents/python_basic/mannaedu/source/test.txt\", \"w\")\n",
    "except FileNotFoundError as e:\n",
    "    print(e)\n",
    "else: # 예외가 발생하지 않을 경우 실행되는 코드\n",
    "    while True:\n",
    "        line = f.readline()\n",
    "        if not line: break\n",
    "        print(line, end = '')\n",
    "    f.close()"
   ]
  },
  {
   "cell_type": "code",
   "execution_count": null,
   "metadata": {},
   "outputs": [],
   "source": []
  },
  {
   "cell_type": "code",
   "execution_count": null,
   "metadata": {},
   "outputs": [],
   "source": []
  }
 ],
 "metadata": {
  "kernelspec": {
   "display_name": "Python 3",
   "language": "python",
   "name": "python3"
  },
  "language_info": {
   "codemirror_mode": {
    "name": "ipython",
    "version": 3
   },
   "file_extension": ".py",
   "mimetype": "text/x-python",
   "name": "python",
   "nbconvert_exporter": "python",
   "pygments_lexer": "ipython3",
   "version": "3.6.7"
  }
 },
 "nbformat": 4,
 "nbformat_minor": 2
}
