{
 "cells": [
  {
   "cell_type": "markdown",
   "metadata": {},
   "source": [
    "# 11. 예외처리\n",
    "<br/>\n",
    "\n",
    "## 가.  에러와 예외\n",
    "1) 에러 (Syntax Error)\n",
    "    - 문법적 에러\n",
    "    - 파이썬은 상대적으로 언어적 문법이 간단하기 때문에 구문 자체의 에러 발생 비율이 낮음\n",
    "    \n",
    "2) 예외 (Exception)\n",
    "    - 구문 에러는 없으나 프로그램 실행 중 더 이상 진행할 수 없는 상황\n",
    "    - 예외가 발생하면 프로그램은 바로 종료됨\n",
    "    \n",
    "    \n",
    "## 나. 예외 처리 방법\n",
    "try:\n",
    "    - (예외 발생 가능한) 문장들\n",
    "    \n",
    "except Exception:\n",
    "    - 예외가 발생했을 때 실행되는 문장들\n",
    "    \n",
    "else:\n",
    "    - 예외가 발생하지 않았을 때 실행되는 문장들\n",
    "    \n",
    "finally:\n",
    "    - 예외 발생 유무와 관계없이 항상 실행되는 문장들\n"
   ]
  },
  {
   "cell_type": "code",
   "execution_count": 1,
   "metadata": {},
   "outputs": [
    {
     "ename": "ZeroDivisionError",
     "evalue": "division by zero",
     "output_type": "error",
     "traceback": [
      "\u001b[1;31m---------------------------------------------------------------------------\u001b[0m",
      "\u001b[1;31mZeroDivisionError\u001b[0m                         Traceback (most recent call last)",
      "\u001b[1;32m<ipython-input-1-221068dc2815>\u001b[0m in \u001b[0;36m<module>\u001b[1;34m\u001b[0m\n\u001b[1;32m----> 1\u001b[1;33m \u001b[1;36m4\u001b[0m\u001b[1;33m/\u001b[0m\u001b[1;36m0\u001b[0m\u001b[1;33m\u001b[0m\u001b[1;33m\u001b[0m\u001b[0m\n\u001b[0m",
      "\u001b[1;31mZeroDivisionError\u001b[0m: division by zero"
     ]
    }
   ],
   "source": [
    "4/0"
   ]
  },
  {
   "cell_type": "code",
   "execution_count": 4,
   "metadata": {},
   "outputs": [
    {
     "name": "stdout",
     "output_type": "stream",
     "text": [
      "시작\n",
      "division by zero\n",
      "끝\n"
     ]
    }
   ],
   "source": [
    "print(\"시작\")\n",
    "try:\n",
    "    4/0 # 예외가 발생할 가능성이 있는 코드\n",
    "except ZeroDivisionError as e:\n",
    "    print(e) # 예외가 발생했을 때의 코드\n",
    "print(\"끝\")"
   ]
  },
  {
   "cell_type": "code",
   "execution_count": null,
   "metadata": {},
   "outputs": [],
   "source": []
  },
  {
   "cell_type": "code",
   "execution_count": null,
   "metadata": {},
   "outputs": [],
   "source": []
  }
 ],
 "metadata": {
  "kernelspec": {
   "display_name": "Python 3",
   "language": "python",
   "name": "python3"
  },
  "language_info": {
   "codemirror_mode": {
    "name": "ipython",
    "version": 3
   },
   "file_extension": ".py",
   "mimetype": "text/x-python",
   "name": "python",
   "nbconvert_exporter": "python",
   "pygments_lexer": "ipython3",
   "version": "3.6.7"
  }
 },
 "nbformat": 4,
 "nbformat_minor": 2
}
