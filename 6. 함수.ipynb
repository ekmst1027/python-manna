{
 "cells": [
  {
   "cell_type": "code",
   "execution_count": 1,
   "metadata": {},
   "outputs": [
    {
     "name": "stdout",
     "output_type": "stream",
     "text": [
      "3\n",
      "10\n"
     ]
    }
   ],
   "source": [
    "# abs() 절대값 계산 함수\n",
    "print(abs(-3))\n",
    "print(abs(10))"
   ]
  },
  {
   "cell_type": "code",
   "execution_count": 2,
   "metadata": {},
   "outputs": [
    {
     "name": "stdout",
     "output_type": "stream",
     "text": [
      "True\n",
      "False\n"
     ]
    }
   ],
   "source": [
    "# 모든 값이 True이면 True, 0이 아니면 True, 0이면 False\n",
    "print(all([1,2,3]))\n",
    "print(all([1,2,3,0]))"
   ]
  },
  {
   "cell_type": "code",
   "execution_count": 3,
   "metadata": {},
   "outputs": [
    {
     "name": "stdout",
     "output_type": "stream",
     "text": [
      "True\n",
      "False\n"
     ]
    }
   ],
   "source": [
    "# 하나라도 False가 아니면 True\n",
    "print(any([0,1,2]))\n",
    "print(any([0, \"\"]))"
   ]
  },
  {
   "cell_type": "code",
   "execution_count": 4,
   "metadata": {},
   "outputs": [
    {
     "name": "stdout",
     "output_type": "stream",
     "text": [
      "['__add__', '__class__', '__contains__', '__delattr__', '__delitem__', '__dir__', '__doc__', '__eq__', '__format__', '__ge__', '__getattribute__', '__getitem__', '__gt__', '__hash__', '__iadd__', '__imul__', '__init__', '__init_subclass__', '__iter__', '__le__', '__len__', '__lt__', '__mul__', '__ne__', '__new__', '__reduce__', '__reduce_ex__', '__repr__', '__reversed__', '__rmul__', '__setattr__', '__setitem__', '__sizeof__', '__str__', '__subclasshook__', 'append', 'clear', 'copy', 'count', 'extend', 'index', 'insert', 'pop', 'remove', 'reverse', 'sort']\n"
     ]
    }
   ],
   "source": [
    "print(dir([1,2,3]))"
   ]
  },
  {
   "cell_type": "code",
   "execution_count": 5,
   "metadata": {},
   "outputs": [
    {
     "name": "stdout",
     "output_type": "stream",
     "text": [
      "['__class__', '__contains__', '__delattr__', '__delitem__', '__dir__', '__doc__', '__eq__', '__format__', '__ge__', '__getattribute__', '__getitem__', '__gt__', '__hash__', '__init__', '__init_subclass__', '__iter__', '__le__', '__len__', '__lt__', '__ne__', '__new__', '__reduce__', '__reduce_ex__', '__repr__', '__setattr__', '__setitem__', '__sizeof__', '__str__', '__subclasshook__', 'clear', 'copy', 'fromkeys', 'get', 'items', 'keys', 'pop', 'popitem', 'setdefault', 'update', 'values']\n"
     ]
    }
   ],
   "source": [
    "print(dir({\"1\":\"a\"}))"
   ]
  },
  {
   "cell_type": "code",
   "execution_count": 6,
   "metadata": {},
   "outputs": [
    {
     "name": "stdout",
     "output_type": "stream",
     "text": [
      "(2, 1)\n",
      "(6.0, 0.09999999999999998)\n"
     ]
    }
   ],
   "source": [
    "# divmod(a, b) a를 b로 나눈 몫과 나머지를 튜플 형태로 리턴\n",
    "print(divmod(7, 3))\n",
    "print(divmod(1.3, 0.2))"
   ]
  },
  {
   "cell_type": "code",
   "execution_count": 7,
   "metadata": {},
   "outputs": [
    {
     "name": "stdout",
     "output_type": "stream",
     "text": [
      "0 10\n",
      "1 20\n",
      "2 30\n",
      "3 40\n",
      "4 50\n"
     ]
    }
   ],
   "source": [
    "# enumerate() 순서가 있는 자료형(리스트, 튜플, 문자열)을 입력받아\n",
    "# 인덱스 값을 포함하는 enumerate 객체를 리턴\n",
    "for i, num in enumerate([10,20,30,40,50]):\n",
    "    print(i, num)"
   ]
  },
  {
   "cell_type": "code",
   "execution_count": 8,
   "metadata": {},
   "outputs": [
    {
     "name": "stdout",
     "output_type": "stream",
     "text": [
      "1+2\n",
      "3\n",
      "(1, 1)\n"
     ]
    }
   ],
   "source": [
    "# eval(expression) : 실행가능한 문자열을 입력받아 문자열을 실행한 결과값을 리턴\n",
    "print('1+2')\n",
    "print(eval('1+2'))\n",
    "print(eval('divmod(4,3)'))"
   ]
  },
  {
   "cell_type": "code",
   "execution_count": 9,
   "metadata": {},
   "outputs": [
    {
     "name": "stdout",
     "output_type": "stream",
     "text": [
      "<class 'int'>\n",
      "3\n",
      "4\n",
      "15\n",
      "255\n"
     ]
    }
   ],
   "source": [
    "# int(x) : 문자열 형태의 숫자나 소수점이 있는 숫자 등을 정수 형태로 바꿔줌\n",
    "a = int('3')\n",
    "print(type(a))\n",
    "print(a)\n",
    "b = int(3.5)\n",
    "b = int(4.5)\n",
    "print(b)\n",
    "# int(입력값, 진법) : 입력된 값을 radix 진수로 표현\n",
    "# 2진수 1111을 10진수로\n",
    "c = int('1111', 2)\n",
    "print(c)\n",
    "# 16진수 FF를 10진수로\n",
    "d = int('FF', 16)\n",
    "print(d)"
   ]
  },
  {
   "cell_type": "code",
   "execution_count": 10,
   "metadata": {},
   "outputs": [
    {
     "name": "stdout",
     "output_type": "stream",
     "text": [
      "['사과', '배', '수박', '바나나', '포도']\n",
      "<class 'list'>\n",
      "사과.배.수박.바나나.포도\n",
      "<class 'str'>\n",
      "사과/배/수박/바나나/포도\n",
      "사과\n",
      "배\n",
      "수박\n",
      "바나나\n",
      "포도\n"
     ]
    }
   ],
   "source": [
    "# join 리스트를 특정 구분자를 포함하여 문자열로 변환\n",
    "fruits = ['사과', '배', '수박', '바나나', '포도']\n",
    "\n",
    "# 리스트의 각 요소와 쉼표 구분자를 연결\n",
    "print(fruits)\n",
    "print(type(fruits))\n",
    "print('.'.join(fruits))\n",
    "print(type('.'.join(fruits)))\n",
    "print('/'.join(fruits))\n",
    "print('\\n'.join(fruits))"
   ]
  },
  {
   "cell_type": "code",
   "execution_count": 11,
   "metadata": {},
   "outputs": [
    {
     "name": "stdout",
     "output_type": "stream",
     "text": [
      "6\n",
      "3\n",
      "2\n"
     ]
    }
   ],
   "source": [
    "# len(s) : 요소의 전체 갯수\n",
    "a = len(\"python\")\n",
    "print(a)\n",
    "b = len([1,2,3])\n",
    "print(b)\n",
    "c = len((1, 'a'))\n",
    "print(c)"
   ]
  },
  {
   "cell_type": "code",
   "execution_count": 12,
   "metadata": {},
   "outputs": [
    {
     "name": "stdout",
     "output_type": "stream",
     "text": [
      "['p', 'y', 't', 'h', 'o', 'n']\n",
      "[1, 2, 3]\n"
     ]
    }
   ],
   "source": [
    "# list(s) : 리스트를 리턴\n",
    "a = list(\"python\") # 문자열을 리스트로\n",
    "print(a)\n",
    "b = list((1,2,3)) # 튜플을 리스트로\n",
    "print(b)"
   ]
  },
  {
   "cell_type": "code",
   "execution_count": 13,
   "metadata": {},
   "outputs": [
    {
     "name": "stdout",
     "output_type": "stream",
     "text": [
      "20\n",
      "[2, 4, 6, 8]\n",
      "[2, 3, 4, 5, 6]\n"
     ]
    }
   ],
   "source": [
    "# def 함수이름(입력매개변수)\n",
    "def calc(x):\n",
    "    return x*2\n",
    "\n",
    "print(calc(10))\n",
    "\n",
    "# map(함수이름, 입력값)\n",
    "a = list(map(calc, [1,2,3,4]))\n",
    "print(a)\n",
    "\n",
    "def plus(x):\n",
    "    return x+1\n",
    "\n",
    "print(list(map(plus, [1,2,3,4,5])))"
   ]
  },
  {
   "cell_type": "code",
   "execution_count": 14,
   "metadata": {},
   "outputs": [
    {
     "name": "stdout",
     "output_type": "stream",
     "text": [
      "3\n",
      "y\n"
     ]
    }
   ],
   "source": [
    "# max(iterable) : 최대값 리턴\n",
    "a = max([1,2,3])\n",
    "print(a)\n",
    "\n",
    "# 문자열에서는 문자코득밧이 가장 큰 문자 리턴\n",
    "b = max(\"python\")\n",
    "print(b)"
   ]
  },
  {
   "cell_type": "code",
   "execution_count": 15,
   "metadata": {},
   "outputs": [
    {
     "name": "stdout",
     "output_type": "stream",
     "text": [
      "1\n",
      "h\n"
     ]
    }
   ],
   "source": [
    "# min(iterable) : 최소값 리턴\n",
    "a = min([1,2,3])\n",
    "print(a)\n",
    "b = min(\"python\")\n",
    "print(b)"
   ]
  },
  {
   "cell_type": "code",
   "execution_count": 16,
   "metadata": {},
   "outputs": [
    {
     "name": "stdout",
     "output_type": "stream",
     "text": [
      "16\n",
      "27\n"
     ]
    }
   ],
   "source": [
    "# pow(x, y) x를 y 제곱한 결과 리턴\n",
    "a = pow(2, 4)\n",
    "print(a)\n",
    "b = pow(3, 3)\n",
    "print(b)"
   ]
  },
  {
   "cell_type": "code",
   "execution_count": 17,
   "metadata": {},
   "outputs": [
    {
     "name": "stdout",
     "output_type": "stream",
     "text": [
      "range(0, 5)\n",
      "[0, 1, 2, 3, 4]\n",
      "[5, 6, 7, 8, 9]\n",
      "[1, 3, 5, 7, 9]\n",
      "[0, -1, -2, -3, -4, -5, -6, -7, -8, -9]\n"
     ]
    }
   ],
   "source": [
    "# range([start,] stop [,step])\n",
    "# 입력받은 숫자에 해당되는 범위의 값을 반복 가능한 객체로 만들어 리턴\n",
    "# 0부터 4까지\n",
    "print(range(5))\n",
    "\n",
    "a = list(range(5))\n",
    "print(a)\n",
    "\n",
    "# 5부터 9까지\n",
    "b = list(range(5, 10))\n",
    "print(b)\n",
    "\n",
    "# 1부터 9까지 2씩 증가\n",
    "c = list(range(1, 10, 2))\n",
    "print(c)\n",
    "\n",
    "# 0부터 -9까지 1씩 감소\n",
    "d = list(range(0, -10, -1))\n",
    "print(d)"
   ]
  },
  {
   "cell_type": "code",
   "execution_count": 18,
   "metadata": {},
   "outputs": [
    {
     "name": "stdout",
     "output_type": "stream",
     "text": [
      "[3, 1, 2]\n",
      "[1, 2, 3]\n",
      "[1, 2, 3]\n",
      "['a', 'b', 'c']\n",
      "['e', 'o', 'r', 'z']\n",
      "None\n",
      "[1, 2, 3]\n"
     ]
    }
   ],
   "source": [
    "# sorted(iterable) : 입력값을 정렬한 후 그 결과를 리스트로 리턴 (원본은 정렬되지 않음)\n",
    "list1 = [3,1,2]\n",
    "l = sorted(list1)\n",
    "print(list1)\n",
    "print(l)\n",
    "\n",
    "a = sorted([3, 1, 2])\n",
    "print(a)\n",
    "b = sorted(['a', 'c', 'b'])\n",
    "print(b)\n",
    "c = sorted(\"zero\")\n",
    "print(c)\n",
    "\n",
    "# 기본 내장함수 sorted()와 리스트 자료형의 sort() 함수의 차이점\n",
    "# sort() 함수는 정렬만 하고 결과를 리턴하지 않음\n",
    "items = [3,1,2]\n",
    "# 리턴값이 없기 때문에 result 변수에 None이 리턴된다.\n",
    "result = items.sort()\n",
    "print(result)\n",
    "# items 리스트는 정렬이 되어있다.\n",
    "print(items)"
   ]
  },
  {
   "cell_type": "code",
   "execution_count": 19,
   "metadata": {},
   "outputs": [
    {
     "name": "stdout",
     "output_type": "stream",
     "text": [
      "['사과', ' 포도', ' 배', ' 복숭아', ' 자두']\n"
     ]
    }
   ],
   "source": [
    "# split : 문자열을 구분자를 기준으로 리스트로 변환\n",
    "str = '사과, 포도, 배, 복숭아, 자두'\n",
    "fruits = str.split(',')\n",
    "print(fruits)"
   ]
  },
  {
   "cell_type": "code",
   "execution_count": 20,
   "metadata": {},
   "outputs": [
    {
     "name": "stdout",
     "output_type": "stream",
     "text": [
      "\n",
      "\t hi \n",
      "hi\n"
     ]
    }
   ],
   "source": [
    "# strip() 문자열 좌우의 공백, 개행문자, 탭문자를 제거\n",
    "a = '\\n\\t hi '\n",
    "print(a)\n",
    "b = a.strip()\n",
    "print(b)"
   ]
  },
  {
   "cell_type": "code",
   "execution_count": 21,
   "metadata": {},
   "outputs": [
    {
     "name": "stdout",
     "output_type": "stream",
     "text": [
      "('a', 'b', 'c')\n",
      "['a', 'b', 'c']\n",
      "(1, 2, 3)\n",
      "[1, 2, 3]\n"
     ]
    }
   ],
   "source": [
    "# tuple(eterable) : 반복 가능한 자료형을 입력받아 튜플 형태로 바꾸어 리턴\n",
    "print(tuple(\"abc\"))\n",
    "print(list(\"abc\"))\n",
    "print(tuple([1, 2, 3])) # 리스트를 튜플로 변환\n",
    "print(list((1, 2, 3))) # 튜플을 리스트로 변환"
   ]
  },
  {
   "cell_type": "code",
   "execution_count": 22,
   "metadata": {},
   "outputs": [
    {
     "name": "stdout",
     "output_type": "stream",
     "text": [
      "<class 'str'>\n",
      "<class 'list'>\n"
     ]
    }
   ],
   "source": [
    "# type(object) : 입력값의 자료형을 리턴\n",
    "print(type('abc'))\n",
    "print(type([ ]))"
   ]
  },
  {
   "cell_type": "code",
   "execution_count": 23,
   "metadata": {},
   "outputs": [
    {
     "name": "stdout",
     "output_type": "stream",
     "text": [
      "[(1, 4), (2, 5), (3, 6)]\n",
      "[(1, 4, 7), (2, 5, 8), (3, 6, 9)]\n",
      "[('a', 'd'), ('b', 'e'), ('c', 'f')]\n"
     ]
    }
   ],
   "source": [
    "# zip(iterable) : 동일한 개수로 이루어진 자료형을 묶어 주는 역할\n",
    "# 여러 재료를 놓고 김밥을 써는 것과 비슷한 개념\n",
    "# 두 개의 리스트를 같은 인덱스의 값끼리 묶음\n",
    "a = list(zip([1, 2, 3], [4, 5, 6]))\n",
    "print(a)\n",
    "\n",
    "# 3개의 리스트를 같은 인덱스틔 값끼리 묶음\n",
    "b = list(zip([1, 2, 3], [4, 5, 6], [7, 8, 9]))\n",
    "print(b)\n",
    "\n",
    "c = list(zip(\"abc\", \"def\"))\n",
    "print(c)"
   ]
  },
  {
   "cell_type": "code",
   "execution_count": 24,
   "metadata": {},
   "outputs": [],
   "source": [
    "# def 함수이름(입력매개변수):\n",
    "# 콜론(:) - 블록의 시작\n",
    "# 들여쓰기가 끝나면 블록이 끝남\n",
    "def say():\n",
    "    # pass  - 함수에 아무 코드도 넣지 않을 때\n",
    "    print(\"Hi\")"
   ]
  },
  {
   "cell_type": "code",
   "execution_count": 25,
   "metadata": {},
   "outputs": [
    {
     "name": "stdout",
     "output_type": "stream",
     "text": [
      "Hi\n"
     ]
    }
   ],
   "source": [
    "say()"
   ]
  },
  {
   "cell_type": "code",
   "execution_count": 26,
   "metadata": {},
   "outputs": [
    {
     "name": "stdout",
     "output_type": "stream",
     "text": [
      "Hello kim\n",
      "Hello kim\n",
      "None\n"
     ]
    }
   ],
   "source": [
    "def hello(name):\n",
    "    print(\"Hello\", name)\n",
    "    \n",
    "hello(\"kim\")\n",
    "a = hello(\"kim\")\n",
    "print(a)"
   ]
  },
  {
   "cell_type": "code",
   "execution_count": 27,
   "metadata": {},
   "outputs": [],
   "source": [
    "# 아래와 같이 입력매개변수의 값이 없을 경우에 None을 활용하여 체크할 수 있음\n",
    "def hello2(name=None):\n",
    "    if name == None:\n",
    "        print('이름을 입력하세요')\n",
    "        return\n",
    "    print('Hello', name)\n",
    "    \n",
    "\n"
   ]
  },
  {
   "cell_type": "code",
   "execution_count": 28,
   "metadata": {},
   "outputs": [
    {
     "name": "stdout",
     "output_type": "stream",
     "text": [
      "이름을 입력하세요\n"
     ]
    }
   ],
   "source": [
    "hello2()"
   ]
  },
  {
   "cell_type": "code",
   "execution_count": 29,
   "metadata": {},
   "outputs": [
    {
     "name": "stdout",
     "output_type": "stream",
     "text": [
      "Hello kim\n"
     ]
    }
   ],
   "source": [
    "hello2('kim')"
   ]
  },
  {
   "cell_type": "code",
   "execution_count": 30,
   "metadata": {},
   "outputs": [
    {
     "name": "stdout",
     "output_type": "stream",
     "text": [
      "안녕\n"
     ]
    }
   ],
   "source": [
    "# 입력값이 없는 함수\n",
    "def hello():\n",
    "    return '안녕'\n",
    "\n",
    "a = hello()\n",
    "print(a)"
   ]
  },
  {
   "cell_type": "code",
   "execution_count": 31,
   "metadata": {},
   "outputs": [
    {
     "name": "stdout",
     "output_type": "stream",
     "text": [
      "3 + 4 = 7\n"
     ]
    }
   ],
   "source": [
    "# 리턴값이 없는 함수\n",
    "def sum(a, b):\n",
    "    print(\"%d + %d = %d\" % (a, b, a+b))\n",
    "    \n",
    "sum(3, 4)"
   ]
  },
  {
   "cell_type": "code",
   "execution_count": 32,
   "metadata": {},
   "outputs": [
    {
     "name": "stdout",
     "output_type": "stream",
     "text": [
      "7\n"
     ]
    }
   ],
   "source": [
    "# 입력값과 리턴값이 있는 함수\n",
    "def sum(a, b):\n",
    "    return a+b\n",
    "a = 3\n",
    "b = 4\n",
    "c = sum(a, b)\n",
    "print(c)"
   ]
  },
  {
   "cell_type": "code",
   "execution_count": 33,
   "metadata": {},
   "outputs": [
    {
     "name": "stdout",
     "output_type": "stream",
     "text": [
      "(1, 2, 3)\n",
      "6\n",
      "(1, 2, 3, 4, 5, 6, 7, 8, 9, 10)\n",
      "55\n"
     ]
    }
   ],
   "source": [
    "# 가변사이즈 매개변수\n",
    "# 여러 개의 입력값을 받는 함수 만들기\n",
    "# *변수 => 입력값들을 모두 모아서 튜플로 만들어준다.\n",
    "def sum(*args):\n",
    "    print(args)\n",
    "    result = 0\n",
    "    for i in args:\n",
    "        result += i\n",
    "    return result\n",
    "\n",
    "result = sum(1,2,3)\n",
    "print(result)\n",
    "result = sum(1,2,3,4,5,6,7,8,9,10)\n",
    "print(result)"
   ]
  },
  {
   "cell_type": "code",
   "execution_count": 34,
   "metadata": {},
   "outputs": [
    {
     "name": "stdout",
     "output_type": "stream",
     "text": [
      "\n",
      "large 피자를 주문하셨습니다.\n",
      "토핑: 더블크러스트, \n",
      "medium 피자를 주문하셨습니다.\n",
      "토핑: 파인애플, 버섯, 토마토, "
     ]
    }
   ],
   "source": [
    "def order(size, *toppings):\n",
    "    print(\"\\n\"+size+\" 피자를 주문하셨습니다.\\n토핑:\", end=' ')\n",
    "    for topping in toppings:\n",
    "        print(topping + \",\", end=' ')\n",
    "        \n",
    "order(\"large\", \"더블크러스트\")\n",
    "order(\"medium\", \"파인애플\", \"버섯\", \"토마토\")"
   ]
  },
  {
   "cell_type": "code",
   "execution_count": 35,
   "metadata": {},
   "outputs": [
    {
     "name": "stdout",
     "output_type": "stream",
     "text": [
      "(1, 2, 3, 4, 5)\n",
      "<class 'tuple'>\n",
      "1 2 3 4 5\n"
     ]
    }
   ],
   "source": [
    "# 함수의 리턴값은 여러개가 될 수 있다. (사실은 하나의 튜플)\n",
    "def a():\n",
    "    return 1,2,3,4,5\n",
    "\n",
    "result = a()\n",
    "print(result)\n",
    "print(type(result))\n",
    "a,b,c,d,e = a()\n",
    "print(a,b,c,d,e)"
   ]
  },
  {
   "cell_type": "code",
   "execution_count": 36,
   "metadata": {},
   "outputs": [
    {
     "name": "stdout",
     "output_type": "stream",
     "text": [
      "리턴값 (7, 12)\n",
      "합 : 7\n",
      "곱 : 12\n"
     ]
    }
   ],
   "source": [
    "# 튜플을 리턴하는 함수\n",
    "def sum_and_mul(a,b):\n",
    "    return a+b, a*b\n",
    "\n",
    "result = sum_and_mul(3,4)\n",
    "print(\"리턴값\", result)\n",
    "# 하나의 튜플값을 2개의 결과값으로 받고 싶을 경우\n",
    "sum, mul = sum_and_mul(3, 4)\n",
    "print(\"합 :\", sum)\n",
    "print(\"곱 :\", mul)"
   ]
  },
  {
   "cell_type": "code",
   "execution_count": 37,
   "metadata": {},
   "outputs": [
    {
     "name": "stdout",
     "output_type": "stream",
     "text": [
      "당신의 이름은 김철수 입니다.\n",
      "당신의 나이는 27살입니다.\n",
      "당신의 이름은 김선영 입니다.\n",
      "당신의 나이는 20살입니다.\n"
     ]
    }
   ],
   "source": [
    "# default 입력매개변수 - default 입력매개변수는 마지막에 위치해야 함\n",
    "def say(name, age=20):\n",
    "    print(\"당신의 이름은 %s 입니다.\" % name)\n",
    "    print(\"당신의 나이는 %d살입니다.\" % age)\n",
    "    \n",
    "# 두번째 값이 빈값인 경우 default 값으로 처리된다.\n",
    "say(\"김철수\", 27)\n",
    "say(\"김선영\")"
   ]
  },
  {
   "cell_type": "code",
   "execution_count": 38,
   "metadata": {},
   "outputs": [
    {
     "name": "stdout",
     "output_type": "stream",
     "text": [
      "1\n",
      "2\n"
     ]
    }
   ],
   "source": [
    "# 지역변수와 전역변수\n",
    "a = 1 # 전역변수\n",
    "def test(a):\n",
    "    # 입력매개변수 a는 지역변수이다\n",
    "    a += 1 # 지역변수\n",
    "    \n",
    "# 전역변수의 값은 그대로 1이다\n",
    "test(a)\n",
    "print(a)\n",
    "a = 1\n",
    "\n",
    "def test():\n",
    "    global a\n",
    "    a += 1\n",
    "    \n",
    "test()\n",
    "print(a)"
   ]
  },
  {
   "cell_type": "code",
   "execution_count": 39,
   "metadata": {},
   "outputs": [
    {
     "name": "stdout",
     "output_type": "stream",
     "text": [
      "{'name': '김철수', 'job': '작가', 'age': 27}\n"
     ]
    }
   ],
   "source": [
    "# 함수로 딕셔너리 반환\n",
    "def set_person(name, job, age=''):\n",
    "    person = {'name' : name, 'job': job}\n",
    "    # 딕셔너리에 새로운 변수 추가\n",
    "    if age:\n",
    "        person['age'] = age\n",
    "    # 딕셔너리를 리턴\n",
    "    return person\n",
    "\n",
    "writer = set_person('김철수', '작가', 27)\n",
    "print(writer)"
   ]
  },
  {
   "cell_type": "code",
   "execution_count": 40,
   "metadata": {},
   "outputs": [
    {
     "name": "stdout",
     "output_type": "stream",
     "text": [
      "김철호님 환영합니다.\n",
      "나철호님 환영합니다.\n",
      "송민수님 환영합니다.\n"
     ]
    }
   ],
   "source": [
    "# 함수에 리스트 전달\n",
    "def greet(names):\n",
    "    for name in names:\n",
    "        msg = name + \"님 환영합니다.\"\n",
    "        print(msg)\n",
    "        \n",
    "names = ['김철호', '나철호', '송민수']\n",
    "greet(names)"
   ]
  },
  {
   "cell_type": "code",
   "execution_count": null,
   "metadata": {},
   "outputs": [],
   "source": []
  }
 ],
 "metadata": {
  "kernelspec": {
   "display_name": "Python 3",
   "language": "python",
   "name": "python3"
  },
  "language_info": {
   "codemirror_mode": {
    "name": "ipython",
    "version": 3
   },
   "file_extension": ".py",
   "mimetype": "text/x-python",
   "name": "python",
   "nbconvert_exporter": "python",
   "pygments_lexer": "ipython3",
   "version": "3.7.1"
  }
 },
 "nbformat": 4,
 "nbformat_minor": 2
}
